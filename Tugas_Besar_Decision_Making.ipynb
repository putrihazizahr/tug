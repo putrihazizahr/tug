{
  "cells": [
    {
      "cell_type": "markdown",
      "metadata": {
        "id": "view-in-github",
        "colab_type": "text"
      },
      "source": [
        "<a href=\"https://colab.research.google.com/github/putrihazizahr/tug/blob/main/Tugas_Besar_Decision_Making.ipynb\" target=\"_parent\"><img src=\"https://colab.research.google.com/assets/colab-badge.svg\" alt=\"Open In Colab\"/></a>"
      ]
    },
    {
      "cell_type": "markdown",
      "metadata": {
        "id": "XbZqMdhppd8c"
      },
      "source": [
        "# Kelompok 4 Decision Making"
      ]
    },
    {
      "cell_type": "markdown",
      "metadata": {
        "id": "BE_hKTHbpr6a"
      },
      "source": [
        "## Anggota Kelompok\n",
        "\n",
        "\n",
        "\n",
        "1. Michael Abednego_120450095\n",
        "\n",
        "2. Muhammad Dhoni Apriyadi\n",
        "_120450111\n",
        "\n",
        "3. Armanda Tantra Kumara_120450037\n",
        "\n",
        "4. Devri Zefanya_120450105\n",
        "\n",
        "5. Anung Nugroho_120450052\n",
        "\n",
        "6. Dhea Sukma Agustiana_120450035\n",
        "\n",
        "7. Putri Hazizah Rahwani_120450060"
      ]
    },
    {
      "cell_type": "markdown",
      "metadata": {
        "id": "3t4_Eh2z_2n2"
      },
      "source": [
        "Konflik perdagangan antara negara, sering disebut \"perang dagang\", dapat memiliki dampak besar pada komoditas yang diperdagangkan. Dalam konteks Indonesia, perang dagang dapat memengaruhi komoditas-komoditas yang merupakan bagian penting dari ekspor atau impor negara.\n",
        "\n",
        "Sebagai contoh, dalam kasus perang dagang antara Amerika Serikat dan Tiongkok, beberapa komoditas yang terkena dampak adalah:\n",
        "\n",
        "*   Produk Pertanian: Komoditas pertanian seperti kedelai, jagung, dan daging sapi bisa terkena dampak karena kebijakan tarif impor.\n",
        "\n",
        "*   Logam: Aluminium dan baja juga sering menjadi titik fokus dalam perang dagang, dengan pemberlakuan tarif impor yang dapat memengaruhi industri konstruksi dan manufaktur.\n",
        "\n",
        "*   Teknologi: Produk-produk teknologi, seperti komponen elektronik atau peralatan telekomunikasi, dapat terpengaruh karena banyaknya komponen yang diimpor untuk industri manufaktur.\n",
        "\n",
        "Bagi Indonesia, komoditas ekspor seperti minyak kelapa sawit, kopi, dan produk pertanian lainnya dapat terpengaruh oleh perubahan dalam kebijakan perdagangan global.\n",
        "\n",
        "Perang dagang sering kali menciptakan ketidakpastian di pasar global, mengubah harga dan permintaan atas berbagai komoditas. Hal ini penting untuk dipahami dalam konteks perdagangan Indonesia karena negara ini sangat bergantung pada ekspor komoditas tertentu. Dalam situasi perang dagang,"
      ]
    },
    {
      "cell_type": "code",
      "execution_count": null,
      "metadata": {
        "colab": {
          "base_uri": "https://localhost:8080/"
        },
        "id": "naT2EWlHBVaF",
        "outputId": "9fdc6ea5-283c-41ad-90af-c4635cbed43e"
      },
      "outputs": [
        {
          "name": "stdout",
          "output_type": "stream",
          "text": [
            "Collecting lazy-model\n",
            "  Downloading lazy_model-0.2.0-py3-none-any.whl (13 kB)\n",
            "Requirement already satisfied: pydantic>=1.9.0 in /usr/local/lib/python3.10/dist-packages (from lazy-model) (1.10.13)\n",
            "Requirement already satisfied: typing-extensions>=4.2.0 in /usr/local/lib/python3.10/dist-packages (from pydantic>=1.9.0->lazy-model) (4.5.0)\n",
            "Installing collected packages: lazy-model\n",
            "Successfully installed lazy-model-0.2.0\n"
          ]
        }
      ],
      "source": [
        "# pip install lazy-model"
      ]
    },
    {
      "cell_type": "code",
      "execution_count": null,
      "metadata": {
        "colab": {
          "base_uri": "https://localhost:8080/"
        },
        "id": "f2_xqZkJy8PF",
        "outputId": "3fd54b17-5c3b-4480-a609-19dd0debad03"
      },
      "outputs": [
        {
          "output_type": "stream",
          "name": "stdout",
          "text": [
            "Mounted at /content/drive\n"
          ]
        }
      ],
      "source": [
        "from google.colab import drive\n",
        "\n",
        "drive.mount('/content/drive', force_remount=True)"
      ]
    },
    {
      "cell_type": "code",
      "execution_count": null,
      "metadata": {
        "id": "rhNofw6tzpZt"
      },
      "outputs": [],
      "source": [
        "import pandas as pd\n",
        "import matplotlib.pyplot as plt\n",
        "import seaborn as sns\n",
        "import numpy as np"
      ]
    },
    {
      "cell_type": "code",
      "execution_count": null,
      "metadata": {
        "colab": {
          "base_uri": "https://localhost:8080/"
        },
        "id": "0G2KnUF9j7QI",
        "outputId": "68d5e5dd-385a-4e18-f49b-d32931db809a"
      },
      "outputs": [
        {
          "output_type": "stream",
          "name": "stderr",
          "text": [
            "<ipython-input-14-5b41ff1a4d8a>:1: DtypeWarning: Columns (2) have mixed types. Specify dtype option on import or set low_memory=False.\n",
            "  trade = pd.read_csv('/content/drive/MyDrive/Decision Making/commodity_trade_statistics_data.csv')\n"
          ]
        }
      ],
      "source": [
        "trade = pd.read_csv('/content/drive/MyDrive/Decision Making/commodity_trade_statistics_data.csv')"
      ]
    },
    {
      "cell_type": "markdown",
      "metadata": {
        "id": "G7HbVtV2uwOT"
      },
      "source": [
        "#**1. Data Preprocessing**"
      ]
    },
    {
      "cell_type": "code",
      "execution_count": null,
      "metadata": {
        "colab": {
          "base_uri": "https://localhost:8080/",
          "height": 206
        },
        "id": "3x0z9NnvzqDz",
        "outputId": "5003c5c1-a18a-41fc-bf86-adabbb8a1904"
      },
      "outputs": [
        {
          "data": {
            "text/html": [
              "\n",
              "  <div id=\"df-a8e9b4bd-95e0-45c2-9524-049c611d9a11\" class=\"colab-df-container\">\n",
              "    <div>\n",
              "<style scoped>\n",
              "    .dataframe tbody tr th:only-of-type {\n",
              "        vertical-align: middle;\n",
              "    }\n",
              "\n",
              "    .dataframe tbody tr th {\n",
              "        vertical-align: top;\n",
              "    }\n",
              "\n",
              "    .dataframe thead th {\n",
              "        text-align: right;\n",
              "    }\n",
              "</style>\n",
              "<table border=\"1\" class=\"dataframe\">\n",
              "  <thead>\n",
              "    <tr style=\"text-align: right;\">\n",
              "      <th></th>\n",
              "      <th>country_or_area</th>\n",
              "      <th>year</th>\n",
              "      <th>comm_code</th>\n",
              "      <th>commodity</th>\n",
              "      <th>flow</th>\n",
              "      <th>trade_usd</th>\n",
              "      <th>weight_kg</th>\n",
              "      <th>quantity_name</th>\n",
              "      <th>quantity</th>\n",
              "      <th>category</th>\n",
              "    </tr>\n",
              "  </thead>\n",
              "  <tbody>\n",
              "    <tr>\n",
              "      <th>0</th>\n",
              "      <td>Afghanistan</td>\n",
              "      <td>2016</td>\n",
              "      <td>10410</td>\n",
              "      <td>Sheep, live</td>\n",
              "      <td>Export</td>\n",
              "      <td>6088</td>\n",
              "      <td>2339.0</td>\n",
              "      <td>Number of items</td>\n",
              "      <td>51.0</td>\n",
              "      <td>01_live_animals</td>\n",
              "    </tr>\n",
              "    <tr>\n",
              "      <th>1</th>\n",
              "      <td>Afghanistan</td>\n",
              "      <td>2016</td>\n",
              "      <td>10420</td>\n",
              "      <td>Goats, live</td>\n",
              "      <td>Export</td>\n",
              "      <td>3958</td>\n",
              "      <td>984.0</td>\n",
              "      <td>Number of items</td>\n",
              "      <td>53.0</td>\n",
              "      <td>01_live_animals</td>\n",
              "    </tr>\n",
              "    <tr>\n",
              "      <th>2</th>\n",
              "      <td>Afghanistan</td>\n",
              "      <td>2008</td>\n",
              "      <td>10210</td>\n",
              "      <td>Bovine animals, live pure-bred breeding</td>\n",
              "      <td>Import</td>\n",
              "      <td>1026804</td>\n",
              "      <td>272.0</td>\n",
              "      <td>Number of items</td>\n",
              "      <td>3769.0</td>\n",
              "      <td>01_live_animals</td>\n",
              "    </tr>\n",
              "    <tr>\n",
              "      <th>3</th>\n",
              "      <td>Albania</td>\n",
              "      <td>2016</td>\n",
              "      <td>10290</td>\n",
              "      <td>Bovine animals, live, except pure-bred breeding</td>\n",
              "      <td>Import</td>\n",
              "      <td>2414533</td>\n",
              "      <td>1114023.0</td>\n",
              "      <td>Number of items</td>\n",
              "      <td>6853.0</td>\n",
              "      <td>01_live_animals</td>\n",
              "    </tr>\n",
              "    <tr>\n",
              "      <th>4</th>\n",
              "      <td>Albania</td>\n",
              "      <td>2016</td>\n",
              "      <td>10392</td>\n",
              "      <td>Swine, live except pure-bred breeding &gt; 50 kg</td>\n",
              "      <td>Import</td>\n",
              "      <td>14265937</td>\n",
              "      <td>9484953.0</td>\n",
              "      <td>Number of items</td>\n",
              "      <td>96040.0</td>\n",
              "      <td>01_live_animals</td>\n",
              "    </tr>\n",
              "  </tbody>\n",
              "</table>\n",
              "</div>\n",
              "    <div class=\"colab-df-buttons\">\n",
              "\n",
              "  <div class=\"colab-df-container\">\n",
              "    <button class=\"colab-df-convert\" onclick=\"convertToInteractive('df-a8e9b4bd-95e0-45c2-9524-049c611d9a11')\"\n",
              "            title=\"Convert this dataframe to an interactive table.\"\n",
              "            style=\"display:none;\">\n",
              "\n",
              "  <svg xmlns=\"http://www.w3.org/2000/svg\" height=\"24px\" viewBox=\"0 -960 960 960\">\n",
              "    <path d=\"M120-120v-720h720v720H120Zm60-500h600v-160H180v160Zm220 220h160v-160H400v160Zm0 220h160v-160H400v160ZM180-400h160v-160H180v160Zm440 0h160v-160H620v160ZM180-180h160v-160H180v160Zm440 0h160v-160H620v160Z\"/>\n",
              "  </svg>\n",
              "    </button>\n",
              "\n",
              "  <style>\n",
              "    .colab-df-container {\n",
              "      display:flex;\n",
              "      gap: 12px;\n",
              "    }\n",
              "\n",
              "    .colab-df-convert {\n",
              "      background-color: #E8F0FE;\n",
              "      border: none;\n",
              "      border-radius: 50%;\n",
              "      cursor: pointer;\n",
              "      display: none;\n",
              "      fill: #1967D2;\n",
              "      height: 32px;\n",
              "      padding: 0 0 0 0;\n",
              "      width: 32px;\n",
              "    }\n",
              "\n",
              "    .colab-df-convert:hover {\n",
              "      background-color: #E2EBFA;\n",
              "      box-shadow: 0px 1px 2px rgba(60, 64, 67, 0.3), 0px 1px 3px 1px rgba(60, 64, 67, 0.15);\n",
              "      fill: #174EA6;\n",
              "    }\n",
              "\n",
              "    .colab-df-buttons div {\n",
              "      margin-bottom: 4px;\n",
              "    }\n",
              "\n",
              "    [theme=dark] .colab-df-convert {\n",
              "      background-color: #3B4455;\n",
              "      fill: #D2E3FC;\n",
              "    }\n",
              "\n",
              "    [theme=dark] .colab-df-convert:hover {\n",
              "      background-color: #434B5C;\n",
              "      box-shadow: 0px 1px 3px 1px rgba(0, 0, 0, 0.15);\n",
              "      filter: drop-shadow(0px 1px 2px rgba(0, 0, 0, 0.3));\n",
              "      fill: #FFFFFF;\n",
              "    }\n",
              "  </style>\n",
              "\n",
              "    <script>\n",
              "      const buttonEl =\n",
              "        document.querySelector('#df-a8e9b4bd-95e0-45c2-9524-049c611d9a11 button.colab-df-convert');\n",
              "      buttonEl.style.display =\n",
              "        google.colab.kernel.accessAllowed ? 'block' : 'none';\n",
              "\n",
              "      async function convertToInteractive(key) {\n",
              "        const element = document.querySelector('#df-a8e9b4bd-95e0-45c2-9524-049c611d9a11');\n",
              "        const dataTable =\n",
              "          await google.colab.kernel.invokeFunction('convertToInteractive',\n",
              "                                                    [key], {});\n",
              "        if (!dataTable) return;\n",
              "\n",
              "        const docLinkHtml = 'Like what you see? Visit the ' +\n",
              "          '<a target=\"_blank\" href=https://colab.research.google.com/notebooks/data_table.ipynb>data table notebook</a>'\n",
              "          + ' to learn more about interactive tables.';\n",
              "        element.innerHTML = '';\n",
              "        dataTable['output_type'] = 'display_data';\n",
              "        await google.colab.output.renderOutput(dataTable, element);\n",
              "        const docLink = document.createElement('div');\n",
              "        docLink.innerHTML = docLinkHtml;\n",
              "        element.appendChild(docLink);\n",
              "      }\n",
              "    </script>\n",
              "  </div>\n",
              "\n",
              "\n",
              "<div id=\"df-6c19af75-894a-416e-a6de-081b5e942ca8\">\n",
              "  <button class=\"colab-df-quickchart\" onclick=\"quickchart('df-6c19af75-894a-416e-a6de-081b5e942ca8')\"\n",
              "            title=\"Suggest charts\"\n",
              "            style=\"display:none;\">\n",
              "\n",
              "<svg xmlns=\"http://www.w3.org/2000/svg\" height=\"24px\"viewBox=\"0 0 24 24\"\n",
              "     width=\"24px\">\n",
              "    <g>\n",
              "        <path d=\"M19 3H5c-1.1 0-2 .9-2 2v14c0 1.1.9 2 2 2h14c1.1 0 2-.9 2-2V5c0-1.1-.9-2-2-2zM9 17H7v-7h2v7zm4 0h-2V7h2v10zm4 0h-2v-4h2v4z\"/>\n",
              "    </g>\n",
              "</svg>\n",
              "  </button>\n",
              "\n",
              "<style>\n",
              "  .colab-df-quickchart {\n",
              "      --bg-color: #E8F0FE;\n",
              "      --fill-color: #1967D2;\n",
              "      --hover-bg-color: #E2EBFA;\n",
              "      --hover-fill-color: #174EA6;\n",
              "      --disabled-fill-color: #AAA;\n",
              "      --disabled-bg-color: #DDD;\n",
              "  }\n",
              "\n",
              "  [theme=dark] .colab-df-quickchart {\n",
              "      --bg-color: #3B4455;\n",
              "      --fill-color: #D2E3FC;\n",
              "      --hover-bg-color: #434B5C;\n",
              "      --hover-fill-color: #FFFFFF;\n",
              "      --disabled-bg-color: #3B4455;\n",
              "      --disabled-fill-color: #666;\n",
              "  }\n",
              "\n",
              "  .colab-df-quickchart {\n",
              "    background-color: var(--bg-color);\n",
              "    border: none;\n",
              "    border-radius: 50%;\n",
              "    cursor: pointer;\n",
              "    display: none;\n",
              "    fill: var(--fill-color);\n",
              "    height: 32px;\n",
              "    padding: 0;\n",
              "    width: 32px;\n",
              "  }\n",
              "\n",
              "  .colab-df-quickchart:hover {\n",
              "    background-color: var(--hover-bg-color);\n",
              "    box-shadow: 0 1px 2px rgba(60, 64, 67, 0.3), 0 1px 3px 1px rgba(60, 64, 67, 0.15);\n",
              "    fill: var(--button-hover-fill-color);\n",
              "  }\n",
              "\n",
              "  .colab-df-quickchart-complete:disabled,\n",
              "  .colab-df-quickchart-complete:disabled:hover {\n",
              "    background-color: var(--disabled-bg-color);\n",
              "    fill: var(--disabled-fill-color);\n",
              "    box-shadow: none;\n",
              "  }\n",
              "\n",
              "  .colab-df-spinner {\n",
              "    border: 2px solid var(--fill-color);\n",
              "    border-color: transparent;\n",
              "    border-bottom-color: var(--fill-color);\n",
              "    animation:\n",
              "      spin 1s steps(1) infinite;\n",
              "  }\n",
              "\n",
              "  @keyframes spin {\n",
              "    0% {\n",
              "      border-color: transparent;\n",
              "      border-bottom-color: var(--fill-color);\n",
              "      border-left-color: var(--fill-color);\n",
              "    }\n",
              "    20% {\n",
              "      border-color: transparent;\n",
              "      border-left-color: var(--fill-color);\n",
              "      border-top-color: var(--fill-color);\n",
              "    }\n",
              "    30% {\n",
              "      border-color: transparent;\n",
              "      border-left-color: var(--fill-color);\n",
              "      border-top-color: var(--fill-color);\n",
              "      border-right-color: var(--fill-color);\n",
              "    }\n",
              "    40% {\n",
              "      border-color: transparent;\n",
              "      border-right-color: var(--fill-color);\n",
              "      border-top-color: var(--fill-color);\n",
              "    }\n",
              "    60% {\n",
              "      border-color: transparent;\n",
              "      border-right-color: var(--fill-color);\n",
              "    }\n",
              "    80% {\n",
              "      border-color: transparent;\n",
              "      border-right-color: var(--fill-color);\n",
              "      border-bottom-color: var(--fill-color);\n",
              "    }\n",
              "    90% {\n",
              "      border-color: transparent;\n",
              "      border-bottom-color: var(--fill-color);\n",
              "    }\n",
              "  }\n",
              "</style>\n",
              "\n",
              "  <script>\n",
              "    async function quickchart(key) {\n",
              "      const quickchartButtonEl =\n",
              "        document.querySelector('#' + key + ' button');\n",
              "      quickchartButtonEl.disabled = true;  // To prevent multiple clicks.\n",
              "      quickchartButtonEl.classList.add('colab-df-spinner');\n",
              "      try {\n",
              "        const charts = await google.colab.kernel.invokeFunction(\n",
              "            'suggestCharts', [key], {});\n",
              "      } catch (error) {\n",
              "        console.error('Error during call to suggestCharts:', error);\n",
              "      }\n",
              "      quickchartButtonEl.classList.remove('colab-df-spinner');\n",
              "      quickchartButtonEl.classList.add('colab-df-quickchart-complete');\n",
              "    }\n",
              "    (() => {\n",
              "      let quickchartButtonEl =\n",
              "        document.querySelector('#df-6c19af75-894a-416e-a6de-081b5e942ca8 button');\n",
              "      quickchartButtonEl.style.display =\n",
              "        google.colab.kernel.accessAllowed ? 'block' : 'none';\n",
              "    })();\n",
              "  </script>\n",
              "</div>\n",
              "    </div>\n",
              "  </div>\n"
            ],
            "text/plain": [
              "  country_or_area  year comm_code  \\\n",
              "0     Afghanistan  2016     10410   \n",
              "1     Afghanistan  2016     10420   \n",
              "2     Afghanistan  2008     10210   \n",
              "3         Albania  2016     10290   \n",
              "4         Albania  2016     10392   \n",
              "\n",
              "                                         commodity    flow  trade_usd  \\\n",
              "0                                      Sheep, live  Export       6088   \n",
              "1                                      Goats, live  Export       3958   \n",
              "2          Bovine animals, live pure-bred breeding  Import    1026804   \n",
              "3  Bovine animals, live, except pure-bred breeding  Import    2414533   \n",
              "4    Swine, live except pure-bred breeding > 50 kg  Import   14265937   \n",
              "\n",
              "   weight_kg    quantity_name  quantity         category  \n",
              "0     2339.0  Number of items      51.0  01_live_animals  \n",
              "1      984.0  Number of items      53.0  01_live_animals  \n",
              "2      272.0  Number of items    3769.0  01_live_animals  \n",
              "3  1114023.0  Number of items    6853.0  01_live_animals  \n",
              "4  9484953.0  Number of items   96040.0  01_live_animals  "
            ]
          },
          "execution_count": 5,
          "metadata": {},
          "output_type": "execute_result"
        }
      ],
      "source": [
        "trade.head()"
      ]
    },
    {
      "cell_type": "code",
      "execution_count": null,
      "metadata": {
        "colab": {
          "base_uri": "https://localhost:8080/",
          "height": 206
        },
        "id": "j7Cspea6g6gT",
        "outputId": "5c58dda9-713d-4688-e15d-f9a5317d295a"
      },
      "outputs": [
        {
          "data": {
            "text/html": [
              "\n",
              "  <div id=\"df-d3482b96-ae3e-49d7-be1d-e4271f64b7c7\" class=\"colab-df-container\">\n",
              "    <div>\n",
              "<style scoped>\n",
              "    .dataframe tbody tr th:only-of-type {\n",
              "        vertical-align: middle;\n",
              "    }\n",
              "\n",
              "    .dataframe tbody tr th {\n",
              "        vertical-align: top;\n",
              "    }\n",
              "\n",
              "    .dataframe thead th {\n",
              "        text-align: right;\n",
              "    }\n",
              "</style>\n",
              "<table border=\"1\" class=\"dataframe\">\n",
              "  <thead>\n",
              "    <tr style=\"text-align: right;\">\n",
              "      <th></th>\n",
              "      <th>country_or_area</th>\n",
              "      <th>year</th>\n",
              "      <th>comm_code</th>\n",
              "      <th>commodity</th>\n",
              "      <th>flow</th>\n",
              "      <th>trade_usd</th>\n",
              "      <th>weight_kg</th>\n",
              "      <th>quantity_name</th>\n",
              "      <th>quantity</th>\n",
              "      <th>category</th>\n",
              "    </tr>\n",
              "  </thead>\n",
              "  <tbody>\n",
              "    <tr>\n",
              "      <th>8225866</th>\n",
              "      <td>Zimbabwe</td>\n",
              "      <td>2001</td>\n",
              "      <td>TOTAL</td>\n",
              "      <td>ALL COMMODITIES</td>\n",
              "      <td>Export</td>\n",
              "      <td>1206807424</td>\n",
              "      <td>NaN</td>\n",
              "      <td>No Quantity</td>\n",
              "      <td>NaN</td>\n",
              "      <td>all_commodities</td>\n",
              "    </tr>\n",
              "    <tr>\n",
              "      <th>8225867</th>\n",
              "      <td>Zimbabwe</td>\n",
              "      <td>2001</td>\n",
              "      <td>TOTAL</td>\n",
              "      <td>ALL COMMODITIES</td>\n",
              "      <td>Re-Export</td>\n",
              "      <td>15943977</td>\n",
              "      <td>NaN</td>\n",
              "      <td>No Quantity</td>\n",
              "      <td>NaN</td>\n",
              "      <td>all_commodities</td>\n",
              "    </tr>\n",
              "    <tr>\n",
              "      <th>8225868</th>\n",
              "      <td>Zimbabwe</td>\n",
              "      <td>2000</td>\n",
              "      <td>TOTAL</td>\n",
              "      <td>ALL COMMODITIES</td>\n",
              "      <td>Export</td>\n",
              "      <td>1924962432</td>\n",
              "      <td>NaN</td>\n",
              "      <td>No Quantity</td>\n",
              "      <td>NaN</td>\n",
              "      <td>all_commodities</td>\n",
              "    </tr>\n",
              "    <tr>\n",
              "      <th>8225869</th>\n",
              "      <td>Zimbabwe</td>\n",
              "      <td>1995</td>\n",
              "      <td>TOTAL</td>\n",
              "      <td>ALL COMMODITIES</td>\n",
              "      <td>Import</td>\n",
              "      <td>2658853376</td>\n",
              "      <td>NaN</td>\n",
              "      <td>No Quantity</td>\n",
              "      <td>NaN</td>\n",
              "      <td>all_commodities</td>\n",
              "    </tr>\n",
              "    <tr>\n",
              "      <th>8225870</th>\n",
              "      <td>Zimbabwe</td>\n",
              "      <td>1995</td>\n",
              "      <td>TOTAL</td>\n",
              "      <td>ALL COMMODITIES</td>\n",
              "      <td>Export</td>\n",
              "      <td>1845905792</td>\n",
              "      <td>NaN</td>\n",
              "      <td>No Quantity</td>\n",
              "      <td>NaN</td>\n",
              "      <td>all_commodities</td>\n",
              "    </tr>\n",
              "  </tbody>\n",
              "</table>\n",
              "</div>\n",
              "    <div class=\"colab-df-buttons\">\n",
              "\n",
              "  <div class=\"colab-df-container\">\n",
              "    <button class=\"colab-df-convert\" onclick=\"convertToInteractive('df-d3482b96-ae3e-49d7-be1d-e4271f64b7c7')\"\n",
              "            title=\"Convert this dataframe to an interactive table.\"\n",
              "            style=\"display:none;\">\n",
              "\n",
              "  <svg xmlns=\"http://www.w3.org/2000/svg\" height=\"24px\" viewBox=\"0 -960 960 960\">\n",
              "    <path d=\"M120-120v-720h720v720H120Zm60-500h600v-160H180v160Zm220 220h160v-160H400v160Zm0 220h160v-160H400v160ZM180-400h160v-160H180v160Zm440 0h160v-160H620v160ZM180-180h160v-160H180v160Zm440 0h160v-160H620v160Z\"/>\n",
              "  </svg>\n",
              "    </button>\n",
              "\n",
              "  <style>\n",
              "    .colab-df-container {\n",
              "      display:flex;\n",
              "      gap: 12px;\n",
              "    }\n",
              "\n",
              "    .colab-df-convert {\n",
              "      background-color: #E8F0FE;\n",
              "      border: none;\n",
              "      border-radius: 50%;\n",
              "      cursor: pointer;\n",
              "      display: none;\n",
              "      fill: #1967D2;\n",
              "      height: 32px;\n",
              "      padding: 0 0 0 0;\n",
              "      width: 32px;\n",
              "    }\n",
              "\n",
              "    .colab-df-convert:hover {\n",
              "      background-color: #E2EBFA;\n",
              "      box-shadow: 0px 1px 2px rgba(60, 64, 67, 0.3), 0px 1px 3px 1px rgba(60, 64, 67, 0.15);\n",
              "      fill: #174EA6;\n",
              "    }\n",
              "\n",
              "    .colab-df-buttons div {\n",
              "      margin-bottom: 4px;\n",
              "    }\n",
              "\n",
              "    [theme=dark] .colab-df-convert {\n",
              "      background-color: #3B4455;\n",
              "      fill: #D2E3FC;\n",
              "    }\n",
              "\n",
              "    [theme=dark] .colab-df-convert:hover {\n",
              "      background-color: #434B5C;\n",
              "      box-shadow: 0px 1px 3px 1px rgba(0, 0, 0, 0.15);\n",
              "      filter: drop-shadow(0px 1px 2px rgba(0, 0, 0, 0.3));\n",
              "      fill: #FFFFFF;\n",
              "    }\n",
              "  </style>\n",
              "\n",
              "    <script>\n",
              "      const buttonEl =\n",
              "        document.querySelector('#df-d3482b96-ae3e-49d7-be1d-e4271f64b7c7 button.colab-df-convert');\n",
              "      buttonEl.style.display =\n",
              "        google.colab.kernel.accessAllowed ? 'block' : 'none';\n",
              "\n",
              "      async function convertToInteractive(key) {\n",
              "        const element = document.querySelector('#df-d3482b96-ae3e-49d7-be1d-e4271f64b7c7');\n",
              "        const dataTable =\n",
              "          await google.colab.kernel.invokeFunction('convertToInteractive',\n",
              "                                                    [key], {});\n",
              "        if (!dataTable) return;\n",
              "\n",
              "        const docLinkHtml = 'Like what you see? Visit the ' +\n",
              "          '<a target=\"_blank\" href=https://colab.research.google.com/notebooks/data_table.ipynb>data table notebook</a>'\n",
              "          + ' to learn more about interactive tables.';\n",
              "        element.innerHTML = '';\n",
              "        dataTable['output_type'] = 'display_data';\n",
              "        await google.colab.output.renderOutput(dataTable, element);\n",
              "        const docLink = document.createElement('div');\n",
              "        docLink.innerHTML = docLinkHtml;\n",
              "        element.appendChild(docLink);\n",
              "      }\n",
              "    </script>\n",
              "  </div>\n",
              "\n",
              "\n",
              "<div id=\"df-cb448c57-c46c-4df9-810f-fa9cc9a7d797\">\n",
              "  <button class=\"colab-df-quickchart\" onclick=\"quickchart('df-cb448c57-c46c-4df9-810f-fa9cc9a7d797')\"\n",
              "            title=\"Suggest charts\"\n",
              "            style=\"display:none;\">\n",
              "\n",
              "<svg xmlns=\"http://www.w3.org/2000/svg\" height=\"24px\"viewBox=\"0 0 24 24\"\n",
              "     width=\"24px\">\n",
              "    <g>\n",
              "        <path d=\"M19 3H5c-1.1 0-2 .9-2 2v14c0 1.1.9 2 2 2h14c1.1 0 2-.9 2-2V5c0-1.1-.9-2-2-2zM9 17H7v-7h2v7zm4 0h-2V7h2v10zm4 0h-2v-4h2v4z\"/>\n",
              "    </g>\n",
              "</svg>\n",
              "  </button>\n",
              "\n",
              "<style>\n",
              "  .colab-df-quickchart {\n",
              "      --bg-color: #E8F0FE;\n",
              "      --fill-color: #1967D2;\n",
              "      --hover-bg-color: #E2EBFA;\n",
              "      --hover-fill-color: #174EA6;\n",
              "      --disabled-fill-color: #AAA;\n",
              "      --disabled-bg-color: #DDD;\n",
              "  }\n",
              "\n",
              "  [theme=dark] .colab-df-quickchart {\n",
              "      --bg-color: #3B4455;\n",
              "      --fill-color: #D2E3FC;\n",
              "      --hover-bg-color: #434B5C;\n",
              "      --hover-fill-color: #FFFFFF;\n",
              "      --disabled-bg-color: #3B4455;\n",
              "      --disabled-fill-color: #666;\n",
              "  }\n",
              "\n",
              "  .colab-df-quickchart {\n",
              "    background-color: var(--bg-color);\n",
              "    border: none;\n",
              "    border-radius: 50%;\n",
              "    cursor: pointer;\n",
              "    display: none;\n",
              "    fill: var(--fill-color);\n",
              "    height: 32px;\n",
              "    padding: 0;\n",
              "    width: 32px;\n",
              "  }\n",
              "\n",
              "  .colab-df-quickchart:hover {\n",
              "    background-color: var(--hover-bg-color);\n",
              "    box-shadow: 0 1px 2px rgba(60, 64, 67, 0.3), 0 1px 3px 1px rgba(60, 64, 67, 0.15);\n",
              "    fill: var(--button-hover-fill-color);\n",
              "  }\n",
              "\n",
              "  .colab-df-quickchart-complete:disabled,\n",
              "  .colab-df-quickchart-complete:disabled:hover {\n",
              "    background-color: var(--disabled-bg-color);\n",
              "    fill: var(--disabled-fill-color);\n",
              "    box-shadow: none;\n",
              "  }\n",
              "\n",
              "  .colab-df-spinner {\n",
              "    border: 2px solid var(--fill-color);\n",
              "    border-color: transparent;\n",
              "    border-bottom-color: var(--fill-color);\n",
              "    animation:\n",
              "      spin 1s steps(1) infinite;\n",
              "  }\n",
              "\n",
              "  @keyframes spin {\n",
              "    0% {\n",
              "      border-color: transparent;\n",
              "      border-bottom-color: var(--fill-color);\n",
              "      border-left-color: var(--fill-color);\n",
              "    }\n",
              "    20% {\n",
              "      border-color: transparent;\n",
              "      border-left-color: var(--fill-color);\n",
              "      border-top-color: var(--fill-color);\n",
              "    }\n",
              "    30% {\n",
              "      border-color: transparent;\n",
              "      border-left-color: var(--fill-color);\n",
              "      border-top-color: var(--fill-color);\n",
              "      border-right-color: var(--fill-color);\n",
              "    }\n",
              "    40% {\n",
              "      border-color: transparent;\n",
              "      border-right-color: var(--fill-color);\n",
              "      border-top-color: var(--fill-color);\n",
              "    }\n",
              "    60% {\n",
              "      border-color: transparent;\n",
              "      border-right-color: var(--fill-color);\n",
              "    }\n",
              "    80% {\n",
              "      border-color: transparent;\n",
              "      border-right-color: var(--fill-color);\n",
              "      border-bottom-color: var(--fill-color);\n",
              "    }\n",
              "    90% {\n",
              "      border-color: transparent;\n",
              "      border-bottom-color: var(--fill-color);\n",
              "    }\n",
              "  }\n",
              "</style>\n",
              "\n",
              "  <script>\n",
              "    async function quickchart(key) {\n",
              "      const quickchartButtonEl =\n",
              "        document.querySelector('#' + key + ' button');\n",
              "      quickchartButtonEl.disabled = true;  // To prevent multiple clicks.\n",
              "      quickchartButtonEl.classList.add('colab-df-spinner');\n",
              "      try {\n",
              "        const charts = await google.colab.kernel.invokeFunction(\n",
              "            'suggestCharts', [key], {});\n",
              "      } catch (error) {\n",
              "        console.error('Error during call to suggestCharts:', error);\n",
              "      }\n",
              "      quickchartButtonEl.classList.remove('colab-df-spinner');\n",
              "      quickchartButtonEl.classList.add('colab-df-quickchart-complete');\n",
              "    }\n",
              "    (() => {\n",
              "      let quickchartButtonEl =\n",
              "        document.querySelector('#df-cb448c57-c46c-4df9-810f-fa9cc9a7d797 button');\n",
              "      quickchartButtonEl.style.display =\n",
              "        google.colab.kernel.accessAllowed ? 'block' : 'none';\n",
              "    })();\n",
              "  </script>\n",
              "</div>\n",
              "    </div>\n",
              "  </div>\n"
            ],
            "text/plain": [
              "        country_or_area  year comm_code        commodity       flow  \\\n",
              "8225866        Zimbabwe  2001     TOTAL  ALL COMMODITIES     Export   \n",
              "8225867        Zimbabwe  2001     TOTAL  ALL COMMODITIES  Re-Export   \n",
              "8225868        Zimbabwe  2000     TOTAL  ALL COMMODITIES     Export   \n",
              "8225869        Zimbabwe  1995     TOTAL  ALL COMMODITIES     Import   \n",
              "8225870        Zimbabwe  1995     TOTAL  ALL COMMODITIES     Export   \n",
              "\n",
              "          trade_usd  weight_kg quantity_name  quantity         category  \n",
              "8225866  1206807424        NaN   No Quantity       NaN  all_commodities  \n",
              "8225867    15943977        NaN   No Quantity       NaN  all_commodities  \n",
              "8225868  1924962432        NaN   No Quantity       NaN  all_commodities  \n",
              "8225869  2658853376        NaN   No Quantity       NaN  all_commodities  \n",
              "8225870  1845905792        NaN   No Quantity       NaN  all_commodities  "
            ]
          },
          "execution_count": 6,
          "metadata": {},
          "output_type": "execute_result"
        }
      ],
      "source": [
        "trade.tail()"
      ]
    },
    {
      "cell_type": "code",
      "execution_count": null,
      "metadata": {
        "colab": {
          "base_uri": "https://localhost:8080/"
        },
        "id": "eG-S0wHWg6iv",
        "outputId": "c6ede762-abb1-4706-c4a6-768818b8348a"
      },
      "outputs": [
        {
          "name": "stdout",
          "output_type": "stream",
          "text": [
            "<class 'pandas.core.frame.DataFrame'>\n",
            "RangeIndex: 8225871 entries, 0 to 8225870\n",
            "Data columns (total 10 columns):\n",
            " #   Column           Dtype  \n",
            "---  ------           -----  \n",
            " 0   country_or_area  object \n",
            " 1   year             int64  \n",
            " 2   comm_code        object \n",
            " 3   commodity        object \n",
            " 4   flow             object \n",
            " 5   trade_usd        int64  \n",
            " 6   weight_kg        float64\n",
            " 7   quantity_name    object \n",
            " 8   quantity         float64\n",
            " 9   category         object \n",
            "dtypes: float64(2), int64(2), object(6)\n",
            "memory usage: 627.6+ MB\n"
          ]
        }
      ],
      "source": [
        "trade.info()"
      ]
    },
    {
      "cell_type": "code",
      "execution_count": null,
      "metadata": {
        "colab": {
          "base_uri": "https://localhost:8080/",
          "height": 300
        },
        "id": "XkAIGxL9vMXV",
        "outputId": "4b74408f-b97b-468c-92d3-137ee5eb9966"
      },
      "outputs": [
        {
          "data": {
            "text/html": [
              "\n",
              "  <div id=\"df-30cf7380-9977-4cd9-817d-e8e2300814b8\" class=\"colab-df-container\">\n",
              "    <div>\n",
              "<style scoped>\n",
              "    .dataframe tbody tr th:only-of-type {\n",
              "        vertical-align: middle;\n",
              "    }\n",
              "\n",
              "    .dataframe tbody tr th {\n",
              "        vertical-align: top;\n",
              "    }\n",
              "\n",
              "    .dataframe thead th {\n",
              "        text-align: right;\n",
              "    }\n",
              "</style>\n",
              "<table border=\"1\" class=\"dataframe\">\n",
              "  <thead>\n",
              "    <tr style=\"text-align: right;\">\n",
              "      <th></th>\n",
              "      <th>year</th>\n",
              "      <th>trade_usd</th>\n",
              "      <th>weight_kg</th>\n",
              "      <th>quantity</th>\n",
              "    </tr>\n",
              "  </thead>\n",
              "  <tbody>\n",
              "    <tr>\n",
              "      <th>count</th>\n",
              "      <td>8.225871e+06</td>\n",
              "      <td>8.225871e+06</td>\n",
              "      <td>8.097396e+06</td>\n",
              "      <td>7.921014e+06</td>\n",
              "    </tr>\n",
              "    <tr>\n",
              "      <th>mean</th>\n",
              "      <td>2.004768e+03</td>\n",
              "      <td>9.505370e+07</td>\n",
              "      <td>3.556503e+07</td>\n",
              "      <td>2.671470e+08</td>\n",
              "    </tr>\n",
              "    <tr>\n",
              "      <th>std</th>\n",
              "      <td>7.037779e+00</td>\n",
              "      <td>7.074154e+09</td>\n",
              "      <td>2.479277e+09</td>\n",
              "      <td>3.739231e+11</td>\n",
              "    </tr>\n",
              "    <tr>\n",
              "      <th>min</th>\n",
              "      <td>1.988000e+03</td>\n",
              "      <td>1.000000e+00</td>\n",
              "      <td>0.000000e+00</td>\n",
              "      <td>0.000000e+00</td>\n",
              "    </tr>\n",
              "    <tr>\n",
              "      <th>25%</th>\n",
              "      <td>1.999000e+03</td>\n",
              "      <td>1.107200e+04</td>\n",
              "      <td>1.089000e+03</td>\n",
              "      <td>1.062000e+03</td>\n",
              "    </tr>\n",
              "    <tr>\n",
              "      <th>50%</th>\n",
              "      <td>2.005000e+03</td>\n",
              "      <td>1.534160e+05</td>\n",
              "      <td>2.689800e+04</td>\n",
              "      <td>2.712000e+04</td>\n",
              "    </tr>\n",
              "    <tr>\n",
              "      <th>75%</th>\n",
              "      <td>2.011000e+03</td>\n",
              "      <td>1.895476e+06</td>\n",
              "      <td>4.474432e+05</td>\n",
              "      <td>4.623620e+05</td>\n",
              "    </tr>\n",
              "    <tr>\n",
              "      <th>max</th>\n",
              "      <td>2.016000e+03</td>\n",
              "      <td>2.443311e+12</td>\n",
              "      <td>1.860133e+12</td>\n",
              "      <td>1.026357e+15</td>\n",
              "    </tr>\n",
              "  </tbody>\n",
              "</table>\n",
              "</div>\n",
              "    <div class=\"colab-df-buttons\">\n",
              "\n",
              "  <div class=\"colab-df-container\">\n",
              "    <button class=\"colab-df-convert\" onclick=\"convertToInteractive('df-30cf7380-9977-4cd9-817d-e8e2300814b8')\"\n",
              "            title=\"Convert this dataframe to an interactive table.\"\n",
              "            style=\"display:none;\">\n",
              "\n",
              "  <svg xmlns=\"http://www.w3.org/2000/svg\" height=\"24px\" viewBox=\"0 -960 960 960\">\n",
              "    <path d=\"M120-120v-720h720v720H120Zm60-500h600v-160H180v160Zm220 220h160v-160H400v160Zm0 220h160v-160H400v160ZM180-400h160v-160H180v160Zm440 0h160v-160H620v160ZM180-180h160v-160H180v160Zm440 0h160v-160H620v160Z\"/>\n",
              "  </svg>\n",
              "    </button>\n",
              "\n",
              "  <style>\n",
              "    .colab-df-container {\n",
              "      display:flex;\n",
              "      gap: 12px;\n",
              "    }\n",
              "\n",
              "    .colab-df-convert {\n",
              "      background-color: #E8F0FE;\n",
              "      border: none;\n",
              "      border-radius: 50%;\n",
              "      cursor: pointer;\n",
              "      display: none;\n",
              "      fill: #1967D2;\n",
              "      height: 32px;\n",
              "      padding: 0 0 0 0;\n",
              "      width: 32px;\n",
              "    }\n",
              "\n",
              "    .colab-df-convert:hover {\n",
              "      background-color: #E2EBFA;\n",
              "      box-shadow: 0px 1px 2px rgba(60, 64, 67, 0.3), 0px 1px 3px 1px rgba(60, 64, 67, 0.15);\n",
              "      fill: #174EA6;\n",
              "    }\n",
              "\n",
              "    .colab-df-buttons div {\n",
              "      margin-bottom: 4px;\n",
              "    }\n",
              "\n",
              "    [theme=dark] .colab-df-convert {\n",
              "      background-color: #3B4455;\n",
              "      fill: #D2E3FC;\n",
              "    }\n",
              "\n",
              "    [theme=dark] .colab-df-convert:hover {\n",
              "      background-color: #434B5C;\n",
              "      box-shadow: 0px 1px 3px 1px rgba(0, 0, 0, 0.15);\n",
              "      filter: drop-shadow(0px 1px 2px rgba(0, 0, 0, 0.3));\n",
              "      fill: #FFFFFF;\n",
              "    }\n",
              "  </style>\n",
              "\n",
              "    <script>\n",
              "      const buttonEl =\n",
              "        document.querySelector('#df-30cf7380-9977-4cd9-817d-e8e2300814b8 button.colab-df-convert');\n",
              "      buttonEl.style.display =\n",
              "        google.colab.kernel.accessAllowed ? 'block' : 'none';\n",
              "\n",
              "      async function convertToInteractive(key) {\n",
              "        const element = document.querySelector('#df-30cf7380-9977-4cd9-817d-e8e2300814b8');\n",
              "        const dataTable =\n",
              "          await google.colab.kernel.invokeFunction('convertToInteractive',\n",
              "                                                    [key], {});\n",
              "        if (!dataTable) return;\n",
              "\n",
              "        const docLinkHtml = 'Like what you see? Visit the ' +\n",
              "          '<a target=\"_blank\" href=https://colab.research.google.com/notebooks/data_table.ipynb>data table notebook</a>'\n",
              "          + ' to learn more about interactive tables.';\n",
              "        element.innerHTML = '';\n",
              "        dataTable['output_type'] = 'display_data';\n",
              "        await google.colab.output.renderOutput(dataTable, element);\n",
              "        const docLink = document.createElement('div');\n",
              "        docLink.innerHTML = docLinkHtml;\n",
              "        element.appendChild(docLink);\n",
              "      }\n",
              "    </script>\n",
              "  </div>\n",
              "\n",
              "\n",
              "<div id=\"df-2745ac4b-9355-4713-b7f7-979c3900c9fe\">\n",
              "  <button class=\"colab-df-quickchart\" onclick=\"quickchart('df-2745ac4b-9355-4713-b7f7-979c3900c9fe')\"\n",
              "            title=\"Suggest charts\"\n",
              "            style=\"display:none;\">\n",
              "\n",
              "<svg xmlns=\"http://www.w3.org/2000/svg\" height=\"24px\"viewBox=\"0 0 24 24\"\n",
              "     width=\"24px\">\n",
              "    <g>\n",
              "        <path d=\"M19 3H5c-1.1 0-2 .9-2 2v14c0 1.1.9 2 2 2h14c1.1 0 2-.9 2-2V5c0-1.1-.9-2-2-2zM9 17H7v-7h2v7zm4 0h-2V7h2v10zm4 0h-2v-4h2v4z\"/>\n",
              "    </g>\n",
              "</svg>\n",
              "  </button>\n",
              "\n",
              "<style>\n",
              "  .colab-df-quickchart {\n",
              "      --bg-color: #E8F0FE;\n",
              "      --fill-color: #1967D2;\n",
              "      --hover-bg-color: #E2EBFA;\n",
              "      --hover-fill-color: #174EA6;\n",
              "      --disabled-fill-color: #AAA;\n",
              "      --disabled-bg-color: #DDD;\n",
              "  }\n",
              "\n",
              "  [theme=dark] .colab-df-quickchart {\n",
              "      --bg-color: #3B4455;\n",
              "      --fill-color: #D2E3FC;\n",
              "      --hover-bg-color: #434B5C;\n",
              "      --hover-fill-color: #FFFFFF;\n",
              "      --disabled-bg-color: #3B4455;\n",
              "      --disabled-fill-color: #666;\n",
              "  }\n",
              "\n",
              "  .colab-df-quickchart {\n",
              "    background-color: var(--bg-color);\n",
              "    border: none;\n",
              "    border-radius: 50%;\n",
              "    cursor: pointer;\n",
              "    display: none;\n",
              "    fill: var(--fill-color);\n",
              "    height: 32px;\n",
              "    padding: 0;\n",
              "    width: 32px;\n",
              "  }\n",
              "\n",
              "  .colab-df-quickchart:hover {\n",
              "    background-color: var(--hover-bg-color);\n",
              "    box-shadow: 0 1px 2px rgba(60, 64, 67, 0.3), 0 1px 3px 1px rgba(60, 64, 67, 0.15);\n",
              "    fill: var(--button-hover-fill-color);\n",
              "  }\n",
              "\n",
              "  .colab-df-quickchart-complete:disabled,\n",
              "  .colab-df-quickchart-complete:disabled:hover {\n",
              "    background-color: var(--disabled-bg-color);\n",
              "    fill: var(--disabled-fill-color);\n",
              "    box-shadow: none;\n",
              "  }\n",
              "\n",
              "  .colab-df-spinner {\n",
              "    border: 2px solid var(--fill-color);\n",
              "    border-color: transparent;\n",
              "    border-bottom-color: var(--fill-color);\n",
              "    animation:\n",
              "      spin 1s steps(1) infinite;\n",
              "  }\n",
              "\n",
              "  @keyframes spin {\n",
              "    0% {\n",
              "      border-color: transparent;\n",
              "      border-bottom-color: var(--fill-color);\n",
              "      border-left-color: var(--fill-color);\n",
              "    }\n",
              "    20% {\n",
              "      border-color: transparent;\n",
              "      border-left-color: var(--fill-color);\n",
              "      border-top-color: var(--fill-color);\n",
              "    }\n",
              "    30% {\n",
              "      border-color: transparent;\n",
              "      border-left-color: var(--fill-color);\n",
              "      border-top-color: var(--fill-color);\n",
              "      border-right-color: var(--fill-color);\n",
              "    }\n",
              "    40% {\n",
              "      border-color: transparent;\n",
              "      border-right-color: var(--fill-color);\n",
              "      border-top-color: var(--fill-color);\n",
              "    }\n",
              "    60% {\n",
              "      border-color: transparent;\n",
              "      border-right-color: var(--fill-color);\n",
              "    }\n",
              "    80% {\n",
              "      border-color: transparent;\n",
              "      border-right-color: var(--fill-color);\n",
              "      border-bottom-color: var(--fill-color);\n",
              "    }\n",
              "    90% {\n",
              "      border-color: transparent;\n",
              "      border-bottom-color: var(--fill-color);\n",
              "    }\n",
              "  }\n",
              "</style>\n",
              "\n",
              "  <script>\n",
              "    async function quickchart(key) {\n",
              "      const quickchartButtonEl =\n",
              "        document.querySelector('#' + key + ' button');\n",
              "      quickchartButtonEl.disabled = true;  // To prevent multiple clicks.\n",
              "      quickchartButtonEl.classList.add('colab-df-spinner');\n",
              "      try {\n",
              "        const charts = await google.colab.kernel.invokeFunction(\n",
              "            'suggestCharts', [key], {});\n",
              "      } catch (error) {\n",
              "        console.error('Error during call to suggestCharts:', error);\n",
              "      }\n",
              "      quickchartButtonEl.classList.remove('colab-df-spinner');\n",
              "      quickchartButtonEl.classList.add('colab-df-quickchart-complete');\n",
              "    }\n",
              "    (() => {\n",
              "      let quickchartButtonEl =\n",
              "        document.querySelector('#df-2745ac4b-9355-4713-b7f7-979c3900c9fe button');\n",
              "      quickchartButtonEl.style.display =\n",
              "        google.colab.kernel.accessAllowed ? 'block' : 'none';\n",
              "    })();\n",
              "  </script>\n",
              "</div>\n",
              "    </div>\n",
              "  </div>\n"
            ],
            "text/plain": [
              "               year     trade_usd     weight_kg      quantity\n",
              "count  8.225871e+06  8.225871e+06  8.097396e+06  7.921014e+06\n",
              "mean   2.004768e+03  9.505370e+07  3.556503e+07  2.671470e+08\n",
              "std    7.037779e+00  7.074154e+09  2.479277e+09  3.739231e+11\n",
              "min    1.988000e+03  1.000000e+00  0.000000e+00  0.000000e+00\n",
              "25%    1.999000e+03  1.107200e+04  1.089000e+03  1.062000e+03\n",
              "50%    2.005000e+03  1.534160e+05  2.689800e+04  2.712000e+04\n",
              "75%    2.011000e+03  1.895476e+06  4.474432e+05  4.623620e+05\n",
              "max    2.016000e+03  2.443311e+12  1.860133e+12  1.026357e+15"
            ]
          },
          "execution_count": 8,
          "metadata": {},
          "output_type": "execute_result"
        }
      ],
      "source": [
        "trade.describe()"
      ]
    },
    {
      "cell_type": "code",
      "execution_count": null,
      "metadata": {
        "colab": {
          "base_uri": "https://localhost:8080/"
        },
        "id": "3gCrMkyivNla",
        "outputId": "e4a5e1ce-68cc-41ab-a359-a739d4f99b0a"
      },
      "outputs": [
        {
          "data": {
            "text/plain": [
              "Index(['country_or_area', 'year', 'comm_code', 'commodity', 'flow',\n",
              "       'trade_usd', 'weight_kg', 'quantity_name', 'quantity', 'category'],\n",
              "      dtype='object')"
            ]
          },
          "execution_count": 9,
          "metadata": {},
          "output_type": "execute_result"
        }
      ],
      "source": [
        "trade.columns"
      ]
    },
    {
      "cell_type": "code",
      "execution_count": null,
      "metadata": {
        "colab": {
          "base_uri": "https://localhost:8080/"
        },
        "id": "JGuHQgTpvVCr",
        "outputId": "8cfafe82-3975-4281-91e6-e03d32cd74bc"
      },
      "outputs": [
        {
          "data": {
            "text/plain": [
              "(8225871, 10)"
            ]
          },
          "execution_count": 10,
          "metadata": {},
          "output_type": "execute_result"
        }
      ],
      "source": [
        "trade.shape"
      ]
    },
    {
      "cell_type": "code",
      "execution_count": null,
      "metadata": {
        "colab": {
          "base_uri": "https://localhost:8080/"
        },
        "id": "9PCfZdGhvYCT",
        "outputId": "d817377d-a90e-4e0e-9cf0-9da8e8827410"
      },
      "outputs": [
        {
          "data": {
            "text/plain": [
              "country_or_area     object\n",
              "year                 int64\n",
              "comm_code           object\n",
              "commodity           object\n",
              "flow                object\n",
              "trade_usd            int64\n",
              "weight_kg          float64\n",
              "quantity_name       object\n",
              "quantity           float64\n",
              "category            object\n",
              "dtype: object"
            ]
          },
          "execution_count": 11,
          "metadata": {},
          "output_type": "execute_result"
        }
      ],
      "source": [
        "trade.dtypes"
      ]
    },
    {
      "cell_type": "markdown",
      "metadata": {
        "id": "yVNuc6VMvehe"
      },
      "source": [
        "#**2. Eksplorasi Data Analisis**"
      ]
    },
    {
      "cell_type": "code",
      "execution_count": null,
      "metadata": {
        "colab": {
          "base_uri": "https://localhost:8080/"
        },
        "id": "gjoRtlHevaPU",
        "outputId": "b1a2ab4d-d1f9-4a3a-dc7c-b303376d6f51"
      },
      "outputs": [
        {
          "name": "stderr",
          "output_type": "stream",
          "text": [
            "<ipython-input-12-478e779c2a1d>:8: SettingWithCopyWarning: \n",
            "A value is trying to be set on a copy of a slice from a DataFrame.\n",
            "Try using .loc[row_indexer,col_indexer] = value instead\n",
            "\n",
            "See the caveats in the documentation: https://pandas.pydata.org/pandas-docs/stable/user_guide/indexing.html#returning-a-view-versus-a-copy\n",
            "  trade2['country'] = trade2.apply(lambda row: 'china' if row['country_or_area'] in [\"China\", \"China, Hong Kong SAR\"] else 'usa', axis=1)\n"
          ]
        }
      ],
      "source": [
        "# Melakukan filter pada data frame 'trade' untuk negara tertentu dan tahun > 2001\n",
        "trade1 = trade[(trade['country_or_area'].isin([\"China\", \"China, Hong Kong SAR\", \"USA\"])) & (trade['year'] > 2001)]\n",
        "\n",
        "# Melakukan filter berdasarkan flow 'Export' atau 'Import'\n",
        "trade2 = trade1[trade1['flow'].isin([\"Export\", \"Import\"])]\n",
        "\n",
        "# Menyesuaikan kolom 'country' berdasarkan kondisi tertentu\n",
        "trade2['country'] = trade2.apply(lambda row: 'china' if row['country_or_area'] in [\"China\", \"China, Hong Kong SAR\"] else 'usa', axis=1)\n"
      ]
    },
    {
      "cell_type": "markdown",
      "metadata": {
        "id": "z2uX15jy4NF2"
      },
      "source": [
        "## 2.1 Top Kategori dari Impor dan Ekspor"
      ]
    },
    {
      "cell_type": "markdown",
      "metadata": {
        "id": "U7jZ5v8G4Ze4"
      },
      "source": [
        "### China"
      ]
    },
    {
      "cell_type": "code",
      "execution_count": null,
      "metadata": {
        "id": "65Ljrw-Qv5Hj"
      },
      "outputs": [],
      "source": [
        "# Filter untuk ekspor China\n",
        "chinaex = trade2[(trade2['country'] == 'china') & (trade2['flow'] == 'Export')]\n",
        "\n",
        "# Top 5 ekspor China\n",
        "chinaex1 = chinaex.groupby('category').agg(sumusd=('trade_usd', 'sum')).reset_index()\n",
        "chinaex2 = chinaex1.sort_values('sumusd', ascending=True)\n",
        "chinaex3 = chinaex2.iloc[1:7]"
      ]
    },
    {
      "cell_type": "code",
      "execution_count": null,
      "metadata": {
        "id": "EpGpBmqtxBNL"
      },
      "outputs": [],
      "source": [
        "# Filter untuk impor China\n",
        "chinaim = trade2[(trade2['country'] == 'china') & (trade2['flow'] == 'Import')]\n",
        "\n",
        "# Top 5 impor China\n",
        "chinaim1 = chinaim.groupby('category').agg(sumusd=('trade_usd', 'sum')).reset_index()\n",
        "chinaim2 = chinaim1.sort_values('sumusd', ascending=True)\n",
        "chinaim3 = chinaim2.iloc[1:7]"
      ]
    },
    {
      "cell_type": "code",
      "execution_count": null,
      "metadata": {
        "colab": {
          "base_uri": "https://localhost:8080/",
          "height": 921
        },
        "id": "54yTGPVyy6ky",
        "outputId": "4bccafe3-e69f-4075-aab3-807f4cad97c0"
      },
      "outputs": [
        {
          "name": "stderr",
          "output_type": "stream",
          "text": [
            "WARNING:matplotlib.legend:No artists with labels found to put in legend.  Note that artists whose label start with an underscore are ignored when legend() is called with no argument.\n"
          ]
        },
        {
          "data": {
            "image/png": "[encoded data removed]",
            "text/plain": [
              "<Figure size 640x480 with 1 Axes>"
            ]
          },
          "metadata": {},
          "output_type": "display_data"
        },
        {
          "name": "stderr",
          "output_type": "stream",
          "text": [
            "WARNING:matplotlib.legend:No artists with labels found to put in legend.  Note that artists whose label start with an underscore are ignored when legend() is called with no argument.\n"
          ]
        },
        {
          "data": {
            "image/png": "[encoded data removed]",
            "text/plain": [
              "<Figure size 640x480 with 1 Axes>"
            ]
          },
          "metadata": {},
          "output_type": "display_data"
        }
      ],
      "source": [
        "plt.barh(chinaex3['category'], chinaex3['sumusd'], color = ['#1f77b4', '#ff7f0e', '#2ca02c', '#d62728', '#9467bd', '#8c564b'])\n",
        "plt.title('Top 6 Kategori Ekspor China')\n",
        "plt.xlabel('Nilai dalam USD')\n",
        "plt.ylabel('Kategori')\n",
        "plt.xticks(rotation=60, ha='right')\n",
        "plt.legend().remove()\n",
        "plt.show()\n",
        "\n",
        "plt.barh(chinaim3['category'], chinaim3['sumusd'], color = ['#d62728', '#8c564b', '#1f77b4', '#9467bd', '#2ca02c', '#ff7f0e'] )\n",
        "plt.title('Top 6 Kategori Impor China')\n",
        "plt.xlabel('Nilai dalam USD')\n",
        "plt.ylabel('Kategori')\n",
        "plt.xticks(rotation=60, ha='right')\n",
        "plt.legend().remove()\n",
        "plt.show()"
      ]
    },
    {
      "cell_type": "markdown",
      "metadata": {
        "id": "t4zqh1Fe4nwU"
      },
      "source": [
        "### USA"
      ]
    },
    {
      "cell_type": "code",
      "execution_count": null,
      "metadata": {
        "id": "irrfTyHNy8dw"
      },
      "outputs": [],
      "source": [
        "# Filter untuk ekspor USA\n",
        "usaex = trade2[(trade2['country'] == 'usa') & (trade2['flow'] == 'Export')]\n",
        "\n",
        "# Top 5 ekspor China\n",
        "usaex1 = usaex.groupby('category').agg(sumusd=('trade_usd', 'sum')).reset_index()\n",
        "usaex2 = usaex1.sort_values('sumusd', ascending=True)\n",
        "usaex3 = usaex2.iloc[[2, 3, 4, 5, 6, 8]]"
      ]
    },
    {
      "cell_type": "code",
      "execution_count": null,
      "metadata": {
        "id": "5wSgtkbeAcCU"
      },
      "outputs": [],
      "source": [
        "# Filter untuk impor China\n",
        "usaim = trade2[(trade2['country'] == 'usa') & (trade2['flow'] == 'Import')]\n",
        "\n",
        "# Top 5 impor China\n",
        "usaim1 = usaim.groupby('category').agg(sumusd=('trade_usd', 'sum')).reset_index()\n",
        "usaim2 = usaim1.sort_values('sumusd', ascending=True)\n",
        "usaim3 = usaim2.iloc[2:8]"
      ]
    },
    {
      "cell_type": "code",
      "execution_count": null,
      "metadata": {
        "colab": {
          "base_uri": "https://localhost:8080/",
          "height": 923
        },
        "id": "yxnTZtFzAcLq",
        "outputId": "1c882d5b-3e16-4ce2-d74e-d8af903d2b44"
      },
      "outputs": [
        {
          "name": "stderr",
          "output_type": "stream",
          "text": [
            "WARNING:matplotlib.legend:No artists with labels found to put in legend.  Note that artists whose label start with an underscore are ignored when legend() is called with no argument.\n"
          ]
        },
        {
          "data": {
            "image/png": "[encoded data removed]",
            "text/plain": [
              "<Figure size 640x480 with 1 Axes>"
            ]
          },
          "metadata": {},
          "output_type": "display_data"
        },
        {
          "name": "stderr",
          "output_type": "stream",
          "text": [
            "WARNING:matplotlib.legend:No artists with labels found to put in legend.  Note that artists whose label start with an underscore are ignored when legend() is called with no argument.\n"
          ]
        },
        {
          "data": {
            "image/png": "[encoded data removed]",
            "text/plain": [
              "<Figure size 640x480 with 1 Axes>"
            ]
          },
          "metadata": {},
          "output_type": "display_data"
        }
      ],
      "source": [
        "plt.barh(usaex3['category'], usaex3['sumusd'], color = ['#1f77b4', '#ff7f0e', '#2ca02c', '#d62728', '#9467bd', '#8c564b'])\n",
        "plt.title('Top 6 Kategori Ekspor USA')\n",
        "plt.xlabel('Nilai dalam USD')\n",
        "plt.ylabel('Kategori')\n",
        "plt.xticks(rotation=60, ha='right')\n",
        "plt.legend().remove()\n",
        "plt.show()\n",
        "\n",
        "plt.barh(usaim3['category'], usaim3['sumusd'], color = ['#d62728', '#8c564b', '#1f77b4', '#9467bd', '#2ca02c', '#ff7f0e'] )\n",
        "plt.title('Top 6 Kategori Impor USA')\n",
        "plt.xlabel('Nilai dalam USD')\n",
        "plt.ylabel('Kategori')\n",
        "plt.xticks(rotation=60, ha='right')\n",
        "plt.legend().remove()\n",
        "plt.show()"
      ]
    },
    {
      "cell_type": "markdown",
      "metadata": {
        "id": "PT_lRXvU_YT2"
      },
      "source": [
        "## 2.2 Komoditas Perang Dagang"
      ]
    },
    {
      "cell_type": "markdown",
      "metadata": {
        "id": "VKpoWBdzbE7K"
      },
      "source": [
        "\n",
        "Dalam bagian sebelumnya, kami menemukan kategori-kategori dengan nilai perdagangan tertinggi. Pada bagian ini, kami akan fokus pada komoditas-komoditas yang tercantum dalam daftar tarif. Kami akan memilih komoditas-komoditas termasuk babi, pesawat terbang, peralatan listrik, baja, perangkat medis, kapas, aluminium, dan kendaraan. Kami dapat melihat bahwa impor dan ekspor Tiongkok dan Amerika Serikat masing-masing sekitar 100 miliar, yang sesuai dengan pernyataan berita (lebih dari 200 miliar barang perdagangan akan terpengaruh oleh perang tarif). Selain itu, grafik menunjukkan bahwa impor dan ekspor Tiongkok dan Amerika Serikat mendominasi sekitar 20% dari perdagangan barang tarif dunia. Kami juga melihat bahwa perang tarif mungkin memiliki dampak yang lebih besar dalam perdagangan Tiongkok, karena persentase perdagangan barang tarifnya memiliki tingkat yang lebih tinggi dibandingkan dengan Amerika Serikat."
      ]
    },
    {
      "cell_type": "code",
      "execution_count": null,
      "metadata": {
        "colab": {
          "base_uri": "https://localhost:8080/"
        },
        "id": "ws1t5hSNX4Yq",
        "outputId": "49fda883-3fab-4205-c078-21ff4a7f12b7"
      },
      "outputs": [
        {
          "name": "stderr",
          "output_type": "stream",
          "text": [
            "<ipython-input-19-1a77bdd7c057>:17: SettingWithCopyWarning: \n",
            "A value is trying to be set on a copy of a slice from a DataFrame.\n",
            "Try using .loc[row_indexer,col_indexer] = value instead\n",
            "\n",
            "See the caveats in the documentation: https://pandas.pydata.org/pandas-docs/stable/user_guide/indexing.html#returning-a-view-versus-a-copy\n",
            "  atrade['country'] = atrade['country_or_area'].apply(lambda x: 'China' if x in ['China', 'China, Hong Kong SAR'] else x)\n",
            "<ipython-input-19-1a77bdd7c057>:26: SettingWithCopyWarning: \n",
            "A value is trying to be set on a copy of a slice from a DataFrame\n",
            "\n",
            "See the caveats in the documentation: https://pandas.pydata.org/pandas-docs/stable/user_guide/indexing.html#returning-a-view-versus-a-copy\n",
            "  aex.rename(columns={'sumusd': 'usd'}, inplace=True)\n"
          ]
        }
      ],
      "source": [
        "import plotly.express as px\n",
        "\n",
        "# Membaca data trade2 ke dalam DataFrame overall\n",
        "overall = trade2[trade2['category'] == \"all_commodities\"]\n",
        "\n",
        "# Mengelompokkan data overall berdasarkan 'flow', 'country', dan 'year', lalu menghitung total 'trade_usd'\n",
        "overall1 = overall.groupby(['flow', 'country', 'year']).agg(sumusd=('trade_usd', 'sum')).reset_index()\n",
        "\n",
        "# Menambahkan kolom 'gc' berdasarkan pola pencarian kata kunci dalam 'commodity'\n",
        "trade['gc'] = trade['commodity'].str.lower().str.extract( r'(swine|aircraft|electric|steel|medical|cotton|aluminium|cars|automobiles|vehicles)', expand=False)\n",
        "trade['gc'] = trade['gc'].fillna('Other')\n",
        "\n",
        "# Mengambil data dari trade yang memiliki 'gc' bukan 'Other'\n",
        "atrade = trade[trade['gc'] != 'Other']\n",
        "\n",
        "# Mengganti nilai 'country_or_area' menjadi 'china' jika 'country_or_area' adalah 'China' atau 'China, Hong Kong SAR'\n",
        "atrade['country'] = atrade['country_or_area'].apply(lambda x: 'China' if x in ['China', 'China, Hong Kong SAR'] else x)\n",
        "\n",
        "# Filter dan mengelompokkan data untuk 'Import' dan 'Export' setelah tahun 2001\n",
        "atrade1 = atrade[(atrade['flow'].isin(['Import', 'Export'])) & (atrade['year'] > 2001)]\n",
        "atrade2 = atrade1.groupby(['flow', 'year']).agg(sumusd=('trade_usd', 'sum')).reset_index()\n",
        "\n",
        "# Memisahkan data antara 'Import' dan 'Export'\n",
        "aim = atrade2[atrade2['flow'] == 'Import']\n",
        "aex = atrade2[atrade2['flow'] == 'Export']\n",
        "aex.rename(columns={'sumusd': 'usd'}, inplace=True)\n",
        "\n",
        "# Menggabungkan data 'Import' dan 'Export' berdasarkan tahun\n",
        "aall = pd.merge(aim, aex, on='year')\n",
        "\n",
        "# Membuat DataFrame untuk data dari AS\n",
        "ausa = atrade1[atrade1['country_or_area'] == 'USA']\n",
        "ausa2 = ausa.groupby(['flow', 'year']).agg(sumusd1=('trade_usd', 'sum')).reset_index()\n",
        "\n",
        "# Membuat DataFrame untuk data dari Tiongkok\n",
        "acn = atrade1[atrade1['country'] == 'China']\n",
        "acn2 = acn.groupby(['flow', 'year']).agg(cusd=('trade_usd', 'sum')).reset_index()\n",
        "\n",
        "# Menggabungkan data AS dan Tiongkok ke dalam DataFrame aall\n",
        "aall['usai'] = pd.to_numeric(ausa2.loc[15:29, 'sumusd1'].values)\n",
        "aall['usae'] = pd.to_numeric(ausa2.loc[0:14, 'sumusd1'].values)\n",
        "aall['cni'] =  pd.to_numeric(acn2.loc[15:29, 'cusd'].values)\n",
        "aall['cne'] = pd.to_numeric(acn2.loc[0:14, 'cusd'].values)\n",
        "\n",
        "# Menghitung persentase AS dan Tiongkok terhadap total perdagangan dunia\n",
        "aall['usacni'] = aall['usai'] + aall['cni']\n",
        "aall['usacne'] = aall['usae'] + aall['cne']\n",
        "aall['usacnipct'] = aall['usacni'] / aall['sumusd']\n",
        "aall['usacnepct'] = aall['usacne'] / aall['usd']\n",
        "aall['usaipct'] = aall['usai'] / aall['sumusd']\n",
        "aall['usaepct'] = aall['usae'] / aall['usd']\n",
        "aall['cnipct'] = aall['cni'] / aall['sumusd']\n",
        "aall['cnepct'] = aall['cne'] / aall['usd']"
      ]
    },
    {
      "cell_type": "markdown",
      "metadata": {
        "id": "q8j-SesrvOdg"
      },
      "source": [
        "### 2.2.1 Sejarah Perdagangan Komoditas Tarif di Dunia"
      ]
    },
    {
      "cell_type": "code",
      "execution_count": null,
      "metadata": {
        "colab": {
          "base_uri": "https://localhost:8080/",
          "height": 542
        },
        "id": "ySgK2V8skQSx",
        "outputId": "737e8d20-1ada-403c-b3c9-41c4418cbf58"
      },
      "outputs": [
        {
          "data": {
            "text/html": [
              "<html>\n",
              "<head><meta charset=\"utf-8\" /></head>\n",
              "<body>\n",
              "    <div>            <script src=\"https://cdnjs.cloudflare.com/ajax/libs/mathjax/2.7.5/MathJax.js?config=TeX-AMS-MML_SVG\"></script><script type=\"text/javascript\">if (window.MathJax && window.MathJax.Hub && window.MathJax.Hub.Config) {window.MathJax.Hub.Config({SVG: {font: \"STIX-Web\"}});}</script>                <script type=\"text/javascript\">window.PlotlyConfig = {MathJaxConfig: 'local'};</script>\n",
              "        <script charset=\"utf-8\" src=\"https://cdn.plot.ly/plotly-2.24.1.min.js\"></script>                <div id=\"c97e92ad-d546-44a5-87ec-34a4b4518f6d\" class=\"plotly-graph-div\" style=\"height:525px; width:100%;\"></div>            <script type=\"text/javascript\">                                    window.PLOTLYENV=window.PLOTLYENV || {};                                    if (document.getElementById(\"c97e92ad-d546-44a5-87ec-34a4b4518f6d\")) {                    Plotly.newPlot(                        \"c97e92ad-d546-44a5-87ec-34a4b4518f6d\",                        [{\"mode\":\"lines\",\"name\":\"Import\",\"x\":[2002,2003,2004,2005,2006,2007,2008,2009,2010,2011,2012,2013,2014,2015,2016],\"y\":[348911730029,383694486360,459162375847,513685416878,592203658564,664857369933,715186691841,534219881418,619261003578,732116629467,746157567817,790400735207,799680425135,788339349034,605952191601],\"type\":\"scatter\"},{\"mode\":\"lines+markers\",\"name\":\"Export\",\"x\":[2002,2003,2004,2005,2006,2007,2008,2009,2010,2011,2012,2013,2014,2015,2016],\"y\":[299934749291,347240704630,417342463726,468705250043,532663418020,617183118529,679952554392,564614418735,666988307024,767895579276,792662562281,815928960637,840591550379,797597672721,640897691457],\"type\":\"scatter\"},{\"mode\":\"lines\",\"name\":\"China and USA Import\",\"x\":[2002,2003,2004,2005,2006,2007,2008,2009,2010,2011,2012,2013,2014,2015,2016],\"y\":[44581658567,52260369806,57359902682,58983337055,71831375035,81244969740,86657044687,82356194494,111625585270,139653512251,154618245478,168655049017,185826064536,161549965278,153584842652],\"type\":\"scatter\"},{\"mode\":\"lines+markers\",\"name\":\"China and USA Export\",\"x\":[2002,2003,2004,2005,2006,2007,2008,2009,2010,2011,2012,2013,2014,2015,2016],\"y\":[70387775017,74098376565,83666368793,98425710450,125268305893,144153371335,152757954254,73417673385,93689069112,112343765109,118708788712,132211952052,148637334316,150130134218,139710113033],\"type\":\"scatter\"}],                        {\"template\":{\"data\":{\"histogram2dcontour\":[{\"type\":\"histogram2dcontour\",\"colorbar\":{\"outlinewidth\":0,\"ticks\":\"\"},\"colorscale\":[[0.0,\"#0d0887\"],[0.1111111111111111,\"#46039f\"],[0.2222222222222222,\"#7201a8\"],[0.3333333333333333,\"#9c179e\"],[0.4444444444444444,\"#bd3786\"],[0.5555555555555556,\"#d8576b\"],[0.6666666666666666,\"#ed7953\"],[0.7777777777777778,\"#fb9f3a\"],[0.8888888888888888,\"#fdca26\"],[1.0,\"#f0f921\"]]}],\"choropleth\":[{\"type\":\"choropleth\",\"colorbar\":{\"outlinewidth\":0,\"ticks\":\"\"}}],\"histogram2d\":[{\"type\":\"histogram2d\",\"colorbar\":{\"outlinewidth\":0,\"ticks\":\"\"},\"colorscale\":[[0.0,\"#0d0887\"],[0.1111111111111111,\"#46039f\"],[0.2222222222222222,\"#7201a8\"],[0.3333333333333333,\"#9c179e\"],[0.4444444444444444,\"#bd3786\"],[0.5555555555555556,\"#d8576b\"],[0.6666666666666666,\"#ed7953\"],[0.7777777777777778,\"#fb9f3a\"],[0.8888888888888888,\"#fdca26\"],[1.0,\"#f0f921\"]]}],\"heatmap\":[{\"type\":\"heatmap\",\"colorbar\":{\"outlinewidth\":0,\"ticks\":\"\"},\"colorscale\":[[0.0,\"#0d0887\"],[0.1111111111111111,\"#46039f\"],[0.2222222222222222,\"#7201a8\"],[0.3333333333333333,\"#9c179e\"],[0.4444444444444444,\"#bd3786\"],[0.5555555555555556,\"#d8576b\"],[0.6666666666666666,\"#ed7953\"],[0.7777777777777778,\"#fb9f3a\"],[0.8888888888888888,\"#fdca26\"],[1.0,\"#f0f921\"]]}],\"heatmapgl\":[{\"type\":\"heatmapgl\",\"colorbar\":{\"outlinewidth\":0,\"ticks\":\"\"},\"colorscale\":[[0.0,\"#0d0887\"],[0.1111111111111111,\"#46039f\"],[0.2222222222222222,\"#7201a8\"],[0.3333333333333333,\"#9c179e\"],[0.4444444444444444,\"#bd3786\"],[0.5555555555555556,\"#d8576b\"],[0.6666666666666666,\"#ed7953\"],[0.7777777777777778,\"#fb9f3a\"],[0.8888888888888888,\"#fdca26\"],[1.0,\"#f0f921\"]]}],\"contourcarpet\":[{\"type\":\"contourcarpet\",\"colorbar\":{\"outlinewidth\":0,\"ticks\":\"\"}}],\"contour\":[{\"type\":\"contour\",\"colorbar\":{\"outlinewidth\":0,\"ticks\":\"\"},\"colorscale\":[[0.0,\"#0d0887\"],[0.1111111111111111,\"#46039f\"],[0.2222222222222222,\"#7201a8\"],[0.3333333333333333,\"#9c179e\"],[0.4444444444444444,\"#bd3786\"],[0.5555555555555556,\"#d8576b\"],[0.6666666666666666,\"#ed7953\"],[0.7777777777777778,\"#fb9f3a\"],[0.8888888888888888,\"#fdca26\"],[1.0,\"#f0f921\"]]}],\"surface\":[{\"type\":\"surface\",\"colorbar\":{\"outlinewidth\":0,\"ticks\":\"\"},\"colorscale\":[[0.0,\"#0d0887\"],[0.1111111111111111,\"#46039f\"],[0.2222222222222222,\"#7201a8\"],[0.3333333333333333,\"#9c179e\"],[0.4444444444444444,\"#bd3786\"],[0.5555555555555556,\"#d8576b\"],[0.6666666666666666,\"#ed7953\"],[0.7777777777777778,\"#fb9f3a\"],[0.8888888888888888,\"#fdca26\"],[1.0,\"#f0f921\"]]}],\"mesh3d\":[{\"type\":\"mesh3d\",\"colorbar\":{\"outlinewidth\":0,\"ticks\":\"\"}}],\"scatter\":[{\"fillpattern\":{\"fillmode\":\"overlay\",\"size\":10,\"solidity\":0.2},\"type\":\"scatter\"}],\"parcoords\":[{\"type\":\"parcoords\",\"line\":{\"colorbar\":{\"outlinewidth\":0,\"ticks\":\"\"}}}],\"scatterpolargl\":[{\"type\":\"scatterpolargl\",\"marker\":{\"colorbar\":{\"outlinewidth\":0,\"ticks\":\"\"}}}],\"bar\":[{\"error_x\":{\"color\":\"#2a3f5f\"},\"error_y\":{\"color\":\"#2a3f5f\"},\"marker\":{\"line\":{\"color\":\"#E5ECF6\",\"width\":0.5},\"pattern\":{\"fillmode\":\"overlay\",\"size\":10,\"solidity\":0.2}},\"type\":\"bar\"}],\"scattergeo\":[{\"type\":\"scattergeo\",\"marker\":{\"colorbar\":{\"outlinewidth\":0,\"ticks\":\"\"}}}],\"scatterpolar\":[{\"type\":\"scatterpolar\",\"marker\":{\"colorbar\":{\"outlinewidth\":0,\"ticks\":\"\"}}}],\"histogram\":[{\"marker\":{\"pattern\":{\"fillmode\":\"overlay\",\"size\":10,\"solidity\":0.2}},\"type\":\"histogram\"}],\"scattergl\":[{\"type\":\"scattergl\",\"marker\":{\"colorbar\":{\"outlinewidth\":0,\"ticks\":\"\"}}}],\"scatter3d\":[{\"type\":\"scatter3d\",\"line\":{\"colorbar\":{\"outlinewidth\":0,\"ticks\":\"\"}},\"marker\":{\"colorbar\":{\"outlinewidth\":0,\"ticks\":\"\"}}}],\"scattermapbox\":[{\"type\":\"scattermapbox\",\"marker\":{\"colorbar\":{\"outlinewidth\":0,\"ticks\":\"\"}}}],\"scatterternary\":[{\"type\":\"scatterternary\",\"marker\":{\"colorbar\":{\"outlinewidth\":0,\"ticks\":\"\"}}}],\"scattercarpet\":[{\"type\":\"scattercarpet\",\"marker\":{\"colorbar\":{\"outlinewidth\":0,\"ticks\":\"\"}}}],\"carpet\":[{\"aaxis\":{\"endlinecolor\":\"#2a3f5f\",\"gridcolor\":\"white\",\"linecolor\":\"white\",\"minorgridcolor\":\"white\",\"startlinecolor\":\"#2a3f5f\"},\"baxis\":{\"endlinecolor\":\"#2a3f5f\",\"gridcolor\":\"white\",\"linecolor\":\"white\",\"minorgridcolor\":\"white\",\"startlinecolor\":\"#2a3f5f\"},\"type\":\"carpet\"}],\"table\":[{\"cells\":{\"fill\":{\"color\":\"#EBF0F8\"},\"line\":{\"color\":\"white\"}},\"header\":{\"fill\":{\"color\":\"#C8D4E3\"},\"line\":{\"color\":\"white\"}},\"type\":\"table\"}],\"barpolar\":[{\"marker\":{\"line\":{\"color\":\"#E5ECF6\",\"width\":0.5},\"pattern\":{\"fillmode\":\"overlay\",\"size\":10,\"solidity\":0.2}},\"type\":\"barpolar\"}],\"pie\":[{\"automargin\":true,\"type\":\"pie\"}]},\"layout\":{\"autotypenumbers\":\"strict\",\"colorway\":[\"#636efa\",\"#EF553B\",\"#00cc96\",\"#ab63fa\",\"#FFA15A\",\"#19d3f3\",\"#FF6692\",\"#B6E880\",\"#FF97FF\",\"#FECB52\"],\"font\":{\"color\":\"#2a3f5f\"},\"hovermode\":\"closest\",\"hoverlabel\":{\"align\":\"left\"},\"paper_bgcolor\":\"white\",\"plot_bgcolor\":\"#E5ECF6\",\"polar\":{\"bgcolor\":\"#E5ECF6\",\"angularaxis\":{\"gridcolor\":\"white\",\"linecolor\":\"white\",\"ticks\":\"\"},\"radialaxis\":{\"gridcolor\":\"white\",\"linecolor\":\"white\",\"ticks\":\"\"}},\"ternary\":{\"bgcolor\":\"#E5ECF6\",\"aaxis\":{\"gridcolor\":\"white\",\"linecolor\":\"white\",\"ticks\":\"\"},\"baxis\":{\"gridcolor\":\"white\",\"linecolor\":\"white\",\"ticks\":\"\"},\"caxis\":{\"gridcolor\":\"white\",\"linecolor\":\"white\",\"ticks\":\"\"}},\"coloraxis\":{\"colorbar\":{\"outlinewidth\":0,\"ticks\":\"\"}},\"colorscale\":{\"sequential\":[[0.0,\"#0d0887\"],[0.1111111111111111,\"#46039f\"],[0.2222222222222222,\"#7201a8\"],[0.3333333333333333,\"#9c179e\"],[0.4444444444444444,\"#bd3786\"],[0.5555555555555556,\"#d8576b\"],[0.6666666666666666,\"#ed7953\"],[0.7777777777777778,\"#fb9f3a\"],[0.8888888888888888,\"#fdca26\"],[1.0,\"#f0f921\"]],\"sequentialminus\":[[0.0,\"#0d0887\"],[0.1111111111111111,\"#46039f\"],[0.2222222222222222,\"#7201a8\"],[0.3333333333333333,\"#9c179e\"],[0.4444444444444444,\"#bd3786\"],[0.5555555555555556,\"#d8576b\"],[0.6666666666666666,\"#ed7953\"],[0.7777777777777778,\"#fb9f3a\"],[0.8888888888888888,\"#fdca26\"],[1.0,\"#f0f921\"]],\"diverging\":[[0,\"#8e0152\"],[0.1,\"#c51b7d\"],[0.2,\"#de77ae\"],[0.3,\"#f1b6da\"],[0.4,\"#fde0ef\"],[0.5,\"#f7f7f7\"],[0.6,\"#e6f5d0\"],[0.7,\"#b8e186\"],[0.8,\"#7fbc41\"],[0.9,\"#4d9221\"],[1,\"#276419\"]]},\"xaxis\":{\"gridcolor\":\"white\",\"linecolor\":\"white\",\"ticks\":\"\",\"title\":{\"standoff\":15},\"zerolinecolor\":\"white\",\"automargin\":true,\"zerolinewidth\":2},\"yaxis\":{\"gridcolor\":\"white\",\"linecolor\":\"white\",\"ticks\":\"\",\"title\":{\"standoff\":15},\"zerolinecolor\":\"white\",\"automargin\":true,\"zerolinewidth\":2},\"scene\":{\"xaxis\":{\"backgroundcolor\":\"#E5ECF6\",\"gridcolor\":\"white\",\"linecolor\":\"white\",\"showbackground\":true,\"ticks\":\"\",\"zerolinecolor\":\"white\",\"gridwidth\":2},\"yaxis\":{\"backgroundcolor\":\"#E5ECF6\",\"gridcolor\":\"white\",\"linecolor\":\"white\",\"showbackground\":true,\"ticks\":\"\",\"zerolinecolor\":\"white\",\"gridwidth\":2},\"zaxis\":{\"backgroundcolor\":\"#E5ECF6\",\"gridcolor\":\"white\",\"linecolor\":\"white\",\"showbackground\":true,\"ticks\":\"\",\"zerolinecolor\":\"white\",\"gridwidth\":2}},\"shapedefaults\":{\"line\":{\"color\":\"#2a3f5f\"}},\"annotationdefaults\":{\"arrowcolor\":\"#2a3f5f\",\"arrowhead\":0,\"arrowwidth\":1},\"geo\":{\"bgcolor\":\"white\",\"landcolor\":\"#E5ECF6\",\"subunitcolor\":\"white\",\"showland\":true,\"showlakes\":true,\"lakecolor\":\"white\"},\"title\":{\"x\":0.05},\"mapbox\":{\"style\":\"light\"}}},\"title\":{\"text\":\"Sejarah Perdagangan Komoditas Tarif di Dunia\"},\"xaxis\":{\"title\":{\"text\":\"Tahun\"}},\"yaxis\":{\"title\":{\"text\":\"Nilai dalam USD\"}}},                        {\"responsive\": true}                    ).then(function(){\n",
              "                            \n",
              "var gd = document.getElementById('c97e92ad-d546-44a5-87ec-34a4b4518f6d');\n",
              "var x = new MutationObserver(function (mutations, observer) {{\n",
              "        var display = window.getComputedStyle(gd).display;\n",
              "        if (!display || display === 'none') {{\n",
              "            console.log([gd, 'removed!']);\n",
              "            Plotly.purge(gd);\n",
              "            observer.disconnect();\n",
              "        }}\n",
              "}});\n",
              "\n",
              "// Listen for the removal of the full notebook cells\n",
              "var notebookContainer = gd.closest('#notebook-container');\n",
              "if (notebookContainer) {{\n",
              "    x.observe(notebookContainer, {childList: true});\n",
              "}}\n",
              "\n",
              "// Listen for the clearing of the current output cell\n",
              "var outputEl = gd.closest('.output');\n",
              "if (outputEl) {{\n",
              "    x.observe(outputEl, {childList: true});\n",
              "}}\n",
              "\n",
              "                        })                };                            </script>        </div>\n",
              "</body>\n",
              "</html>"
            ]
          },
          "metadata": {},
          "output_type": "display_data"
        }
      ],
      "source": [
        "# Membuat plot garis untuk meninjau tarif komoditas secara keseluruhan\n",
        "import plotly.graph_objects as go\n",
        "\n",
        "# Membuat plot garis dengan simbol titik\n",
        "fig = go.Figure()\n",
        "\n",
        "# Menambahkan garis dan titik sesuai dengan spesifikasi\n",
        "fig.add_trace(go.Scatter(x=aall['year'], y=aall['usd'], mode='lines', name=\"Import\"))\n",
        "fig.add_trace(go.Scatter(x=aall['year'], y=aall['sumusd'], mode='lines+markers', name=\"Export\"))\n",
        "fig.add_trace(go.Scatter(x=aall['year'], y=aall['usacni'], mode='lines', name=\"China and USA Import\"))\n",
        "fig.add_trace(go.Scatter(x=aall['year'], y=aall['usacne'], mode='lines+markers', name=\"China and USA Export\"))\n",
        "\n",
        "# Menyesuaikan tata letak dan label\n",
        "fig.update_layout(title='Sejarah Perdagangan Komoditas Tarif di Dunia',\n",
        "                  xaxis=dict(title='Tahun'),\n",
        "                  yaxis=dict(title='Nilai dalam USD'))\n",
        "\n",
        "fig.show()"
      ]
    },
    {
      "cell_type": "markdown",
      "metadata": {
        "id": "Zkyn9gM2vZjJ"
      },
      "source": [
        "### 2.2.2 Persentase Tiongkok dan AS dalam Sejarah Perdagangan Komoditas Tarif"
      ]
    },
    {
      "cell_type": "code",
      "execution_count": null,
      "metadata": {
        "colab": {
          "base_uri": "https://localhost:8080/",
          "height": 542
        },
        "id": "D4IdLQYAviR4",
        "outputId": "f91d1fbd-55ea-4cca-8f5c-e368ac1bfc22"
      },
      "outputs": [
        {
          "data": {
            "text/html": [
              "<html>\n",
              "<head><meta charset=\"utf-8\" /></head>\n",
              "<body>\n",
              "    <div>            <script src=\"https://cdnjs.cloudflare.com/ajax/libs/mathjax/2.7.5/MathJax.js?config=TeX-AMS-MML_SVG\"></script><script type=\"text/javascript\">if (window.MathJax && window.MathJax.Hub && window.MathJax.Hub.Config) {window.MathJax.Hub.Config({SVG: {font: \"STIX-Web\"}});}</script>                <script type=\"text/javascript\">window.PlotlyConfig = {MathJaxConfig: 'local'};</script>\n",
              "        <script charset=\"utf-8\" src=\"https://cdn.plot.ly/plotly-2.24.1.min.js\"></script>                <div id=\"1a3fd433-4168-4ba3-bda3-cbd025bdc634\" class=\"plotly-graph-div\" style=\"height:525px; width:100%;\"></div>            <script type=\"text/javascript\">                                    window.PLOTLYENV=window.PLOTLYENV || {};                                    if (document.getElementById(\"1a3fd433-4168-4ba3-bda3-cbd025bdc634\")) {                    Plotly.newPlot(                        \"1a3fd433-4168-4ba3-bda3-cbd025bdc634\",                        [{\"mode\":\"lines\",\"name\":\"China & USA Import %\",\"x\":[2002,2003,2004,2005,2006,2007,2008,2009,2010,2011,2012,2013,2014,2015,2016],\"y\":[0.1486378576419846,0.15050185392776946,0.13744084934443382,0.12584313286354004,0.13485321613038373,0.13163835383838757,0.1274457226864704,0.14586271933776743,0.1673576344509791,0.18186523795679413,0.19506187479457068,0.20670310425717714,0.22106582495650362,0.20254568287150737,0.2396401870364742],\"type\":\"scatter\"},{\"mode\":\"lines+markers\",\"name\":\"China and USA Export %\",\"x\":[2002,2003,2004,2005,2006,2007,2008,2009,2010,2011,2012,2013,2014,2015,2016],\"y\":[0.20173519248306637,0.1931181687491789,0.1822152101174747,0.19160697815444516,0.21152909827804134,0.21681849048244264,0.21359171807402855,0.1374296912913924,0.15129173090292813,0.15345063967579756,0.15909345938727262,0.1672720509519449,0.18587091748670406,0.19043846333684036,0.23056293049104873],\"type\":\"scatter\"},{\"mode\":\"lines\",\"name\":\"USA Import %\",\"x\":[2002,2003,2004,2005,2006,2007,2008,2009,2010,2011,2012,2013,2014,2015,2016],\"y\":[0.06083964720038378,0.0505672285618412,0.04050048027247266,0.03625258782452541,0.033788170114817676,0.035930900243762914,0.031458405214944314,0.03226120409005923,0.028237436459770355,0.027942229015343694,0.030440827250077854,0.035368847925768006,0.04033550954528729,0.04379454920653797,0.04770277119347561],\"type\":\"scatter\"},{\"mode\":\"lines+markers\",\"name\":\"USA Export %\",\"x\":[2002,2003,2004,2005,2006,2007,2008,2009,2010,2011,2012,2013,2014,2015,2016],\"y\":[0.11967016879177311,0.10176742551980204,0.09097527847734461,0.0964787232898426,0.11184259640105225,0.11215377714548656,0.09975430670745888,0.01586991536798754,0.01280615784003767,0.011114867800399815,0.014442654949581649,0.012857532605075944,0.01447962342087497,0.014797209694396334,0.020605292516577795],\"type\":\"scatter\"},{\"mode\":\"lines\",\"name\":\"China Import %\",\"x\":[2002,2003,2004,2005,2006,2007,2008,2009,2010,2011,2012,2013,2014,2015,2016],\"y\":[0.08779821044160081,0.09993462536592826,0.09694036907196116,0.08959054503901462,0.10106504601556605,0.09570745359462467,0.09598731747152607,0.11360151524770819,0.13912019799120873,0.15392300894145042,0.1646210475444928,0.17133425633140914,0.1807303154112163,0.1587511336649694,0.19193741584299856],\"type\":\"scatter\"},{\"mode\":\"lines+markers\",\"name\":\"China Export %\",\"x\":[2002,2003,2004,2005,2006,2007,2008,2009,2010,2011,2012,2013,2014,2015,2016],\"y\":[0.08206502369129325,0.09135074322937685,0.09123993164013008,0.09512825486460257,0.0996865018769891,0.10466471333695607,0.11383741136656965,0.12155977592340486,0.13848557306289047,0.14233577187539773,0.14465080443769096,0.15441451834686895,0.1713912940658291,0.175641253642444,0.20995763797447092],\"type\":\"scatter\"}],                        {\"template\":{\"data\":{\"histogram2dcontour\":[{\"type\":\"histogram2dcontour\",\"colorbar\":{\"outlinewidth\":0,\"ticks\":\"\"},\"colorscale\":[[0.0,\"#0d0887\"],[0.1111111111111111,\"#46039f\"],[0.2222222222222222,\"#7201a8\"],[0.3333333333333333,\"#9c179e\"],[0.4444444444444444,\"#bd3786\"],[0.5555555555555556,\"#d8576b\"],[0.6666666666666666,\"#ed7953\"],[0.7777777777777778,\"#fb9f3a\"],[0.8888888888888888,\"#fdca26\"],[1.0,\"#f0f921\"]]}],\"choropleth\":[{\"type\":\"choropleth\",\"colorbar\":{\"outlinewidth\":0,\"ticks\":\"\"}}],\"histogram2d\":[{\"type\":\"histogram2d\",\"colorbar\":{\"outlinewidth\":0,\"ticks\":\"\"},\"colorscale\":[[0.0,\"#0d0887\"],[0.1111111111111111,\"#46039f\"],[0.2222222222222222,\"#7201a8\"],[0.3333333333333333,\"#9c179e\"],[0.4444444444444444,\"#bd3786\"],[0.5555555555555556,\"#d8576b\"],[0.6666666666666666,\"#ed7953\"],[0.7777777777777778,\"#fb9f3a\"],[0.8888888888888888,\"#fdca26\"],[1.0,\"#f0f921\"]]}],\"heatmap\":[{\"type\":\"heatmap\",\"colorbar\":{\"outlinewidth\":0,\"ticks\":\"\"},\"colorscale\":[[0.0,\"#0d0887\"],[0.1111111111111111,\"#46039f\"],[0.2222222222222222,\"#7201a8\"],[0.3333333333333333,\"#9c179e\"],[0.4444444444444444,\"#bd3786\"],[0.5555555555555556,\"#d8576b\"],[0.6666666666666666,\"#ed7953\"],[0.7777777777777778,\"#fb9f3a\"],[0.8888888888888888,\"#fdca26\"],[1.0,\"#f0f921\"]]}],\"heatmapgl\":[{\"type\":\"heatmapgl\",\"colorbar\":{\"outlinewidth\":0,\"ticks\":\"\"},\"colorscale\":[[0.0,\"#0d0887\"],[0.1111111111111111,\"#46039f\"],[0.2222222222222222,\"#7201a8\"],[0.3333333333333333,\"#9c179e\"],[0.4444444444444444,\"#bd3786\"],[0.5555555555555556,\"#d8576b\"],[0.6666666666666666,\"#ed7953\"],[0.7777777777777778,\"#fb9f3a\"],[0.8888888888888888,\"#fdca26\"],[1.0,\"#f0f921\"]]}],\"contourcarpet\":[{\"type\":\"contourcarpet\",\"colorbar\":{\"outlinewidth\":0,\"ticks\":\"\"}}],\"contour\":[{\"type\":\"contour\",\"colorbar\":{\"outlinewidth\":0,\"ticks\":\"\"},\"colorscale\":[[0.0,\"#0d0887\"],[0.1111111111111111,\"#46039f\"],[0.2222222222222222,\"#7201a8\"],[0.3333333333333333,\"#9c179e\"],[0.4444444444444444,\"#bd3786\"],[0.5555555555555556,\"#d8576b\"],[0.6666666666666666,\"#ed7953\"],[0.7777777777777778,\"#fb9f3a\"],[0.8888888888888888,\"#fdca26\"],[1.0,\"#f0f921\"]]}],\"surface\":[{\"type\":\"surface\",\"colorbar\":{\"outlinewidth\":0,\"ticks\":\"\"},\"colorscale\":[[0.0,\"#0d0887\"],[0.1111111111111111,\"#46039f\"],[0.2222222222222222,\"#7201a8\"],[0.3333333333333333,\"#9c179e\"],[0.4444444444444444,\"#bd3786\"],[0.5555555555555556,\"#d8576b\"],[0.6666666666666666,\"#ed7953\"],[0.7777777777777778,\"#fb9f3a\"],[0.8888888888888888,\"#fdca26\"],[1.0,\"#f0f921\"]]}],\"mesh3d\":[{\"type\":\"mesh3d\",\"colorbar\":{\"outlinewidth\":0,\"ticks\":\"\"}}],\"scatter\":[{\"fillpattern\":{\"fillmode\":\"overlay\",\"size\":10,\"solidity\":0.2},\"type\":\"scatter\"}],\"parcoords\":[{\"type\":\"parcoords\",\"line\":{\"colorbar\":{\"outlinewidth\":0,\"ticks\":\"\"}}}],\"scatterpolargl\":[{\"type\":\"scatterpolargl\",\"marker\":{\"colorbar\":{\"outlinewidth\":0,\"ticks\":\"\"}}}],\"bar\":[{\"error_x\":{\"color\":\"#2a3f5f\"},\"error_y\":{\"color\":\"#2a3f5f\"},\"marker\":{\"line\":{\"color\":\"#E5ECF6\",\"width\":0.5},\"pattern\":{\"fillmode\":\"overlay\",\"size\":10,\"solidity\":0.2}},\"type\":\"bar\"}],\"scattergeo\":[{\"type\":\"scattergeo\",\"marker\":{\"colorbar\":{\"outlinewidth\":0,\"ticks\":\"\"}}}],\"scatterpolar\":[{\"type\":\"scatterpolar\",\"marker\":{\"colorbar\":{\"outlinewidth\":0,\"ticks\":\"\"}}}],\"histogram\":[{\"marker\":{\"pattern\":{\"fillmode\":\"overlay\",\"size\":10,\"solidity\":0.2}},\"type\":\"histogram\"}],\"scattergl\":[{\"type\":\"scattergl\",\"marker\":{\"colorbar\":{\"outlinewidth\":0,\"ticks\":\"\"}}}],\"scatter3d\":[{\"type\":\"scatter3d\",\"line\":{\"colorbar\":{\"outlinewidth\":0,\"ticks\":\"\"}},\"marker\":{\"colorbar\":{\"outlinewidth\":0,\"ticks\":\"\"}}}],\"scattermapbox\":[{\"type\":\"scattermapbox\",\"marker\":{\"colorbar\":{\"outlinewidth\":0,\"ticks\":\"\"}}}],\"scatterternary\":[{\"type\":\"scatterternary\",\"marker\":{\"colorbar\":{\"outlinewidth\":0,\"ticks\":\"\"}}}],\"scattercarpet\":[{\"type\":\"scattercarpet\",\"marker\":{\"colorbar\":{\"outlinewidth\":0,\"ticks\":\"\"}}}],\"carpet\":[{\"aaxis\":{\"endlinecolor\":\"#2a3f5f\",\"gridcolor\":\"white\",\"linecolor\":\"white\",\"minorgridcolor\":\"white\",\"startlinecolor\":\"#2a3f5f\"},\"baxis\":{\"endlinecolor\":\"#2a3f5f\",\"gridcolor\":\"white\",\"linecolor\":\"white\",\"minorgridcolor\":\"white\",\"startlinecolor\":\"#2a3f5f\"},\"type\":\"carpet\"}],\"table\":[{\"cells\":{\"fill\":{\"color\":\"#EBF0F8\"},\"line\":{\"color\":\"white\"}},\"header\":{\"fill\":{\"color\":\"#C8D4E3\"},\"line\":{\"color\":\"white\"}},\"type\":\"table\"}],\"barpolar\":[{\"marker\":{\"line\":{\"color\":\"#E5ECF6\",\"width\":0.5},\"pattern\":{\"fillmode\":\"overlay\",\"size\":10,\"solidity\":0.2}},\"type\":\"barpolar\"}],\"pie\":[{\"automargin\":true,\"type\":\"pie\"}]},\"layout\":{\"autotypenumbers\":\"strict\",\"colorway\":[\"#636efa\",\"#EF553B\",\"#00cc96\",\"#ab63fa\",\"#FFA15A\",\"#19d3f3\",\"#FF6692\",\"#B6E880\",\"#FF97FF\",\"#FECB52\"],\"font\":{\"color\":\"#2a3f5f\"},\"hovermode\":\"closest\",\"hoverlabel\":{\"align\":\"left\"},\"paper_bgcolor\":\"white\",\"plot_bgcolor\":\"#E5ECF6\",\"polar\":{\"bgcolor\":\"#E5ECF6\",\"angularaxis\":{\"gridcolor\":\"white\",\"linecolor\":\"white\",\"ticks\":\"\"},\"radialaxis\":{\"gridcolor\":\"white\",\"linecolor\":\"white\",\"ticks\":\"\"}},\"ternary\":{\"bgcolor\":\"#E5ECF6\",\"aaxis\":{\"gridcolor\":\"white\",\"linecolor\":\"white\",\"ticks\":\"\"},\"baxis\":{\"gridcolor\":\"white\",\"linecolor\":\"white\",\"ticks\":\"\"},\"caxis\":{\"gridcolor\":\"white\",\"linecolor\":\"white\",\"ticks\":\"\"}},\"coloraxis\":{\"colorbar\":{\"outlinewidth\":0,\"ticks\":\"\"}},\"colorscale\":{\"sequential\":[[0.0,\"#0d0887\"],[0.1111111111111111,\"#46039f\"],[0.2222222222222222,\"#7201a8\"],[0.3333333333333333,\"#9c179e\"],[0.4444444444444444,\"#bd3786\"],[0.5555555555555556,\"#d8576b\"],[0.6666666666666666,\"#ed7953\"],[0.7777777777777778,\"#fb9f3a\"],[0.8888888888888888,\"#fdca26\"],[1.0,\"#f0f921\"]],\"sequentialminus\":[[0.0,\"#0d0887\"],[0.1111111111111111,\"#46039f\"],[0.2222222222222222,\"#7201a8\"],[0.3333333333333333,\"#9c179e\"],[0.4444444444444444,\"#bd3786\"],[0.5555555555555556,\"#d8576b\"],[0.6666666666666666,\"#ed7953\"],[0.7777777777777778,\"#fb9f3a\"],[0.8888888888888888,\"#fdca26\"],[1.0,\"#f0f921\"]],\"diverging\":[[0,\"#8e0152\"],[0.1,\"#c51b7d\"],[0.2,\"#de77ae\"],[0.3,\"#f1b6da\"],[0.4,\"#fde0ef\"],[0.5,\"#f7f7f7\"],[0.6,\"#e6f5d0\"],[0.7,\"#b8e186\"],[0.8,\"#7fbc41\"],[0.9,\"#4d9221\"],[1,\"#276419\"]]},\"xaxis\":{\"gridcolor\":\"white\",\"linecolor\":\"white\",\"ticks\":\"\",\"title\":{\"standoff\":15},\"zerolinecolor\":\"white\",\"automargin\":true,\"zerolinewidth\":2},\"yaxis\":{\"gridcolor\":\"white\",\"linecolor\":\"white\",\"ticks\":\"\",\"title\":{\"standoff\":15},\"zerolinecolor\":\"white\",\"automargin\":true,\"zerolinewidth\":2},\"scene\":{\"xaxis\":{\"backgroundcolor\":\"#E5ECF6\",\"gridcolor\":\"white\",\"linecolor\":\"white\",\"showbackground\":true,\"ticks\":\"\",\"zerolinecolor\":\"white\",\"gridwidth\":2},\"yaxis\":{\"backgroundcolor\":\"#E5ECF6\",\"gridcolor\":\"white\",\"linecolor\":\"white\",\"showbackground\":true,\"ticks\":\"\",\"zerolinecolor\":\"white\",\"gridwidth\":2},\"zaxis\":{\"backgroundcolor\":\"#E5ECF6\",\"gridcolor\":\"white\",\"linecolor\":\"white\",\"showbackground\":true,\"ticks\":\"\",\"zerolinecolor\":\"white\",\"gridwidth\":2}},\"shapedefaults\":{\"line\":{\"color\":\"#2a3f5f\"}},\"annotationdefaults\":{\"arrowcolor\":\"#2a3f5f\",\"arrowhead\":0,\"arrowwidth\":1},\"geo\":{\"bgcolor\":\"white\",\"landcolor\":\"#E5ECF6\",\"subunitcolor\":\"white\",\"showland\":true,\"showlakes\":true,\"lakecolor\":\"white\"},\"title\":{\"x\":0.05},\"mapbox\":{\"style\":\"light\"}}},\"title\":{\"text\":\"Persentase Tiongkok dan AS dalam Sejarah Perdagangan Komoditas Tarif\"},\"xaxis\":{\"title\":{\"text\":\"Tahun\"}},\"yaxis\":{\"title\":{\"text\":\"Persentase\"}}},                        {\"responsive\": true}                    ).then(function(){\n",
              "                            \n",
              "var gd = document.getElementById('1a3fd433-4168-4ba3-bda3-cbd025bdc634');\n",
              "var x = new MutationObserver(function (mutations, observer) {{\n",
              "        var display = window.getComputedStyle(gd).display;\n",
              "        if (!display || display === 'none') {{\n",
              "            console.log([gd, 'removed!']);\n",
              "            Plotly.purge(gd);\n",
              "            observer.disconnect();\n",
              "        }}\n",
              "}});\n",
              "\n",
              "// Listen for the removal of the full notebook cells\n",
              "var notebookContainer = gd.closest('#notebook-container');\n",
              "if (notebookContainer) {{\n",
              "    x.observe(notebookContainer, {childList: true});\n",
              "}}\n",
              "\n",
              "// Listen for the clearing of the current output cell\n",
              "var outputEl = gd.closest('.output');\n",
              "if (outputEl) {{\n",
              "    x.observe(outputEl, {childList: true});\n",
              "}}\n",
              "\n",
              "                        })                };                            </script>        </div>\n",
              "</body>\n",
              "</html>"
            ]
          },
          "metadata": {},
          "output_type": "display_data"
        }
      ],
      "source": [
        "import plotly.graph_objects as go\n",
        "\n",
        "# Membuat plot garis dengan simbol titik\n",
        "fig = go.Figure()\n",
        "\n",
        "# Menambahkan garis dan titik sesuai dengan spesifikasi\n",
        "fig.add_trace(go.Scatter(x=aall['year'], y=aall['usacnipct'], mode='lines', name=\"China & USA Import %\"))\n",
        "fig.add_trace(go.Scatter(x=aall['year'], y=aall['usacnepct'], mode='lines+markers', name=\"China and USA Export %\"))\n",
        "fig.add_trace(go.Scatter(x=aall['year'], y=aall['usaipct'], mode='lines', name=\"USA Import %\"))\n",
        "fig.add_trace(go.Scatter(x=aall['year'], y=aall['usaepct'], mode='lines+markers', name=\"USA Export %\"))\n",
        "fig.add_trace(go.Scatter(x=aall['year'], y=aall['cnipct'], mode='lines', name=\"China Import %\"))\n",
        "fig.add_trace(go.Scatter(x=aall['year'], y=aall['cnepct'], mode='lines+markers', name=\"China Export %\"))\n",
        "\n",
        "# Menyesuaikan tata letak dan label\n",
        "fig.update_layout(title='Persentase Tiongkok dan AS dalam Sejarah Perdagangan Komoditas Tarif',\n",
        "                  xaxis=dict(title='Tahun'),\n",
        "                  yaxis=dict(title='Persentase'))\n",
        "\n",
        "fig.show()\n"
      ]
    },
    {
      "cell_type": "markdown",
      "metadata": {
        "id": "deUyggxdyGUw"
      },
      "source": [
        "## 2.3 Tarif Distribusi Perdagangan Barang"
      ]
    },
    {
      "cell_type": "markdown",
      "metadata": {
        "id": "3Br78Y4MyGXm"
      },
      "source": [
        "### 2.3.1 USA Import Summary"
      ]
    },
    {
      "cell_type": "code",
      "execution_count": null,
      "metadata": {
        "colab": {
          "base_uri": "https://localhost:8080/",
          "height": 705
        },
        "id": "TZYV3tn5yj0W",
        "outputId": "46dd9cd4-d52b-4adf-ef95-717978f5555f"
      },
      "outputs": [
        {
          "name": "stderr",
          "output_type": "stream",
          "text": [
            "<ipython-input-22-ddb179a93651>:20: SettingWithCopyWarning:\n",
            "\n",
            "\n",
            "A value is trying to be set on a copy of a slice from a DataFrame.\n",
            "Try using .loc[row_indexer,col_indexer] = value instead\n",
            "\n",
            "See the caveats in the documentation: https://pandas.pydata.org/pandas-docs/stable/user_guide/indexing.html#returning-a-view-versus-a-copy\n",
            "\n"
          ]
        },
        {
          "data": {
            "text/html": [
              "<html>\n",
              "<head><meta charset=\"utf-8\" /></head>\n",
              "<body>\n",
              "    <div>            <script src=\"https://cdnjs.cloudflare.com/ajax/libs/mathjax/2.7.5/MathJax.js?config=TeX-AMS-MML_SVG\"></script><script type=\"text/javascript\">if (window.MathJax && window.MathJax.Hub && window.MathJax.Hub.Config) {window.MathJax.Hub.Config({SVG: {font: \"STIX-Web\"}});}</script>                <script type=\"text/javascript\">window.PlotlyConfig = {MathJaxConfig: 'local'};</script>\n",
              "        <script charset=\"utf-8\" src=\"https://cdn.plot.ly/plotly-2.24.1.min.js\"></script>                <div id=\"c5f4b32a-3ad0-4263-9ebf-a5e03bf84745\" class=\"plotly-graph-div\" style=\"height:525px; width:100%;\"></div>            <script type=\"text/javascript\">                                    window.PLOTLYENV=window.PLOTLYENV || {};                                    if (document.getElementById(\"c5f4b32a-3ad0-4263-9ebf-a5e03bf84745\")) {                    Plotly.newPlot(                        \"c5f4b32a-3ad0-4263-9ebf-a5e03bf84745\",                        [{\"customdata\":[[\"Aluminium Product\",323084728.75],[\"Aluminium Product\",449544373.75],[\"Aluminium Product\",469913991.25],[\"Aluminium Product\",619859383.75],[\"Aluminium Product\",631919967.5],[\"Aluminium Product\",691631286.25],[\"Aluminium Product\",856775231.25],[\"Aluminium Product\",509407102.5],[\"Aluminium Product\",575897832.5],[\"Aluminium Product\",570503696.25],[\"Aluminium Product\",698771176.25],[\"Aluminium Product\",688149227.5],[\"Aluminium Product\",679478211.25],[\"Aluminium Product\",611516342.5],[\"Aluminium Product\",315395097.5]],\"hovertemplate\":\"gc=%{customdata[0]}\\u003cbr\\u003esumusd=%{y}\\u003cbr\\u003etax=%{customdata[1]}\\u003cextra\\u003e\\u003c\\u002fextra\\u003e\",\"legendgroup\":\"Aluminium Product\",\"marker\":{\"color\":\"#1f77b4\",\"symbol\":\"circle\",\"opacity\":0.8},\"mode\":\"markers\",\"name\":\"Aluminium Product\",\"orientation\":\"v\",\"showlegend\":true,\"x\":[2002,2003,2004,2005,2006,2007,2008,2009,2010,2011,2012,2013,2014,2015,2016],\"xaxis\":\"x\",\"y\":[258467783,359635499,375931193,495887507,505535974,553305029,685420185,407525682,460718266,456402957,559016941,550519382,543582569,489213074,252316078],\"yaxis\":\"y\",\"type\":\"scatter\"},{\"customdata\":[[\"Auto Product\",432006551.25],[\"Auto Product\",353711438.75],[\"Auto Product\",288286258.75],[\"Auto Product\",110357448.75],[\"Auto Product\",121762030.0],[\"Auto Product\",144555058.75],[\"Auto Product\",63642753.75],[\"Auto Product\",47978825.0],[\"Auto Product\",29908165.0],[\"Auto Product\",118166263.75],[\"Auto Product\",217568107.5],[\"Auto Product\",32930397.5],[\"Auto Product\",72100538.75],[\"Auto Product\",111311522.5],[\"Auto Product\",18480767.5]],\"hovertemplate\":\"gc=%{customdata[0]}\\u003cbr\\u003esumusd=%{y}\\u003cbr\\u003etax=%{customdata[1]}\\u003cextra\\u003e\\u003c\\u002fextra\\u003e\",\"legendgroup\":\"Auto Product\",\"marker\":{\"color\":\"#ff7f0e\",\"symbol\":\"circle\",\"opacity\":0.8},\"mode\":\"markers\",\"name\":\"Auto Product\",\"orientation\":\"v\",\"showlegend\":true,\"x\":[2002,2003,2004,2005,2006,2007,2008,2009,2010,2011,2012,2013,2014,2015,2016],\"xaxis\":\"x\",\"y\":[345605241,282969151,230629007,88285959,97409624,115644047,50914203,38383060,23926532,94533011,174054486,26344318,57680431,89049218,14784614],\"yaxis\":\"y\",\"type\":\"scatter\"},{\"customdata\":[[\"Cotton Product\",235047453.75],[\"Cotton Product\",227092265.0],[\"Cotton Product\",192480913.75],[\"Cotton Product\",210005950.0],[\"Cotton Product\",170209847.5],[\"Cotton Product\",141271862.5],[\"Cotton Product\",147359445.0],[\"Cotton Product\",82853060.0],[\"Cotton Product\",111999063.75],[\"Cotton Product\",127812732.5],[\"Cotton Product\",87317751.25],[\"Cotton Product\",86437196.25],[\"Cotton Product\",78164103.75],[\"Cotton Product\",94359042.5],[\"Cotton Product\",83762517.5]],\"hovertemplate\":\"gc=%{customdata[0]}\\u003cbr\\u003esumusd=%{y}\\u003cbr\\u003etax=%{customdata[1]}\\u003cextra\\u003e\\u003c\\u002fextra\\u003e\",\"legendgroup\":\"Cotton Product\",\"marker\":{\"color\":\"#2ca02c\",\"symbol\":\"circle\",\"opacity\":0.8},\"mode\":\"markers\",\"name\":\"Cotton Product\",\"orientation\":\"v\",\"showlegend\":true,\"x\":[2002,2003,2004,2005,2006,2007,2008,2009,2010,2011,2012,2013,2014,2015,2016],\"xaxis\":\"x\",\"y\":[188037963,181673812,153984731,168004760,136167878,113017490,117887556,66282448,89599251,102250186,69854201,69149757,62531283,75487234,67010014],\"yaxis\":\"y\",\"type\":\"scatter\"},{\"customdata\":[[\"Electric product\",229655193.75],[\"Electric product\",210206446.25],[\"Electric product\",22306590.0],[\"Electric product\",22559835.0],[\"Electric product\",109133723.75],[\"Electric product\",69460958.75],[\"Electric product\",57879068.75],[\"Electric product\",41404145.0],[\"Electric product\",288329111.25],[\"Electric product\",278083248.75],[\"Electric product\",451159216.25],[\"Electric product\",12511740.0],[\"Electric product\",3683531.25],[\"Electric product\",71996911.25],[\"Electric product\",102640730.0]],\"hovertemplate\":\"gc=%{customdata[0]}\\u003cbr\\u003esumusd=%{y}\\u003cbr\\u003etax=%{customdata[1]}\\u003cextra\\u003e\\u003c\\u002fextra\\u003e\",\"legendgroup\":\"Electric product\",\"marker\":{\"color\":\"#d62728\",\"symbol\":\"circle\",\"opacity\":0.8},\"mode\":\"markers\",\"name\":\"Electric product\",\"orientation\":\"v\",\"showlegend\":true,\"x\":[2002,2003,2004,2005,2006,2007,2008,2009,2010,2011,2012,2013,2014,2015,2016],\"xaxis\":\"x\",\"y\":[183724155,168165157,17845272,18047868,87306979,55568767,46303255,33123316,230663289,222466599,360927373,10009392,2946825,57597529,82112584],\"yaxis\":\"y\",\"type\":\"scatter\"},{\"customdata\":[[\"Steel Product\",68518878.75],[\"Steel Product\",51011156.25],[\"Steel Product\",64139958.75],[\"Steel Product\",81149672.5],[\"Steel Product\",83811026.25],[\"Steel Product\",80051770.0],[\"Steel Product\",60407773.75],[\"Steel Product\",145139713.75],[\"Steel Product\",182731897.5],[\"Steel Product\",136728015.0],[\"Steel Product\",84866936.25],[\"Steel Product\",56022771.25],[\"Steel Product\",58122230.0],[\"Steel Product\",48026242.5],[\"Steel Product\",53288760.0]],\"hovertemplate\":\"gc=%{customdata[0]}\\u003cbr\\u003esumusd=%{y}\\u003cbr\\u003etax=%{customdata[1]}\\u003cextra\\u003e\\u003c\\u002fextra\\u003e\",\"legendgroup\":\"Steel Product\",\"marker\":{\"color\":\"#9467bd\",\"symbol\":\"circle\",\"opacity\":0.8},\"mode\":\"markers\",\"name\":\"Steel Product\",\"orientation\":\"v\",\"showlegend\":true,\"x\":[2002,2003,2004,2005,2006,2007,2008,2009,2010,2011,2012,2013,2014,2015,2016],\"xaxis\":\"x\",\"y\":[54815103,40808925,51311967,64919738,67048821,64041416,48326219,116111771,146185518,109382412,67893549,44818217,46497784,38420994,42631008],\"yaxis\":\"y\",\"type\":\"scatter\"},{\"customdata\":[[\"aircraft product\",21135266918.75],[\"aircraft product\",20156514892.5],[\"aircraft product\",19414956431.25],[\"aircraft product\",19437859128.75],[\"aircraft product\",20645557401.25],[\"aircraft product\",25765717331.25],[\"aircraft product\",24939942782.5],[\"aircraft product\",21567294813.75],[\"aircraft product\",21893739038.75],[\"aircraft product\",25130632836.25],[\"aircraft product\",28204937216.25],[\"aircraft product\",34777309663.75],[\"aircraft product\",40945888033.75],[\"aircraft product\",42279794540.0],[\"aircraft product\",37248472123.75]],\"hovertemplate\":\"gc=%{customdata[0]}\\u003cbr\\u003esumusd=%{y}\\u003cbr\\u003etax=%{customdata[1]}\\u003cextra\\u003e\\u003c\\u002fextra\\u003e\",\"legendgroup\":\"aircraft product\",\"marker\":{\"color\":\"#8c564b\",\"symbol\":\"circle\",\"opacity\":0.8},\"mode\":\"markers\",\"name\":\"aircraft product\",\"orientation\":\"v\",\"showlegend\":true,\"x\":[2002,2003,2004,2005,2006,2007,2008,2009,2010,2011,2012,2013,2014,2015,2016],\"xaxis\":\"x\",\"y\":[16908213535,16125211914,15531965145,15550287303,16516445921,20612573865,19951954226,17253835851,17514991231,20104506269,22563949773,27821847731,32756710427,33823835632,29798777699],\"yaxis\":\"y\",\"type\":\"scatter\"},{\"customdata\":[[\"animal product\",386325687.5],[\"animal product\",500669523.75],[\"animal product\",676128630.0],[\"animal product\",757931382.5],[\"animal product\",734758731.25],[\"animal product\",827243062.5],[\"animal product\",611771673.75],[\"animal product\",374848583.75],[\"animal product\",459944815.0],[\"animal product\",458965877.5],[\"animal product\",417009753.75],[\"animal product\",419723162.5],[\"animal product\",544673981.25],[\"animal product\",446033555.0],[\"animal product\",393704921.25]],\"hovertemplate\":\"gc=%{customdata[0]}\\u003cbr\\u003esumusd=%{y}\\u003cbr\\u003etax=%{customdata[1]}\\u003cextra\\u003e\\u003c\\u002fextra\\u003e\",\"legendgroup\":\"animal product\",\"marker\":{\"color\":\"#1f77b4\",\"symbol\":\"circle\",\"opacity\":0.8},\"mode\":\"markers\",\"name\":\"animal product\",\"orientation\":\"v\",\"showlegend\":true,\"x\":[2002,2003,2004,2005,2006,2007,2008,2009,2010,2011,2012,2013,2014,2015,2016],\"xaxis\":\"x\",\"y\":[309060550,400535619,540902904,606345106,587806985,661794450,489417339,299878867,367955852,367172702,333607803,335778530,435739185,356826844,314963937],\"yaxis\":\"y\",\"type\":\"scatter\"}],                        {\"template\":{\"data\":{\"histogram2dcontour\":[{\"type\":\"histogram2dcontour\",\"colorbar\":{\"outlinewidth\":0,\"ticks\":\"\"},\"colorscale\":[[0.0,\"#0d0887\"],[0.1111111111111111,\"#46039f\"],[0.2222222222222222,\"#7201a8\"],[0.3333333333333333,\"#9c179e\"],[0.4444444444444444,\"#bd3786\"],[0.5555555555555556,\"#d8576b\"],[0.6666666666666666,\"#ed7953\"],[0.7777777777777778,\"#fb9f3a\"],[0.8888888888888888,\"#fdca26\"],[1.0,\"#f0f921\"]]}],\"choropleth\":[{\"type\":\"choropleth\",\"colorbar\":{\"outlinewidth\":0,\"ticks\":\"\"}}],\"histogram2d\":[{\"type\":\"histogram2d\",\"colorbar\":{\"outlinewidth\":0,\"ticks\":\"\"},\"colorscale\":[[0.0,\"#0d0887\"],[0.1111111111111111,\"#46039f\"],[0.2222222222222222,\"#7201a8\"],[0.3333333333333333,\"#9c179e\"],[0.4444444444444444,\"#bd3786\"],[0.5555555555555556,\"#d8576b\"],[0.6666666666666666,\"#ed7953\"],[0.7777777777777778,\"#fb9f3a\"],[0.8888888888888888,\"#fdca26\"],[1.0,\"#f0f921\"]]}],\"heatmap\":[{\"type\":\"heatmap\",\"colorbar\":{\"outlinewidth\":0,\"ticks\":\"\"},\"colorscale\":[[0.0,\"#0d0887\"],[0.1111111111111111,\"#46039f\"],[0.2222222222222222,\"#7201a8\"],[0.3333333333333333,\"#9c179e\"],[0.4444444444444444,\"#bd3786\"],[0.5555555555555556,\"#d8576b\"],[0.6666666666666666,\"#ed7953\"],[0.7777777777777778,\"#fb9f3a\"],[0.8888888888888888,\"#fdca26\"],[1.0,\"#f0f921\"]]}],\"heatmapgl\":[{\"type\":\"heatmapgl\",\"colorbar\":{\"outlinewidth\":0,\"ticks\":\"\"},\"colorscale\":[[0.0,\"#0d0887\"],[0.1111111111111111,\"#46039f\"],[0.2222222222222222,\"#7201a8\"],[0.3333333333333333,\"#9c179e\"],[0.4444444444444444,\"#bd3786\"],[0.5555555555555556,\"#d8576b\"],[0.6666666666666666,\"#ed7953\"],[0.7777777777777778,\"#fb9f3a\"],[0.8888888888888888,\"#fdca26\"],[1.0,\"#f0f921\"]]}],\"contourcarpet\":[{\"type\":\"contourcarpet\",\"colorbar\":{\"outlinewidth\":0,\"ticks\":\"\"}}],\"contour\":[{\"type\":\"contour\",\"colorbar\":{\"outlinewidth\":0,\"ticks\":\"\"},\"colorscale\":[[0.0,\"#0d0887\"],[0.1111111111111111,\"#46039f\"],[0.2222222222222222,\"#7201a8\"],[0.3333333333333333,\"#9c179e\"],[0.4444444444444444,\"#bd3786\"],[0.5555555555555556,\"#d8576b\"],[0.6666666666666666,\"#ed7953\"],[0.7777777777777778,\"#fb9f3a\"],[0.8888888888888888,\"#fdca26\"],[1.0,\"#f0f921\"]]}],\"surface\":[{\"type\":\"surface\",\"colorbar\":{\"outlinewidth\":0,\"ticks\":\"\"},\"colorscale\":[[0.0,\"#0d0887\"],[0.1111111111111111,\"#46039f\"],[0.2222222222222222,\"#7201a8\"],[0.3333333333333333,\"#9c179e\"],[0.4444444444444444,\"#bd3786\"],[0.5555555555555556,\"#d8576b\"],[0.6666666666666666,\"#ed7953\"],[0.7777777777777778,\"#fb9f3a\"],[0.8888888888888888,\"#fdca26\"],[1.0,\"#f0f921\"]]}],\"mesh3d\":[{\"type\":\"mesh3d\",\"colorbar\":{\"outlinewidth\":0,\"ticks\":\"\"}}],\"scatter\":[{\"fillpattern\":{\"fillmode\":\"overlay\",\"size\":10,\"solidity\":0.2},\"type\":\"scatter\"}],\"parcoords\":[{\"type\":\"parcoords\",\"line\":{\"colorbar\":{\"outlinewidth\":0,\"ticks\":\"\"}}}],\"scatterpolargl\":[{\"type\":\"scatterpolargl\",\"marker\":{\"colorbar\":{\"outlinewidth\":0,\"ticks\":\"\"}}}],\"bar\":[{\"error_x\":{\"color\":\"#2a3f5f\"},\"error_y\":{\"color\":\"#2a3f5f\"},\"marker\":{\"line\":{\"color\":\"#E5ECF6\",\"width\":0.5},\"pattern\":{\"fillmode\":\"overlay\",\"size\":10,\"solidity\":0.2}},\"type\":\"bar\"}],\"scattergeo\":[{\"type\":\"scattergeo\",\"marker\":{\"colorbar\":{\"outlinewidth\":0,\"ticks\":\"\"}}}],\"scatterpolar\":[{\"type\":\"scatterpolar\",\"marker\":{\"colorbar\":{\"outlinewidth\":0,\"ticks\":\"\"}}}],\"histogram\":[{\"marker\":{\"pattern\":{\"fillmode\":\"overlay\",\"size\":10,\"solidity\":0.2}},\"type\":\"histogram\"}],\"scattergl\":[{\"type\":\"scattergl\",\"marker\":{\"colorbar\":{\"outlinewidth\":0,\"ticks\":\"\"}}}],\"scatter3d\":[{\"type\":\"scatter3d\",\"line\":{\"colorbar\":{\"outlinewidth\":0,\"ticks\":\"\"}},\"marker\":{\"colorbar\":{\"outlinewidth\":0,\"ticks\":\"\"}}}],\"scattermapbox\":[{\"type\":\"scattermapbox\",\"marker\":{\"colorbar\":{\"outlinewidth\":0,\"ticks\":\"\"}}}],\"scatterternary\":[{\"type\":\"scatterternary\",\"marker\":{\"colorbar\":{\"outlinewidth\":0,\"ticks\":\"\"}}}],\"scattercarpet\":[{\"type\":\"scattercarpet\",\"marker\":{\"colorbar\":{\"outlinewidth\":0,\"ticks\":\"\"}}}],\"carpet\":[{\"aaxis\":{\"endlinecolor\":\"#2a3f5f\",\"gridcolor\":\"white\",\"linecolor\":\"white\",\"minorgridcolor\":\"white\",\"startlinecolor\":\"#2a3f5f\"},\"baxis\":{\"endlinecolor\":\"#2a3f5f\",\"gridcolor\":\"white\",\"linecolor\":\"white\",\"minorgridcolor\":\"white\",\"startlinecolor\":\"#2a3f5f\"},\"type\":\"carpet\"}],\"table\":[{\"cells\":{\"fill\":{\"color\":\"#EBF0F8\"},\"line\":{\"color\":\"white\"}},\"header\":{\"fill\":{\"color\":\"#C8D4E3\"},\"line\":{\"color\":\"white\"}},\"type\":\"table\"}],\"barpolar\":[{\"marker\":{\"line\":{\"color\":\"#E5ECF6\",\"width\":0.5},\"pattern\":{\"fillmode\":\"overlay\",\"size\":10,\"solidity\":0.2}},\"type\":\"barpolar\"}],\"pie\":[{\"automargin\":true,\"type\":\"pie\"}]},\"layout\":{\"autotypenumbers\":\"strict\",\"colorway\":[\"#636efa\",\"#EF553B\",\"#00cc96\",\"#ab63fa\",\"#FFA15A\",\"#19d3f3\",\"#FF6692\",\"#B6E880\",\"#FF97FF\",\"#FECB52\"],\"font\":{\"color\":\"#2a3f5f\"},\"hovermode\":\"closest\",\"hoverlabel\":{\"align\":\"left\"},\"paper_bgcolor\":\"white\",\"plot_bgcolor\":\"#E5ECF6\",\"polar\":{\"bgcolor\":\"#E5ECF6\",\"angularaxis\":{\"gridcolor\":\"white\",\"linecolor\":\"white\",\"ticks\":\"\"},\"radialaxis\":{\"gridcolor\":\"white\",\"linecolor\":\"white\",\"ticks\":\"\"}},\"ternary\":{\"bgcolor\":\"#E5ECF6\",\"aaxis\":{\"gridcolor\":\"white\",\"linecolor\":\"white\",\"ticks\":\"\"},\"baxis\":{\"gridcolor\":\"white\",\"linecolor\":\"white\",\"ticks\":\"\"},\"caxis\":{\"gridcolor\":\"white\",\"linecolor\":\"white\",\"ticks\":\"\"}},\"coloraxis\":{\"colorbar\":{\"outlinewidth\":0,\"ticks\":\"\"}},\"colorscale\":{\"sequential\":[[0.0,\"#0d0887\"],[0.1111111111111111,\"#46039f\"],[0.2222222222222222,\"#7201a8\"],[0.3333333333333333,\"#9c179e\"],[0.4444444444444444,\"#bd3786\"],[0.5555555555555556,\"#d8576b\"],[0.6666666666666666,\"#ed7953\"],[0.7777777777777778,\"#fb9f3a\"],[0.8888888888888888,\"#fdca26\"],[1.0,\"#f0f921\"]],\"sequentialminus\":[[0.0,\"#0d0887\"],[0.1111111111111111,\"#46039f\"],[0.2222222222222222,\"#7201a8\"],[0.3333333333333333,\"#9c179e\"],[0.4444444444444444,\"#bd3786\"],[0.5555555555555556,\"#d8576b\"],[0.6666666666666666,\"#ed7953\"],[0.7777777777777778,\"#fb9f3a\"],[0.8888888888888888,\"#fdca26\"],[1.0,\"#f0f921\"]],\"diverging\":[[0,\"#8e0152\"],[0.1,\"#c51b7d\"],[0.2,\"#de77ae\"],[0.3,\"#f1b6da\"],[0.4,\"#fde0ef\"],[0.5,\"#f7f7f7\"],[0.6,\"#e6f5d0\"],[0.7,\"#b8e186\"],[0.8,\"#7fbc41\"],[0.9,\"#4d9221\"],[1,\"#276419\"]]},\"xaxis\":{\"gridcolor\":\"white\",\"linecolor\":\"white\",\"ticks\":\"\",\"title\":{\"standoff\":15},\"zerolinecolor\":\"white\",\"automargin\":true,\"zerolinewidth\":2},\"yaxis\":{\"gridcolor\":\"white\",\"linecolor\":\"white\",\"ticks\":\"\",\"title\":{\"standoff\":15},\"zerolinecolor\":\"white\",\"automargin\":true,\"zerolinewidth\":2},\"scene\":{\"xaxis\":{\"backgroundcolor\":\"#E5ECF6\",\"gridcolor\":\"white\",\"linecolor\":\"white\",\"showbackground\":true,\"ticks\":\"\",\"zerolinecolor\":\"white\",\"gridwidth\":2},\"yaxis\":{\"backgroundcolor\":\"#E5ECF6\",\"gridcolor\":\"white\",\"linecolor\":\"white\",\"showbackground\":true,\"ticks\":\"\",\"zerolinecolor\":\"white\",\"gridwidth\":2},\"zaxis\":{\"backgroundcolor\":\"#E5ECF6\",\"gridcolor\":\"white\",\"linecolor\":\"white\",\"showbackground\":true,\"ticks\":\"\",\"zerolinecolor\":\"white\",\"gridwidth\":2}},\"shapedefaults\":{\"line\":{\"color\":\"#2a3f5f\"}},\"annotationdefaults\":{\"arrowcolor\":\"#2a3f5f\",\"arrowhead\":0,\"arrowwidth\":1},\"geo\":{\"bgcolor\":\"white\",\"landcolor\":\"#E5ECF6\",\"subunitcolor\":\"white\",\"showland\":true,\"showlakes\":true,\"lakecolor\":\"white\"},\"title\":{\"x\":0.05},\"mapbox\":{\"style\":\"light\"}}},\"xaxis\":{\"anchor\":\"y\",\"domain\":[0.0,1.0],\"title\":{\"text\":\"year\"}},\"yaxis\":{\"anchor\":\"x\",\"domain\":[0.0,1.0],\"title\":{\"text\":\"sumusd\"}},\"legend\":{\"title\":{\"text\":\"gc\"},\"tracegroupgap\":0},\"title\":{\"text\":\"Nilai Impor USA per Tahun\"}},                        {\"responsive\": true}                    ).then(function(){\n",
              "                            \n",
              "var gd = document.getElementById('c5f4b32a-3ad0-4263-9ebf-a5e03bf84745');\n",
              "var x = new MutationObserver(function (mutations, observer) {{\n",
              "        var display = window.getComputedStyle(gd).display;\n",
              "        if (!display || display === 'none') {{\n",
              "            console.log([gd, 'removed!']);\n",
              "            Plotly.purge(gd);\n",
              "            observer.disconnect();\n",
              "        }}\n",
              "}});\n",
              "\n",
              "// Listen for the removal of the full notebook cells\n",
              "var notebookContainer = gd.closest('#notebook-container');\n",
              "if (notebookContainer) {{\n",
              "    x.observe(notebookContainer, {childList: true});\n",
              "}}\n",
              "\n",
              "// Listen for the clearing of the current output cell\n",
              "var outputEl = gd.closest('.output');\n",
              "if (outputEl) {{\n",
              "    x.observe(outputEl, {childList: true});\n",
              "}}\n",
              "\n",
              "                        })                };                            </script>        </div>\n",
              "</body>\n",
              "</html>"
            ]
          },
          "metadata": {},
          "output_type": "display_data"
        }
      ],
      "source": [
        "import plotly.express as px\n",
        "\n",
        "# Membuat kolom gc dengan kategori yang sesuai\n",
        "conditions = [\n",
        "    (trade2['commodity'].str.contains(\"Swine\", case=False, na=False)),\n",
        "    (trade2['commodity'].str.contains(\"Aircraft\", case=False, na=False)),\n",
        "    (trade2['commodity'].str.contains(\"electric\", case=False, na=False)),\n",
        "    (trade2['commodity'].str.contains(\"steel\", case=False, na=False)),\n",
        "    (trade2['commodity'].str.contains(\"medical\", case=False, na=False)),\n",
        "    (trade2['commodity'].str.contains(\"cotton\", case=False, na=False)),\n",
        "    (trade2['commodity'].str.contains(\"aluminium\", case=False, na=False)),\n",
        "    (trade2['commodity'].str.contains(\"cars|automobiles|vehicles\", case=False, na=False))\n",
        "]\n",
        "\n",
        "choices = [\n",
        "    \"animal product\", \"aircraft product\", \"Electric product\", \"Steel Product\",\n",
        "    \"Medical Product\", \"Cotton Product\", \"Aluminium Product\", \"Auto Product\"\n",
        "]\n",
        "\n",
        "trade2['gc'] = np.select(conditions, choices, default='Other')\n",
        "\n",
        "# Filter data untuk negara China dan USA dengan kategori gc yang sesuai\n",
        "war = trade2[(trade2['country'].isin([\"china\", \"usa\"])) & (trade2['gc'] != \"Other\")]\n",
        "\n",
        "# Filter data untuk impor dari USA\n",
        "warusaim = war[(war['country'] == \"usa\") & (war['flow'] == \"Import\")]\n",
        "warusaim1 = warusaim.groupby(['gc', 'year']).agg(sumusd=('trade_usd', 'sum'), tax=('trade_usd', lambda x: x.sum() * 1.25)).reset_index()\n",
        "\n",
        "\n",
        "color_sequence = ['#1f77b4', '#ff7f0e', '#2ca02c', '#d62728', '#9467bd', '#8c564b']\n",
        "\n",
        "# Plot menggunakan Plotly Express dengan urutan warna yang telah didefinisikan\n",
        "fig = px.scatter(warusaim1, x='year', y='sumusd', color='gc',\n",
        "                 title='Nilai Impor USA per Tahun',\n",
        "                 hover_data={'gc': True, 'year': False, 'sumusd': True, 'tax': True},\n",
        "                 color_discrete_sequence=color_sequence)\n",
        "\n",
        "fig.update_traces(marker=dict(opacity=0.8))\n",
        "\n",
        "fig.show()\n"
      ]
    },
    {
      "cell_type": "markdown",
      "metadata": {
        "id": "dFsCp862yGaK"
      },
      "source": [
        "### 2.3.2 USA Export Summary"
      ]
    },
    {
      "cell_type": "code",
      "execution_count": null,
      "metadata": {
        "colab": {
          "base_uri": "https://localhost:8080/",
          "height": 542
        },
        "id": "vpFbKzx2yq0X",
        "outputId": "1f5ba497-1e36-485e-aa2b-54f845691a9e"
      },
      "outputs": [
        {
          "data": {
            "text/html": [
              "<html>\n",
              "<head><meta charset=\"utf-8\" /></head>\n",
              "<body>\n",
              "    <div>            <script src=\"https://cdnjs.cloudflare.com/ajax/libs/mathjax/2.7.5/MathJax.js?config=TeX-AMS-MML_SVG\"></script><script type=\"text/javascript\">if (window.MathJax && window.MathJax.Hub && window.MathJax.Hub.Config) {window.MathJax.Hub.Config({SVG: {font: \"STIX-Web\"}});}</script>                <script type=\"text/javascript\">window.PlotlyConfig = {MathJaxConfig: 'local'};</script>\n",
              "        <script charset=\"utf-8\" src=\"https://cdn.plot.ly/plotly-2.24.1.min.js\"></script>                <div id=\"414c81fb-bbe4-402c-8698-d01b95ec2e0a\" class=\"plotly-graph-div\" style=\"height:525px; width:100%;\"></div>            <script type=\"text/javascript\">                                    window.PLOTLYENV=window.PLOTLYENV || {};                                    if (document.getElementById(\"414c81fb-bbe4-402c-8698-d01b95ec2e0a\")) {                    Plotly.newPlot(                        \"414c81fb-bbe4-402c-8698-d01b95ec2e0a\",                        [{\"customdata\":[[\"Aluminium Product\",12885887.5],[\"Aluminium Product\",21037548.75],[\"Aluminium Product\",73976501.25],[\"Aluminium Product\",59240612.5],[\"Aluminium Product\",70826506.25],[\"Aluminium Product\",99141923.75],[\"Aluminium Product\",53621905.0],[\"Aluminium Product\",44067893.75],[\"Aluminium Product\",44006620.0],[\"Aluminium Product\",44100126.25],[\"Aluminium Product\",33965682.5],[\"Aluminium Product\",30372991.25],[\"Aluminium Product\",33813791.25],[\"Aluminium Product\",27237257.5],[\"Aluminium Product\",30082730.0]],\"hovertemplate\":\"gc=%{customdata[0]}\\u003cbr\\u003esumusd=%{y}\\u003cbr\\u003etax=%{customdata[1]}\\u003cextra\\u003e\\u003c\\u002fextra\\u003e\",\"legendgroup\":\"Aluminium Product\",\"marker\":{\"color\":\"#1f77b4\",\"symbol\":\"circle\",\"opacity\":0.8},\"mode\":\"markers\",\"name\":\"Aluminium Product\",\"orientation\":\"v\",\"showlegend\":true,\"x\":[2002,2003,2004,2005,2006,2007,2008,2009,2010,2011,2012,2013,2014,2015,2016],\"xaxis\":\"x\",\"y\":[10308710,16830039,59181201,47392490,56661205,79313539,42897524,35254315,35205296,35280101,27172546,24298393,27051033,21789806,24066184],\"yaxis\":\"y\",\"type\":\"scatter\"},{\"customdata\":[[\"Auto Product\",814761025.0],[\"Auto Product\",719495116.25],[\"Auto Product\",858620327.5],[\"Auto Product\",617628487.5],[\"Auto Product\",809602220.0],[\"Auto Product\",1314484150.0],[\"Auto Product\",766221236.25],[\"Auto Product\",741374967.5],[\"Auto Product\",688355402.5],[\"Auto Product\",519919661.25],[\"Auto Product\",1452391583.75],[\"Auto Product\",1961640488.75],[\"Auto Product\",1829125078.75],[\"Auto Product\",3477850452.5],[\"Auto Product\",4226127082.5]],\"hovertemplate\":\"gc=%{customdata[0]}\\u003cbr\\u003esumusd=%{y}\\u003cbr\\u003etax=%{customdata[1]}\\u003cextra\\u003e\\u003c\\u002fextra\\u003e\",\"legendgroup\":\"Auto Product\",\"marker\":{\"color\":\"#ff7f0e\",\"symbol\":\"circle\",\"opacity\":0.8},\"mode\":\"markers\",\"name\":\"Auto Product\",\"orientation\":\"v\",\"showlegend\":true,\"x\":[2002,2003,2004,2005,2006,2007,2008,2009,2010,2011,2012,2013,2014,2015,2016],\"xaxis\":\"x\",\"y\":[651808820,575596093,686896262,494102790,647681776,1051587320,612976989,593099974,550684322,415935729,1161913267,1569312391,1463300063,2782280362,3380901666],\"yaxis\":\"y\",\"type\":\"scatter\"},{\"customdata\":[[\"Cotton Product\",596966825.0],[\"Cotton Product\",924172946.25],[\"Cotton Product\",1109092878.75],[\"Cotton Product\",1263310192.5],[\"Cotton Product\",1151513176.25],[\"Cotton Product\",1121623448.75],[\"Cotton Product\",1014881088.75],[\"Cotton Product\",603835317.5],[\"Cotton Product\",823128578.75],[\"Cotton Product\",709388122.5],[\"Cotton Product\",612395516.25],[\"Cotton Product\",544944325.0],[\"Cotton Product\",441134060.0],[\"Cotton Product\",344944381.25],[\"Cotton Product\",335587620.0]],\"hovertemplate\":\"gc=%{customdata[0]}\\u003cbr\\u003esumusd=%{y}\\u003cbr\\u003etax=%{customdata[1]}\\u003cextra\\u003e\\u003c\\u002fextra\\u003e\",\"legendgroup\":\"Cotton Product\",\"marker\":{\"color\":\"#2ca02c\",\"symbol\":\"circle\",\"opacity\":0.8},\"mode\":\"markers\",\"name\":\"Cotton Product\",\"orientation\":\"v\",\"showlegend\":true,\"x\":[2002,2003,2004,2005,2006,2007,2008,2009,2010,2011,2012,2013,2014,2015,2016],\"xaxis\":\"x\",\"y\":[477573460,739338357,887274303,1010648154,921210541,897298759,811904871,483068254,658502863,567510498,489916413,435955460,352907248,275955505,268470096],\"yaxis\":\"y\",\"type\":\"scatter\"},{\"customdata\":[[\"Electric product\",280277333.75],[\"Electric product\",375703741.25],[\"Electric product\",400082803.75],[\"Electric product\",539750617.5],[\"Electric product\",833289817.5],[\"Electric product\",867618055.0],[\"Electric product\",1401964305.0],[\"Electric product\",674342477.5],[\"Electric product\",410460558.75],[\"Electric product\",883883208.75],[\"Electric product\",1088398743.75],[\"Electric product\",1199932592.5],[\"Electric product\",1012718806.25],[\"Electric product\",1377499323.75],[\"Electric product\",842829933.75]],\"hovertemplate\":\"gc=%{customdata[0]}\\u003cbr\\u003esumusd=%{y}\\u003cbr\\u003etax=%{customdata[1]}\\u003cextra\\u003e\\u003c\\u002fextra\\u003e\",\"legendgroup\":\"Electric product\",\"marker\":{\"color\":\"#d62728\",\"symbol\":\"circle\",\"opacity\":0.8},\"mode\":\"markers\",\"name\":\"Electric product\",\"orientation\":\"v\",\"showlegend\":true,\"x\":[2002,2003,2004,2005,2006,2007,2008,2009,2010,2011,2012,2013,2014,2015,2016],\"xaxis\":\"x\",\"y\":[224221867,300562993,320066243,431800494,666631854,694094444,1121571444,539473982,328368447,707106567,870718995,959946074,810175045,1101999459,674263947],\"yaxis\":\"y\",\"type\":\"scatter\"},{\"customdata\":[[\"Steel Product\",33290118.75],[\"Steel Product\",41319010.0],[\"Steel Product\",31895870.0],[\"Steel Product\",34827698.75],[\"Steel Product\",37313847.5],[\"Steel Product\",37631367.5],[\"Steel Product\",29598837.5],[\"Steel Product\",16877212.5],[\"Steel Product\",29113247.5],[\"Steel Product\",50099483.75],[\"Steel Product\",25468216.25],[\"Steel Product\",37632776.25],[\"Steel Product\",26396141.25],[\"Steel Product\",16847016.25],[\"Steel Product\",9519616.25]],\"hovertemplate\":\"gc=%{customdata[0]}\\u003cbr\\u003esumusd=%{y}\\u003cbr\\u003etax=%{customdata[1]}\\u003cextra\\u003e\\u003c\\u002fextra\\u003e\",\"legendgroup\":\"Steel Product\",\"marker\":{\"color\":\"#9467bd\",\"symbol\":\"circle\",\"opacity\":0.8},\"mode\":\"markers\",\"name\":\"Steel Product\",\"orientation\":\"v\",\"showlegend\":true,\"x\":[2002,2003,2004,2005,2006,2007,2008,2009,2010,2011,2012,2013,2014,2015,2016],\"xaxis\":\"x\",\"y\":[26632095,33055208,25516696,27862159,29851078,30105094,23679070,13501770,23290598,40079587,20374573,30106221,21116913,13477613,7615693],\"yaxis\":\"y\",\"type\":\"scatter\"},{\"customdata\":[[\"aircraft product\",50407003345.0],[\"aircraft product\",46685752687.5],[\"aircraft product\",49698063371.25],[\"aircraft product\",59399939787.5],[\"aircraft product\",79857949338.75],[\"aircraft product\",89743028482.5],[\"aircraft product\",85877550060.0],[\"aircraft product\",8505078817.5],[\"aircraft product\",7907086901.25],[\"aircraft product\",7934079188.75],[\"aircraft product\",10216302963.75],[\"aircraft product\",8890597811.25],[\"aircraft product\",11114539651.25],[\"aircraft product\",9315848526.25],[\"aircraft product\",10146009411.25]],\"hovertemplate\":\"gc=%{customdata[0]}\\u003cbr\\u003esumusd=%{y}\\u003cbr\\u003etax=%{customdata[1]}\\u003cextra\\u003e\\u003c\\u002fextra\\u003e\",\"legendgroup\":\"aircraft product\",\"marker\":{\"color\":\"#8c564b\",\"symbol\":\"circle\",\"opacity\":0.8},\"mode\":\"markers\",\"name\":\"aircraft product\",\"orientation\":\"v\",\"showlegend\":true,\"x\":[2002,2003,2004,2005,2006,2007,2008,2009,2010,2011,2012,2013,2014,2015,2016],\"xaxis\":\"x\",\"y\":[40325602676,37348602150,39758450697,47519951830,63886359471,71794422786,68702040048,6804063054,6325669521,6347263351,8173042371,7112478249,8891631721,7452678821,8116807529],\"yaxis\":\"y\",\"type\":\"scatter\"},{\"customdata\":[[\"animal product\",47722497.5],[\"animal product\",42019028.75],[\"animal product\",43799508.75],[\"animal product\",34944095.0],[\"animal product\",31498558.75],[\"animal product\",24304198.75],[\"animal product\",34853331.25],[\"animal product\",11953696.25],[\"animal product\",10791386.25],[\"animal product\",30254647.5],[\"animal product\",41697656.25],[\"animal product\",38133045.0],[\"animal product\",16111737.5],[\"animal product\",21301365.0],[\"animal product\",17121305.0]],\"hovertemplate\":\"gc=%{customdata[0]}\\u003cbr\\u003esumusd=%{y}\\u003cbr\\u003etax=%{customdata[1]}\\u003cextra\\u003e\\u003c\\u002fextra\\u003e\",\"legendgroup\":\"animal product\",\"marker\":{\"color\":\"#1f77b4\",\"symbol\":\"circle\",\"opacity\":0.8},\"mode\":\"markers\",\"name\":\"animal product\",\"orientation\":\"v\",\"showlegend\":true,\"x\":[2002,2003,2004,2005,2006,2007,2008,2009,2010,2011,2012,2013,2014,2015,2016],\"xaxis\":\"x\",\"y\":[38177998,33615223,35039607,27955276,25198847,19443359,27882665,9562957,8633109,24203718,33358125,30506436,12889390,17041092,13697044],\"yaxis\":\"y\",\"type\":\"scatter\"}],                        {\"template\":{\"data\":{\"histogram2dcontour\":[{\"type\":\"histogram2dcontour\",\"colorbar\":{\"outlinewidth\":0,\"ticks\":\"\"},\"colorscale\":[[0.0,\"#0d0887\"],[0.1111111111111111,\"#46039f\"],[0.2222222222222222,\"#7201a8\"],[0.3333333333333333,\"#9c179e\"],[0.4444444444444444,\"#bd3786\"],[0.5555555555555556,\"#d8576b\"],[0.6666666666666666,\"#ed7953\"],[0.7777777777777778,\"#fb9f3a\"],[0.8888888888888888,\"#fdca26\"],[1.0,\"#f0f921\"]]}],\"choropleth\":[{\"type\":\"choropleth\",\"colorbar\":{\"outlinewidth\":0,\"ticks\":\"\"}}],\"histogram2d\":[{\"type\":\"histogram2d\",\"colorbar\":{\"outlinewidth\":0,\"ticks\":\"\"},\"colorscale\":[[0.0,\"#0d0887\"],[0.1111111111111111,\"#46039f\"],[0.2222222222222222,\"#7201a8\"],[0.3333333333333333,\"#9c179e\"],[0.4444444444444444,\"#bd3786\"],[0.5555555555555556,\"#d8576b\"],[0.6666666666666666,\"#ed7953\"],[0.7777777777777778,\"#fb9f3a\"],[0.8888888888888888,\"#fdca26\"],[1.0,\"#f0f921\"]]}],\"heatmap\":[{\"type\":\"heatmap\",\"colorbar\":{\"outlinewidth\":0,\"ticks\":\"\"},\"colorscale\":[[0.0,\"#0d0887\"],[0.1111111111111111,\"#46039f\"],[0.2222222222222222,\"#7201a8\"],[0.3333333333333333,\"#9c179e\"],[0.4444444444444444,\"#bd3786\"],[0.5555555555555556,\"#d8576b\"],[0.6666666666666666,\"#ed7953\"],[0.7777777777777778,\"#fb9f3a\"],[0.8888888888888888,\"#fdca26\"],[1.0,\"#f0f921\"]]}],\"heatmapgl\":[{\"type\":\"heatmapgl\",\"colorbar\":{\"outlinewidth\":0,\"ticks\":\"\"},\"colorscale\":[[0.0,\"#0d0887\"],[0.1111111111111111,\"#46039f\"],[0.2222222222222222,\"#7201a8\"],[0.3333333333333333,\"#9c179e\"],[0.4444444444444444,\"#bd3786\"],[0.5555555555555556,\"#d8576b\"],[0.6666666666666666,\"#ed7953\"],[0.7777777777777778,\"#fb9f3a\"],[0.8888888888888888,\"#fdca26\"],[1.0,\"#f0f921\"]]}],\"contourcarpet\":[{\"type\":\"contourcarpet\",\"colorbar\":{\"outlinewidth\":0,\"ticks\":\"\"}}],\"contour\":[{\"type\":\"contour\",\"colorbar\":{\"outlinewidth\":0,\"ticks\":\"\"},\"colorscale\":[[0.0,\"#0d0887\"],[0.1111111111111111,\"#46039f\"],[0.2222222222222222,\"#7201a8\"],[0.3333333333333333,\"#9c179e\"],[0.4444444444444444,\"#bd3786\"],[0.5555555555555556,\"#d8576b\"],[0.6666666666666666,\"#ed7953\"],[0.7777777777777778,\"#fb9f3a\"],[0.8888888888888888,\"#fdca26\"],[1.0,\"#f0f921\"]]}],\"surface\":[{\"type\":\"surface\",\"colorbar\":{\"outlinewidth\":0,\"ticks\":\"\"},\"colorscale\":[[0.0,\"#0d0887\"],[0.1111111111111111,\"#46039f\"],[0.2222222222222222,\"#7201a8\"],[0.3333333333333333,\"#9c179e\"],[0.4444444444444444,\"#bd3786\"],[0.5555555555555556,\"#d8576b\"],[0.6666666666666666,\"#ed7953\"],[0.7777777777777778,\"#fb9f3a\"],[0.8888888888888888,\"#fdca26\"],[1.0,\"#f0f921\"]]}],\"mesh3d\":[{\"type\":\"mesh3d\",\"colorbar\":{\"outlinewidth\":0,\"ticks\":\"\"}}],\"scatter\":[{\"fillpattern\":{\"fillmode\":\"overlay\",\"size\":10,\"solidity\":0.2},\"type\":\"scatter\"}],\"parcoords\":[{\"type\":\"parcoords\",\"line\":{\"colorbar\":{\"outlinewidth\":0,\"ticks\":\"\"}}}],\"scatterpolargl\":[{\"type\":\"scatterpolargl\",\"marker\":{\"colorbar\":{\"outlinewidth\":0,\"ticks\":\"\"}}}],\"bar\":[{\"error_x\":{\"color\":\"#2a3f5f\"},\"error_y\":{\"color\":\"#2a3f5f\"},\"marker\":{\"line\":{\"color\":\"#E5ECF6\",\"width\":0.5},\"pattern\":{\"fillmode\":\"overlay\",\"size\":10,\"solidity\":0.2}},\"type\":\"bar\"}],\"scattergeo\":[{\"type\":\"scattergeo\",\"marker\":{\"colorbar\":{\"outlinewidth\":0,\"ticks\":\"\"}}}],\"scatterpolar\":[{\"type\":\"scatterpolar\",\"marker\":{\"colorbar\":{\"outlinewidth\":0,\"ticks\":\"\"}}}],\"histogram\":[{\"marker\":{\"pattern\":{\"fillmode\":\"overlay\",\"size\":10,\"solidity\":0.2}},\"type\":\"histogram\"}],\"scattergl\":[{\"type\":\"scattergl\",\"marker\":{\"colorbar\":{\"outlinewidth\":0,\"ticks\":\"\"}}}],\"scatter3d\":[{\"type\":\"scatter3d\",\"line\":{\"colorbar\":{\"outlinewidth\":0,\"ticks\":\"\"}},\"marker\":{\"colorbar\":{\"outlinewidth\":0,\"ticks\":\"\"}}}],\"scattermapbox\":[{\"type\":\"scattermapbox\",\"marker\":{\"colorbar\":{\"outlinewidth\":0,\"ticks\":\"\"}}}],\"scatterternary\":[{\"type\":\"scatterternary\",\"marker\":{\"colorbar\":{\"outlinewidth\":0,\"ticks\":\"\"}}}],\"scattercarpet\":[{\"type\":\"scattercarpet\",\"marker\":{\"colorbar\":{\"outlinewidth\":0,\"ticks\":\"\"}}}],\"carpet\":[{\"aaxis\":{\"endlinecolor\":\"#2a3f5f\",\"gridcolor\":\"white\",\"linecolor\":\"white\",\"minorgridcolor\":\"white\",\"startlinecolor\":\"#2a3f5f\"},\"baxis\":{\"endlinecolor\":\"#2a3f5f\",\"gridcolor\":\"white\",\"linecolor\":\"white\",\"minorgridcolor\":\"white\",\"startlinecolor\":\"#2a3f5f\"},\"type\":\"carpet\"}],\"table\":[{\"cells\":{\"fill\":{\"color\":\"#EBF0F8\"},\"line\":{\"color\":\"white\"}},\"header\":{\"fill\":{\"color\":\"#C8D4E3\"},\"line\":{\"color\":\"white\"}},\"type\":\"table\"}],\"barpolar\":[{\"marker\":{\"line\":{\"color\":\"#E5ECF6\",\"width\":0.5},\"pattern\":{\"fillmode\":\"overlay\",\"size\":10,\"solidity\":0.2}},\"type\":\"barpolar\"}],\"pie\":[{\"automargin\":true,\"type\":\"pie\"}]},\"layout\":{\"autotypenumbers\":\"strict\",\"colorway\":[\"#636efa\",\"#EF553B\",\"#00cc96\",\"#ab63fa\",\"#FFA15A\",\"#19d3f3\",\"#FF6692\",\"#B6E880\",\"#FF97FF\",\"#FECB52\"],\"font\":{\"color\":\"#2a3f5f\"},\"hovermode\":\"closest\",\"hoverlabel\":{\"align\":\"left\"},\"paper_bgcolor\":\"white\",\"plot_bgcolor\":\"#E5ECF6\",\"polar\":{\"bgcolor\":\"#E5ECF6\",\"angularaxis\":{\"gridcolor\":\"white\",\"linecolor\":\"white\",\"ticks\":\"\"},\"radialaxis\":{\"gridcolor\":\"white\",\"linecolor\":\"white\",\"ticks\":\"\"}},\"ternary\":{\"bgcolor\":\"#E5ECF6\",\"aaxis\":{\"gridcolor\":\"white\",\"linecolor\":\"white\",\"ticks\":\"\"},\"baxis\":{\"gridcolor\":\"white\",\"linecolor\":\"white\",\"ticks\":\"\"},\"caxis\":{\"gridcolor\":\"white\",\"linecolor\":\"white\",\"ticks\":\"\"}},\"coloraxis\":{\"colorbar\":{\"outlinewidth\":0,\"ticks\":\"\"}},\"colorscale\":{\"sequential\":[[0.0,\"#0d0887\"],[0.1111111111111111,\"#46039f\"],[0.2222222222222222,\"#7201a8\"],[0.3333333333333333,\"#9c179e\"],[0.4444444444444444,\"#bd3786\"],[0.5555555555555556,\"#d8576b\"],[0.6666666666666666,\"#ed7953\"],[0.7777777777777778,\"#fb9f3a\"],[0.8888888888888888,\"#fdca26\"],[1.0,\"#f0f921\"]],\"sequentialminus\":[[0.0,\"#0d0887\"],[0.1111111111111111,\"#46039f\"],[0.2222222222222222,\"#7201a8\"],[0.3333333333333333,\"#9c179e\"],[0.4444444444444444,\"#bd3786\"],[0.5555555555555556,\"#d8576b\"],[0.6666666666666666,\"#ed7953\"],[0.7777777777777778,\"#fb9f3a\"],[0.8888888888888888,\"#fdca26\"],[1.0,\"#f0f921\"]],\"diverging\":[[0,\"#8e0152\"],[0.1,\"#c51b7d\"],[0.2,\"#de77ae\"],[0.3,\"#f1b6da\"],[0.4,\"#fde0ef\"],[0.5,\"#f7f7f7\"],[0.6,\"#e6f5d0\"],[0.7,\"#b8e186\"],[0.8,\"#7fbc41\"],[0.9,\"#4d9221\"],[1,\"#276419\"]]},\"xaxis\":{\"gridcolor\":\"white\",\"linecolor\":\"white\",\"ticks\":\"\",\"title\":{\"standoff\":15},\"zerolinecolor\":\"white\",\"automargin\":true,\"zerolinewidth\":2},\"yaxis\":{\"gridcolor\":\"white\",\"linecolor\":\"white\",\"ticks\":\"\",\"title\":{\"standoff\":15},\"zerolinecolor\":\"white\",\"automargin\":true,\"zerolinewidth\":2},\"scene\":{\"xaxis\":{\"backgroundcolor\":\"#E5ECF6\",\"gridcolor\":\"white\",\"linecolor\":\"white\",\"showbackground\":true,\"ticks\":\"\",\"zerolinecolor\":\"white\",\"gridwidth\":2},\"yaxis\":{\"backgroundcolor\":\"#E5ECF6\",\"gridcolor\":\"white\",\"linecolor\":\"white\",\"showbackground\":true,\"ticks\":\"\",\"zerolinecolor\":\"white\",\"gridwidth\":2},\"zaxis\":{\"backgroundcolor\":\"#E5ECF6\",\"gridcolor\":\"white\",\"linecolor\":\"white\",\"showbackground\":true,\"ticks\":\"\",\"zerolinecolor\":\"white\",\"gridwidth\":2}},\"shapedefaults\":{\"line\":{\"color\":\"#2a3f5f\"}},\"annotationdefaults\":{\"arrowcolor\":\"#2a3f5f\",\"arrowhead\":0,\"arrowwidth\":1},\"geo\":{\"bgcolor\":\"white\",\"landcolor\":\"#E5ECF6\",\"subunitcolor\":\"white\",\"showland\":true,\"showlakes\":true,\"lakecolor\":\"white\"},\"title\":{\"x\":0.05},\"mapbox\":{\"style\":\"light\"}}},\"xaxis\":{\"anchor\":\"y\",\"domain\":[0.0,1.0],\"title\":{\"text\":\"year\"}},\"yaxis\":{\"anchor\":\"x\",\"domain\":[0.0,1.0],\"title\":{\"text\":\"sumusd\"}},\"legend\":{\"title\":{\"text\":\"gc\"},\"tracegroupgap\":0},\"title\":{\"text\":\"Nilai Export USA per Tahun\"}},                        {\"responsive\": true}                    ).then(function(){\n",
              "                            \n",
              "var gd = document.getElementById('414c81fb-bbe4-402c-8698-d01b95ec2e0a');\n",
              "var x = new MutationObserver(function (mutations, observer) {{\n",
              "        var display = window.getComputedStyle(gd).display;\n",
              "        if (!display || display === 'none') {{\n",
              "            console.log([gd, 'removed!']);\n",
              "            Plotly.purge(gd);\n",
              "            observer.disconnect();\n",
              "        }}\n",
              "}});\n",
              "\n",
              "// Listen for the removal of the full notebook cells\n",
              "var notebookContainer = gd.closest('#notebook-container');\n",
              "if (notebookContainer) {{\n",
              "    x.observe(notebookContainer, {childList: true});\n",
              "}}\n",
              "\n",
              "// Listen for the clearing of the current output cell\n",
              "var outputEl = gd.closest('.output');\n",
              "if (outputEl) {{\n",
              "    x.observe(outputEl, {childList: true});\n",
              "}}\n",
              "\n",
              "                        })                };                            </script>        </div>\n",
              "</body>\n",
              "</html>"
            ]
          },
          "metadata": {},
          "output_type": "display_data"
        }
      ],
      "source": [
        "# Filter data untuk Export dari USA\n",
        "warusaex = war[(war['country'] == \"usa\") & (war['flow'] == \"Export\")]\n",
        "warusaex1 = warusaex.groupby(['gc', 'year']).agg(sumusd=('trade_usd', 'sum'), tax=('trade_usd', lambda x: x.sum() * 1.25)).reset_index()\n",
        "\n",
        "\n",
        "color_sequence = ['#1f77b4', '#ff7f0e', '#2ca02c', '#d62728', '#9467bd', '#8c564b']\n",
        "\n",
        "# Plot menggunakan Plotly Express dengan urutan warna yang telah didefinisikan\n",
        "fig = px.scatter(warusaex1, x='year', y='sumusd', color='gc',\n",
        "                 title='Nilai Export USA per Tahun',\n",
        "                 hover_data={'gc': True, 'year': False, 'sumusd': True, 'tax': True},\n",
        "                 color_discrete_sequence=color_sequence)\n",
        "\n",
        "fig.update_traces(marker=dict(opacity=0.8))\n",
        "\n",
        "fig.show()"
      ]
    },
    {
      "cell_type": "markdown",
      "metadata": {
        "id": "g1WniI2tyGfy"
      },
      "source": [
        "### 2.3.3 China Import Summary"
      ]
    },
    {
      "cell_type": "code",
      "execution_count": null,
      "metadata": {
        "colab": {
          "base_uri": "https://localhost:8080/",
          "height": 542
        },
        "id": "OVpm0wtqykwx",
        "outputId": "1f2937d4-f7d6-4a50-f28a-5a8c4484dc6b"
      },
      "outputs": [
        {
          "data": {
            "text/html": [
              "<html>\n",
              "<head><meta charset=\"utf-8\" /></head>\n",
              "<body>\n",
              "    <div>            <script src=\"https://cdnjs.cloudflare.com/ajax/libs/mathjax/2.7.5/MathJax.js?config=TeX-AMS-MML_SVG\"></script><script type=\"text/javascript\">if (window.MathJax && window.MathJax.Hub && window.MathJax.Hub.Config) {window.MathJax.Hub.Config({SVG: {font: \"STIX-Web\"}});}</script>                <script type=\"text/javascript\">window.PlotlyConfig = {MathJaxConfig: 'local'};</script>\n",
              "        <script charset=\"utf-8\" src=\"https://cdn.plot.ly/plotly-2.24.1.min.js\"></script>                <div id=\"1be0e852-caf7-4b12-87d3-0f1424a95e43\" class=\"plotly-graph-div\" style=\"height:525px; width:100%;\"></div>            <script type=\"text/javascript\">                                    window.PLOTLYENV=window.PLOTLYENV || {};                                    if (document.getElementById(\"1be0e852-caf7-4b12-87d3-0f1424a95e43\")) {                    Plotly.newPlot(                        \"1be0e852-caf7-4b12-87d3-0f1424a95e43\",                        [{\"customdata\":[[\"Aluminium Product\",4086624128.75],[\"Aluminium Product\",5369432216.25],[\"Aluminium Product\",7510745676.25],[\"Aluminium Product\",7584562115.0],[\"Aluminium Product\",9558163885.0],[\"Aluminium Product\",11119051200.0],[\"Aluminium Product\",11966731982.5],[\"Aluminium Product\",12616199886.25],[\"Aluminium Product\",13967378797.5],[\"Aluminium Product\",16373523797.5],[\"Aluminium Product\",15768147028.75],[\"Aluminium Product\",16872373651.25],[\"Aluminium Product\",13784360825.0],[\"Aluminium Product\",13477633467.5],[\"Aluminium Product\",11567142515.0]],\"hovertemplate\":\"gc=%{customdata[0]}\\u003cbr\\u003esumusd=%{y}\\u003cbr\\u003etax=%{customdata[1]}\\u003cextra\\u003e\\u003c\\u002fextra\\u003e\",\"legendgroup\":\"Aluminium Product\",\"marker\":{\"color\":\"#1f77b4\",\"symbol\":\"circle\",\"opacity\":0.8},\"mode\":\"markers\",\"name\":\"Aluminium Product\",\"orientation\":\"v\",\"showlegend\":true,\"x\":[2002,2003,2004,2005,2006,2007,2008,2009,2010,2011,2012,2013,2014,2015,2016],\"xaxis\":\"x\",\"y\":[3269299303,4295545773,6008596541,6067649692,7646531108,8895240960,9573385586,10092959909,11173903038,13098819038,12614517623,13497898921,11027488660,10782106774,9253714012],\"yaxis\":\"y\",\"type\":\"scatter\"},{\"customdata\":[[\"Auto Product\",7319407056.25],[\"Auto Product\",12219720528.75],[\"Auto Product\",12933985882.5],[\"Auto Product\",12420429667.5],[\"Auto Product\",16754514066.25],[\"Auto Product\",23200272108.75],[\"Auto Product\",30445701876.25],[\"Auto Product\",32117334357.5],[\"Auto Product\",56176448446.25],[\"Auto Product\",74700971052.5],[\"Auto Product\",80773163272.5],[\"Auto Product\",85493164532.5],[\"Auto Product\",104741646771.25],[\"Auto Product\",81305245315.0],[\"Auto Product\",82555363876.25]],\"hovertemplate\":\"gc=%{customdata[0]}\\u003cbr\\u003esumusd=%{y}\\u003cbr\\u003etax=%{customdata[1]}\\u003cextra\\u003e\\u003c\\u002fextra\\u003e\",\"legendgroup\":\"Auto Product\",\"marker\":{\"color\":\"#ff7f0e\",\"symbol\":\"circle\",\"opacity\":0.8},\"mode\":\"markers\",\"name\":\"Auto Product\",\"orientation\":\"v\",\"showlegend\":true,\"x\":[2002,2003,2004,2005,2006,2007,2008,2009,2010,2011,2012,2013,2014,2015,2016],\"xaxis\":\"x\",\"y\":[5855525645,9775776423,10347188706,9936343734,13403611253,18560217687,24356561501,25693867486,44941158757,59760776842,64618530618,68394531626,83793317417,65044196252,66044291101],\"yaxis\":\"y\",\"type\":\"scatter\"},{\"customdata\":[[\"Cotton Product\",12526490998.75],[\"Cotton Product\",15037968047.5],[\"Cotton Product\",18631815716.25],[\"Cotton Product\",18721498443.75],[\"Cotton Product\",21683924641.25],[\"Cotton Product\",19641960603.75],[\"Cotton Product\",17949172855.0],[\"Cotton Product\",14920296307.5],[\"Cotton Product\",21222034688.75],[\"Cotton Product\",26024459391.25],[\"Cotton Product\",30376864672.5],[\"Cotton Product\",28482143363.75],[\"Cotton Product\",21660145085.0],[\"Cotton Product\",17739336538.75],[\"Cotton Product\",13994242953.75]],\"hovertemplate\":\"gc=%{customdata[0]}\\u003cbr\\u003esumusd=%{y}\\u003cbr\\u003etax=%{customdata[1]}\\u003cextra\\u003e\\u003c\\u002fextra\\u003e\",\"legendgroup\":\"Cotton Product\",\"marker\":{\"color\":\"#2ca02c\",\"symbol\":\"circle\",\"opacity\":0.8},\"mode\":\"markers\",\"name\":\"Cotton Product\",\"orientation\":\"v\",\"showlegend\":true,\"x\":[2002,2003,2004,2005,2006,2007,2008,2009,2010,2011,2012,2013,2014,2015,2016],\"xaxis\":\"x\",\"y\":[10021192799,12030374438,14905452573,14977198755,17347139713,15713568483,14359338284,11936237046,16977627751,20819567513,24301491738,22785714691,17328116068,14191469231,11195394363],\"yaxis\":\"y\",\"type\":\"scatter\"},{\"customdata\":[[\"Electric product\",2847820956.25],[\"Electric product\",2757341721.25],[\"Electric product\",2695351560.0],[\"Electric product\",2653471360.0],[\"Electric product\",2941463716.25],[\"Electric product\",2801203353.75],[\"Electric product\",2827246032.5],[\"Electric product\",2635109533.75],[\"Electric product\",3486894481.25],[\"Electric product\",3718331706.25],[\"Electric product\",3845540225.0],[\"Electric product\",3873753468.75],[\"Electric product\",4132160495.0],[\"Electric product\",4027485870.0],[\"Electric product\",3873913291.25]],\"hovertemplate\":\"gc=%{customdata[0]}\\u003cbr\\u003esumusd=%{y}\\u003cbr\\u003etax=%{customdata[1]}\\u003cextra\\u003e\\u003c\\u002fextra\\u003e\",\"legendgroup\":\"Electric product\",\"marker\":{\"color\":\"#d62728\",\"symbol\":\"circle\",\"opacity\":0.8},\"mode\":\"markers\",\"name\":\"Electric product\",\"orientation\":\"v\",\"showlegend\":true,\"x\":[2002,2003,2004,2005,2006,2007,2008,2009,2010,2011,2012,2013,2014,2015,2016],\"xaxis\":\"x\",\"y\":[2278256765,2205873377,2156281248,2122777088,2353170973,2240962683,2261796826,2108087627,2789515585,2974665365,3076432180,3099002775,3305728396,3221988696,3099130633],\"yaxis\":\"y\",\"type\":\"scatter\"},{\"customdata\":[[\"Medical Product\",94954762.5],[\"Medical Product\",121366277.5],[\"Medical Product\",148448008.75],[\"Medical Product\",188881680.0],[\"Medical Product\",166090723.75],[\"Medical Product\",190956010.0],[\"Medical Product\",233115550.0],[\"Medical Product\",262804727.5],[\"Medical Product\",321435735.0],[\"Medical Product\",403827200.0],[\"Medical Product\",502920100.0],[\"Medical Product\",554817416.25],[\"Medical Product\",681060008.75],[\"Medical Product\",709668470.0],[\"Medical Product\",756610773.75]],\"hovertemplate\":\"gc=%{customdata[0]}\\u003cbr\\u003esumusd=%{y}\\u003cbr\\u003etax=%{customdata[1]}\\u003cextra\\u003e\\u003c\\u002fextra\\u003e\",\"legendgroup\":\"Medical Product\",\"marker\":{\"color\":\"#9467bd\",\"symbol\":\"circle\",\"opacity\":0.8},\"mode\":\"markers\",\"name\":\"Medical Product\",\"orientation\":\"v\",\"showlegend\":true,\"x\":[2002,2003,2004,2005,2006,2007,2008,2009,2010,2011,2012,2013,2014,2015,2016],\"xaxis\":\"x\",\"y\":[75963810,97093022,118758407,151105344,132872579,152764808,186492440,210243782,257148588,323061760,402336080,443853933,544848007,567734776,605288619],\"yaxis\":\"y\",\"type\":\"scatter\"},{\"customdata\":[[\"Steel Product\",35940281.25],[\"Steel Product\",54137266.25],[\"Steel Product\",106642800.0],[\"Steel Product\",186394745.0],[\"Steel Product\",208118597.5],[\"Steel Product\",372967801.25],[\"Steel Product\",675445513.75],[\"Steel Product\",294872192.5],[\"Steel Product\",663148941.25],[\"Steel Product\",1145359540.0],[\"Steel Product\",886598617.5],[\"Steel Product\",887765513.75],[\"Steel Product\",608903516.25],[\"Steel Product\",301518643.75],[\"Steel Product\",340135917.5]],\"hovertemplate\":\"gc=%{customdata[0]}\\u003cbr\\u003esumusd=%{y}\\u003cbr\\u003etax=%{customdata[1]}\\u003cextra\\u003e\\u003c\\u002fextra\\u003e\",\"legendgroup\":\"Steel Product\",\"marker\":{\"color\":\"#8c564b\",\"symbol\":\"circle\",\"opacity\":0.8},\"mode\":\"markers\",\"name\":\"Steel Product\",\"orientation\":\"v\",\"showlegend\":true,\"x\":[2002,2003,2004,2005,2006,2007,2008,2009,2010,2011,2012,2013,2014,2015,2016],\"xaxis\":\"x\",\"y\":[28752225,43309813,85314240,149115796,166494878,298374241,540356411,235897754,530519153,916287632,709278894,710212411,487122813,241214915,272108734],\"yaxis\":\"y\",\"type\":\"scatter\"},{\"customdata\":[[\"aircraft product\",4916954722.5],[\"aircraft product\",6590170250.0],[\"aircraft product\",7159561487.5],[\"aircraft product\",9440346667.5],[\"aircraft product\",14638595913.75],[\"aircraft product\",14419079297.5],[\"aircraft product\",13358712960.0],[\"aircraft product\",14045453373.75],[\"aircraft product\",16237305546.25],[\"aircraft product\",19450429762.5],[\"aircraft product\",24857556170.0],[\"aircraft product\",32126448768.75],[\"aircraft product\",37612869848.75],[\"aircraft product\",34277234728.75],[\"aircraft product\",30339747695.0]],\"hovertemplate\":\"gc=%{customdata[0]}\\u003cbr\\u003esumusd=%{y}\\u003cbr\\u003etax=%{customdata[1]}\\u003cextra\\u003e\\u003c\\u002fextra\\u003e\",\"legendgroup\":\"aircraft product\",\"marker\":{\"color\":\"#1f77b4\",\"symbol\":\"circle\",\"opacity\":0.8},\"mode\":\"markers\",\"name\":\"aircraft product\",\"orientation\":\"v\",\"showlegend\":true,\"x\":[2002,2003,2004,2005,2006,2007,2008,2009,2010,2011,2012,2013,2014,2015,2016],\"xaxis\":\"x\",\"y\":[3933563778,5272136200,5727649190,7552277334,11710876731,11535263438,10686970368,11236362699,12989844437,15560343810,19886044936,25701159015,30090295879,27421787783,24271798156],\"yaxis\":\"y\",\"type\":\"scatter\"},{\"customdata\":[[\"animal product\",1088974890.0],[\"animal product\",1226575853.75],[\"animal product\",1385114447.5],[\"animal product\",1293863838.75],[\"animal product\",1341194522.5],[\"animal product\",2090790470.0],[\"animal product\",4127400360.0],[\"animal product\",3284246495.0],[\"animal product\",3914785027.5],[\"animal product\",5929095193.75],[\"animal product\",6100386603.75],[\"animal product\",6455260397.5],[\"animal product\",6679323490.0],[\"animal product\",6436295407.5],[\"animal product\",10338151375.0]],\"hovertemplate\":\"gc=%{customdata[0]}\\u003cbr\\u003esumusd=%{y}\\u003cbr\\u003etax=%{customdata[1]}\\u003cextra\\u003e\\u003c\\u002fextra\\u003e\",\"legendgroup\":\"animal product\",\"marker\":{\"color\":\"#ff7f0e\",\"symbol\":\"circle\",\"opacity\":0.8},\"mode\":\"markers\",\"name\":\"animal product\",\"orientation\":\"v\",\"showlegend\":true,\"x\":[2002,2003,2004,2005,2006,2007,2008,2009,2010,2011,2012,2013,2014,2015,2016],\"xaxis\":\"x\",\"y\":[871179912,981260683,1108091558,1035091071,1072955618,1672632376,3301920288,2627397196,3131828022,4743276155,4880309283,5164208318,5343458792,5149036326,8270521100],\"yaxis\":\"y\",\"type\":\"scatter\"}],                        {\"template\":{\"data\":{\"histogram2dcontour\":[{\"type\":\"histogram2dcontour\",\"colorbar\":{\"outlinewidth\":0,\"ticks\":\"\"},\"colorscale\":[[0.0,\"#0d0887\"],[0.1111111111111111,\"#46039f\"],[0.2222222222222222,\"#7201a8\"],[0.3333333333333333,\"#9c179e\"],[0.4444444444444444,\"#bd3786\"],[0.5555555555555556,\"#d8576b\"],[0.6666666666666666,\"#ed7953\"],[0.7777777777777778,\"#fb9f3a\"],[0.8888888888888888,\"#fdca26\"],[1.0,\"#f0f921\"]]}],\"choropleth\":[{\"type\":\"choropleth\",\"colorbar\":{\"outlinewidth\":0,\"ticks\":\"\"}}],\"histogram2d\":[{\"type\":\"histogram2d\",\"colorbar\":{\"outlinewidth\":0,\"ticks\":\"\"},\"colorscale\":[[0.0,\"#0d0887\"],[0.1111111111111111,\"#46039f\"],[0.2222222222222222,\"#7201a8\"],[0.3333333333333333,\"#9c179e\"],[0.4444444444444444,\"#bd3786\"],[0.5555555555555556,\"#d8576b\"],[0.6666666666666666,\"#ed7953\"],[0.7777777777777778,\"#fb9f3a\"],[0.8888888888888888,\"#fdca26\"],[1.0,\"#f0f921\"]]}],\"heatmap\":[{\"type\":\"heatmap\",\"colorbar\":{\"outlinewidth\":0,\"ticks\":\"\"},\"colorscale\":[[0.0,\"#0d0887\"],[0.1111111111111111,\"#46039f\"],[0.2222222222222222,\"#7201a8\"],[0.3333333333333333,\"#9c179e\"],[0.4444444444444444,\"#bd3786\"],[0.5555555555555556,\"#d8576b\"],[0.6666666666666666,\"#ed7953\"],[0.7777777777777778,\"#fb9f3a\"],[0.8888888888888888,\"#fdca26\"],[1.0,\"#f0f921\"]]}],\"heatmapgl\":[{\"type\":\"heatmapgl\",\"colorbar\":{\"outlinewidth\":0,\"ticks\":\"\"},\"colorscale\":[[0.0,\"#0d0887\"],[0.1111111111111111,\"#46039f\"],[0.2222222222222222,\"#7201a8\"],[0.3333333333333333,\"#9c179e\"],[0.4444444444444444,\"#bd3786\"],[0.5555555555555556,\"#d8576b\"],[0.6666666666666666,\"#ed7953\"],[0.7777777777777778,\"#fb9f3a\"],[0.8888888888888888,\"#fdca26\"],[1.0,\"#f0f921\"]]}],\"contourcarpet\":[{\"type\":\"contourcarpet\",\"colorbar\":{\"outlinewidth\":0,\"ticks\":\"\"}}],\"contour\":[{\"type\":\"contour\",\"colorbar\":{\"outlinewidth\":0,\"ticks\":\"\"},\"colorscale\":[[0.0,\"#0d0887\"],[0.1111111111111111,\"#46039f\"],[0.2222222222222222,\"#7201a8\"],[0.3333333333333333,\"#9c179e\"],[0.4444444444444444,\"#bd3786\"],[0.5555555555555556,\"#d8576b\"],[0.6666666666666666,\"#ed7953\"],[0.7777777777777778,\"#fb9f3a\"],[0.8888888888888888,\"#fdca26\"],[1.0,\"#f0f921\"]]}],\"surface\":[{\"type\":\"surface\",\"colorbar\":{\"outlinewidth\":0,\"ticks\":\"\"},\"colorscale\":[[0.0,\"#0d0887\"],[0.1111111111111111,\"#46039f\"],[0.2222222222222222,\"#7201a8\"],[0.3333333333333333,\"#9c179e\"],[0.4444444444444444,\"#bd3786\"],[0.5555555555555556,\"#d8576b\"],[0.6666666666666666,\"#ed7953\"],[0.7777777777777778,\"#fb9f3a\"],[0.8888888888888888,\"#fdca26\"],[1.0,\"#f0f921\"]]}],\"mesh3d\":[{\"type\":\"mesh3d\",\"colorbar\":{\"outlinewidth\":0,\"ticks\":\"\"}}],\"scatter\":[{\"fillpattern\":{\"fillmode\":\"overlay\",\"size\":10,\"solidity\":0.2},\"type\":\"scatter\"}],\"parcoords\":[{\"type\":\"parcoords\",\"line\":{\"colorbar\":{\"outlinewidth\":0,\"ticks\":\"\"}}}],\"scatterpolargl\":[{\"type\":\"scatterpolargl\",\"marker\":{\"colorbar\":{\"outlinewidth\":0,\"ticks\":\"\"}}}],\"bar\":[{\"error_x\":{\"color\":\"#2a3f5f\"},\"error_y\":{\"color\":\"#2a3f5f\"},\"marker\":{\"line\":{\"color\":\"#E5ECF6\",\"width\":0.5},\"pattern\":{\"fillmode\":\"overlay\",\"size\":10,\"solidity\":0.2}},\"type\":\"bar\"}],\"scattergeo\":[{\"type\":\"scattergeo\",\"marker\":{\"colorbar\":{\"outlinewidth\":0,\"ticks\":\"\"}}}],\"scatterpolar\":[{\"type\":\"scatterpolar\",\"marker\":{\"colorbar\":{\"outlinewidth\":0,\"ticks\":\"\"}}}],\"histogram\":[{\"marker\":{\"pattern\":{\"fillmode\":\"overlay\",\"size\":10,\"solidity\":0.2}},\"type\":\"histogram\"}],\"scattergl\":[{\"type\":\"scattergl\",\"marker\":{\"colorbar\":{\"outlinewidth\":0,\"ticks\":\"\"}}}],\"scatter3d\":[{\"type\":\"scatter3d\",\"line\":{\"colorbar\":{\"outlinewidth\":0,\"ticks\":\"\"}},\"marker\":{\"colorbar\":{\"outlinewidth\":0,\"ticks\":\"\"}}}],\"scattermapbox\":[{\"type\":\"scattermapbox\",\"marker\":{\"colorbar\":{\"outlinewidth\":0,\"ticks\":\"\"}}}],\"scatterternary\":[{\"type\":\"scatterternary\",\"marker\":{\"colorbar\":{\"outlinewidth\":0,\"ticks\":\"\"}}}],\"scattercarpet\":[{\"type\":\"scattercarpet\",\"marker\":{\"colorbar\":{\"outlinewidth\":0,\"ticks\":\"\"}}}],\"carpet\":[{\"aaxis\":{\"endlinecolor\":\"#2a3f5f\",\"gridcolor\":\"white\",\"linecolor\":\"white\",\"minorgridcolor\":\"white\",\"startlinecolor\":\"#2a3f5f\"},\"baxis\":{\"endlinecolor\":\"#2a3f5f\",\"gridcolor\":\"white\",\"linecolor\":\"white\",\"minorgridcolor\":\"white\",\"startlinecolor\":\"#2a3f5f\"},\"type\":\"carpet\"}],\"table\":[{\"cells\":{\"fill\":{\"color\":\"#EBF0F8\"},\"line\":{\"color\":\"white\"}},\"header\":{\"fill\":{\"color\":\"#C8D4E3\"},\"line\":{\"color\":\"white\"}},\"type\":\"table\"}],\"barpolar\":[{\"marker\":{\"line\":{\"color\":\"#E5ECF6\",\"width\":0.5},\"pattern\":{\"fillmode\":\"overlay\",\"size\":10,\"solidity\":0.2}},\"type\":\"barpolar\"}],\"pie\":[{\"automargin\":true,\"type\":\"pie\"}]},\"layout\":{\"autotypenumbers\":\"strict\",\"colorway\":[\"#636efa\",\"#EF553B\",\"#00cc96\",\"#ab63fa\",\"#FFA15A\",\"#19d3f3\",\"#FF6692\",\"#B6E880\",\"#FF97FF\",\"#FECB52\"],\"font\":{\"color\":\"#2a3f5f\"},\"hovermode\":\"closest\",\"hoverlabel\":{\"align\":\"left\"},\"paper_bgcolor\":\"white\",\"plot_bgcolor\":\"#E5ECF6\",\"polar\":{\"bgcolor\":\"#E5ECF6\",\"angularaxis\":{\"gridcolor\":\"white\",\"linecolor\":\"white\",\"ticks\":\"\"},\"radialaxis\":{\"gridcolor\":\"white\",\"linecolor\":\"white\",\"ticks\":\"\"}},\"ternary\":{\"bgcolor\":\"#E5ECF6\",\"aaxis\":{\"gridcolor\":\"white\",\"linecolor\":\"white\",\"ticks\":\"\"},\"baxis\":{\"gridcolor\":\"white\",\"linecolor\":\"white\",\"ticks\":\"\"},\"caxis\":{\"gridcolor\":\"white\",\"linecolor\":\"white\",\"ticks\":\"\"}},\"coloraxis\":{\"colorbar\":{\"outlinewidth\":0,\"ticks\":\"\"}},\"colorscale\":{\"sequential\":[[0.0,\"#0d0887\"],[0.1111111111111111,\"#46039f\"],[0.2222222222222222,\"#7201a8\"],[0.3333333333333333,\"#9c179e\"],[0.4444444444444444,\"#bd3786\"],[0.5555555555555556,\"#d8576b\"],[0.6666666666666666,\"#ed7953\"],[0.7777777777777778,\"#fb9f3a\"],[0.8888888888888888,\"#fdca26\"],[1.0,\"#f0f921\"]],\"sequentialminus\":[[0.0,\"#0d0887\"],[0.1111111111111111,\"#46039f\"],[0.2222222222222222,\"#7201a8\"],[0.3333333333333333,\"#9c179e\"],[0.4444444444444444,\"#bd3786\"],[0.5555555555555556,\"#d8576b\"],[0.6666666666666666,\"#ed7953\"],[0.7777777777777778,\"#fb9f3a\"],[0.8888888888888888,\"#fdca26\"],[1.0,\"#f0f921\"]],\"diverging\":[[0,\"#8e0152\"],[0.1,\"#c51b7d\"],[0.2,\"#de77ae\"],[0.3,\"#f1b6da\"],[0.4,\"#fde0ef\"],[0.5,\"#f7f7f7\"],[0.6,\"#e6f5d0\"],[0.7,\"#b8e186\"],[0.8,\"#7fbc41\"],[0.9,\"#4d9221\"],[1,\"#276419\"]]},\"xaxis\":{\"gridcolor\":\"white\",\"linecolor\":\"white\",\"ticks\":\"\",\"title\":{\"standoff\":15},\"zerolinecolor\":\"white\",\"automargin\":true,\"zerolinewidth\":2},\"yaxis\":{\"gridcolor\":\"white\",\"linecolor\":\"white\",\"ticks\":\"\",\"title\":{\"standoff\":15},\"zerolinecolor\":\"white\",\"automargin\":true,\"zerolinewidth\":2},\"scene\":{\"xaxis\":{\"backgroundcolor\":\"#E5ECF6\",\"gridcolor\":\"white\",\"linecolor\":\"white\",\"showbackground\":true,\"ticks\":\"\",\"zerolinecolor\":\"white\",\"gridwidth\":2},\"yaxis\":{\"backgroundcolor\":\"#E5ECF6\",\"gridcolor\":\"white\",\"linecolor\":\"white\",\"showbackground\":true,\"ticks\":\"\",\"zerolinecolor\":\"white\",\"gridwidth\":2},\"zaxis\":{\"backgroundcolor\":\"#E5ECF6\",\"gridcolor\":\"white\",\"linecolor\":\"white\",\"showbackground\":true,\"ticks\":\"\",\"zerolinecolor\":\"white\",\"gridwidth\":2}},\"shapedefaults\":{\"line\":{\"color\":\"#2a3f5f\"}},\"annotationdefaults\":{\"arrowcolor\":\"#2a3f5f\",\"arrowhead\":0,\"arrowwidth\":1},\"geo\":{\"bgcolor\":\"white\",\"landcolor\":\"#E5ECF6\",\"subunitcolor\":\"white\",\"showland\":true,\"showlakes\":true,\"lakecolor\":\"white\"},\"title\":{\"x\":0.05},\"mapbox\":{\"style\":\"light\"}}},\"xaxis\":{\"anchor\":\"y\",\"domain\":[0.0,1.0],\"title\":{\"text\":\"year\"}},\"yaxis\":{\"anchor\":\"x\",\"domain\":[0.0,1.0],\"title\":{\"text\":\"sumusd\"}},\"legend\":{\"title\":{\"text\":\"gc\"},\"tracegroupgap\":0},\"title\":{\"text\":\"Nilai Impor China per Tahun\"}},                        {\"responsive\": true}                    ).then(function(){\n",
              "                            \n",
              "var gd = document.getElementById('1be0e852-caf7-4b12-87d3-0f1424a95e43');\n",
              "var x = new MutationObserver(function (mutations, observer) {{\n",
              "        var display = window.getComputedStyle(gd).display;\n",
              "        if (!display || display === 'none') {{\n",
              "            console.log([gd, 'removed!']);\n",
              "            Plotly.purge(gd);\n",
              "            observer.disconnect();\n",
              "        }}\n",
              "}});\n",
              "\n",
              "// Listen for the removal of the full notebook cells\n",
              "var notebookContainer = gd.closest('#notebook-container');\n",
              "if (notebookContainer) {{\n",
              "    x.observe(notebookContainer, {childList: true});\n",
              "}}\n",
              "\n",
              "// Listen for the clearing of the current output cell\n",
              "var outputEl = gd.closest('.output');\n",
              "if (outputEl) {{\n",
              "    x.observe(outputEl, {childList: true});\n",
              "}}\n",
              "\n",
              "                        })                };                            </script>        </div>\n",
              "</body>\n",
              "</html>"
            ]
          },
          "metadata": {},
          "output_type": "display_data"
        }
      ],
      "source": [
        "# Filter data untuk impor dari USA\n",
        "warusaimc = war[(war['country'] == \"china\") & (war['flow'] == \"Import\")]\n",
        "warusaimc1 = warusaimc.groupby(['gc', 'year']).agg(sumusd=('trade_usd', 'sum'), tax=('trade_usd', lambda x: x.sum() * 1.25)).reset_index()\n",
        "\n",
        "\n",
        "color_sequence = ['#1f77b4', '#ff7f0e', '#2ca02c', '#d62728', '#9467bd', '#8c564b']\n",
        "\n",
        "# Plot menggunakan Plotly Express dengan urutan warna yang telah didefinisikan\n",
        "fig = px.scatter(warusaimc1, x='year', y='sumusd', color='gc',\n",
        "                 title='Nilai Impor China per Tahun',\n",
        "                 hover_data={'gc': True, 'year': False, 'sumusd': True, 'tax': True},\n",
        "                 color_discrete_sequence=color_sequence)\n",
        "\n",
        "fig.update_traces(marker=dict(opacity=0.8))\n",
        "\n",
        "fig.show()"
      ]
    },
    {
      "cell_type": "markdown",
      "metadata": {
        "id": "7PpWVf0iylZJ"
      },
      "source": [
        "### 2.3.4 China Import Summary"
      ]
    },
    {
      "cell_type": "code",
      "execution_count": null,
      "metadata": {
        "colab": {
          "base_uri": "https://localhost:8080/",
          "height": 542
        },
        "id": "sPVfcDTBwt0F",
        "outputId": "8e460b19-2373-4735-ec6f-a4fbc8747a16"
      },
      "outputs": [
        {
          "data": {
            "text/html": [
              "<html>\n",
              "<head><meta charset=\"utf-8\" /></head>\n",
              "<body>\n",
              "    <div>            <script src=\"https://cdnjs.cloudflare.com/ajax/libs/mathjax/2.7.5/MathJax.js?config=TeX-AMS-MML_SVG\"></script><script type=\"text/javascript\">if (window.MathJax && window.MathJax.Hub && window.MathJax.Hub.Config) {window.MathJax.Hub.Config({SVG: {font: \"STIX-Web\"}});}</script>                <script type=\"text/javascript\">window.PlotlyConfig = {MathJaxConfig: 'local'};</script>\n",
              "        <script charset=\"utf-8\" src=\"https://cdn.plot.ly/plotly-2.24.1.min.js\"></script>                <div id=\"18ab48c6-a0db-4711-a6be-ac67f0cd108b\" class=\"plotly-graph-div\" style=\"height:525px; width:100%;\"></div>            <script type=\"text/javascript\">                                    window.PLOTLYENV=window.PLOTLYENV || {};                                    if (document.getElementById(\"18ab48c6-a0db-4711-a6be-ac67f0cd108b\")) {                    Plotly.newPlot(                        \"18ab48c6-a0db-4711-a6be-ac67f0cd108b\",                        [{\"customdata\":[[\"Aluminium Product\",4086624128.75],[\"Aluminium Product\",5369432216.25],[\"Aluminium Product\",7510745676.25],[\"Aluminium Product\",7584562115.0],[\"Aluminium Product\",9558163885.0],[\"Aluminium Product\",11119051200.0],[\"Aluminium Product\",11966731982.5],[\"Aluminium Product\",12616199886.25],[\"Aluminium Product\",13967378797.5],[\"Aluminium Product\",16373523797.5],[\"Aluminium Product\",15768147028.75],[\"Aluminium Product\",16872373651.25],[\"Aluminium Product\",13784360825.0],[\"Aluminium Product\",13477633467.5],[\"Aluminium Product\",11567142515.0]],\"hovertemplate\":\"gc=%{customdata[0]}\\u003cbr\\u003esumusd=%{y}\\u003cbr\\u003etax=%{customdata[1]}\\u003cextra\\u003e\\u003c\\u002fextra\\u003e\",\"legendgroup\":\"Aluminium Product\",\"marker\":{\"color\":\"#1f77b4\",\"symbol\":\"circle\",\"opacity\":0.8},\"mode\":\"markers\",\"name\":\"Aluminium Product\",\"orientation\":\"v\",\"showlegend\":true,\"x\":[2002,2003,2004,2005,2006,2007,2008,2009,2010,2011,2012,2013,2014,2015,2016],\"xaxis\":\"x\",\"y\":[3269299303,4295545773,6008596541,6067649692,7646531108,8895240960,9573385586,10092959909,11173903038,13098819038,12614517623,13497898921,11027488660,10782106774,9253714012],\"yaxis\":\"y\",\"type\":\"scatter\"},{\"customdata\":[[\"Auto Product\",7319407056.25],[\"Auto Product\",12219720528.75],[\"Auto Product\",12933985882.5],[\"Auto Product\",12420429667.5],[\"Auto Product\",16754514066.25],[\"Auto Product\",23200272108.75],[\"Auto Product\",30445701876.25],[\"Auto Product\",32117334357.5],[\"Auto Product\",56176448446.25],[\"Auto Product\",74700971052.5],[\"Auto Product\",80773163272.5],[\"Auto Product\",85493164532.5],[\"Auto Product\",104741646771.25],[\"Auto Product\",81305245315.0],[\"Auto Product\",82555363876.25]],\"hovertemplate\":\"gc=%{customdata[0]}\\u003cbr\\u003esumusd=%{y}\\u003cbr\\u003etax=%{customdata[1]}\\u003cextra\\u003e\\u003c\\u002fextra\\u003e\",\"legendgroup\":\"Auto Product\",\"marker\":{\"color\":\"#ff7f0e\",\"symbol\":\"circle\",\"opacity\":0.8},\"mode\":\"markers\",\"name\":\"Auto Product\",\"orientation\":\"v\",\"showlegend\":true,\"x\":[2002,2003,2004,2005,2006,2007,2008,2009,2010,2011,2012,2013,2014,2015,2016],\"xaxis\":\"x\",\"y\":[5855525645,9775776423,10347188706,9936343734,13403611253,18560217687,24356561501,25693867486,44941158757,59760776842,64618530618,68394531626,83793317417,65044196252,66044291101],\"yaxis\":\"y\",\"type\":\"scatter\"},{\"customdata\":[[\"Cotton Product\",12526490998.75],[\"Cotton Product\",15037968047.5],[\"Cotton Product\",18631815716.25],[\"Cotton Product\",18721498443.75],[\"Cotton Product\",21683924641.25],[\"Cotton Product\",19641960603.75],[\"Cotton Product\",17949172855.0],[\"Cotton Product\",14920296307.5],[\"Cotton Product\",21222034688.75],[\"Cotton Product\",26024459391.25],[\"Cotton Product\",30376864672.5],[\"Cotton Product\",28482143363.75],[\"Cotton Product\",21660145085.0],[\"Cotton Product\",17739336538.75],[\"Cotton Product\",13994242953.75]],\"hovertemplate\":\"gc=%{customdata[0]}\\u003cbr\\u003esumusd=%{y}\\u003cbr\\u003etax=%{customdata[1]}\\u003cextra\\u003e\\u003c\\u002fextra\\u003e\",\"legendgroup\":\"Cotton Product\",\"marker\":{\"color\":\"#2ca02c\",\"symbol\":\"circle\",\"opacity\":0.8},\"mode\":\"markers\",\"name\":\"Cotton Product\",\"orientation\":\"v\",\"showlegend\":true,\"x\":[2002,2003,2004,2005,2006,2007,2008,2009,2010,2011,2012,2013,2014,2015,2016],\"xaxis\":\"x\",\"y\":[10021192799,12030374438,14905452573,14977198755,17347139713,15713568483,14359338284,11936237046,16977627751,20819567513,24301491738,22785714691,17328116068,14191469231,11195394363],\"yaxis\":\"y\",\"type\":\"scatter\"},{\"customdata\":[[\"Electric product\",2847820956.25],[\"Electric product\",2757341721.25],[\"Electric product\",2695351560.0],[\"Electric product\",2653471360.0],[\"Electric product\",2941463716.25],[\"Electric product\",2801203353.75],[\"Electric product\",2827246032.5],[\"Electric product\",2635109533.75],[\"Electric product\",3486894481.25],[\"Electric product\",3718331706.25],[\"Electric product\",3845540225.0],[\"Electric product\",3873753468.75],[\"Electric product\",4132160495.0],[\"Electric product\",4027485870.0],[\"Electric product\",3873913291.25]],\"hovertemplate\":\"gc=%{customdata[0]}\\u003cbr\\u003esumusd=%{y}\\u003cbr\\u003etax=%{customdata[1]}\\u003cextra\\u003e\\u003c\\u002fextra\\u003e\",\"legendgroup\":\"Electric product\",\"marker\":{\"color\":\"#d62728\",\"symbol\":\"circle\",\"opacity\":0.8},\"mode\":\"markers\",\"name\":\"Electric product\",\"orientation\":\"v\",\"showlegend\":true,\"x\":[2002,2003,2004,2005,2006,2007,2008,2009,2010,2011,2012,2013,2014,2015,2016],\"xaxis\":\"x\",\"y\":[2278256765,2205873377,2156281248,2122777088,2353170973,2240962683,2261796826,2108087627,2789515585,2974665365,3076432180,3099002775,3305728396,3221988696,3099130633],\"yaxis\":\"y\",\"type\":\"scatter\"},{\"customdata\":[[\"Medical Product\",94954762.5],[\"Medical Product\",121366277.5],[\"Medical Product\",148448008.75],[\"Medical Product\",188881680.0],[\"Medical Product\",166090723.75],[\"Medical Product\",190956010.0],[\"Medical Product\",233115550.0],[\"Medical Product\",262804727.5],[\"Medical Product\",321435735.0],[\"Medical Product\",403827200.0],[\"Medical Product\",502920100.0],[\"Medical Product\",554817416.25],[\"Medical Product\",681060008.75],[\"Medical Product\",709668470.0],[\"Medical Product\",756610773.75]],\"hovertemplate\":\"gc=%{customdata[0]}\\u003cbr\\u003esumusd=%{y}\\u003cbr\\u003etax=%{customdata[1]}\\u003cextra\\u003e\\u003c\\u002fextra\\u003e\",\"legendgroup\":\"Medical Product\",\"marker\":{\"color\":\"#9467bd\",\"symbol\":\"circle\",\"opacity\":0.8},\"mode\":\"markers\",\"name\":\"Medical Product\",\"orientation\":\"v\",\"showlegend\":true,\"x\":[2002,2003,2004,2005,2006,2007,2008,2009,2010,2011,2012,2013,2014,2015,2016],\"xaxis\":\"x\",\"y\":[75963810,97093022,118758407,151105344,132872579,152764808,186492440,210243782,257148588,323061760,402336080,443853933,544848007,567734776,605288619],\"yaxis\":\"y\",\"type\":\"scatter\"},{\"customdata\":[[\"Steel Product\",35940281.25],[\"Steel Product\",54137266.25],[\"Steel Product\",106642800.0],[\"Steel Product\",186394745.0],[\"Steel Product\",208118597.5],[\"Steel Product\",372967801.25],[\"Steel Product\",675445513.75],[\"Steel Product\",294872192.5],[\"Steel Product\",663148941.25],[\"Steel Product\",1145359540.0],[\"Steel Product\",886598617.5],[\"Steel Product\",887765513.75],[\"Steel Product\",608903516.25],[\"Steel Product\",301518643.75],[\"Steel Product\",340135917.5]],\"hovertemplate\":\"gc=%{customdata[0]}\\u003cbr\\u003esumusd=%{y}\\u003cbr\\u003etax=%{customdata[1]}\\u003cextra\\u003e\\u003c\\u002fextra\\u003e\",\"legendgroup\":\"Steel Product\",\"marker\":{\"color\":\"#8c564b\",\"symbol\":\"circle\",\"opacity\":0.8},\"mode\":\"markers\",\"name\":\"Steel Product\",\"orientation\":\"v\",\"showlegend\":true,\"x\":[2002,2003,2004,2005,2006,2007,2008,2009,2010,2011,2012,2013,2014,2015,2016],\"xaxis\":\"x\",\"y\":[28752225,43309813,85314240,149115796,166494878,298374241,540356411,235897754,530519153,916287632,709278894,710212411,487122813,241214915,272108734],\"yaxis\":\"y\",\"type\":\"scatter\"},{\"customdata\":[[\"aircraft product\",4916954722.5],[\"aircraft product\",6590170250.0],[\"aircraft product\",7159561487.5],[\"aircraft product\",9440346667.5],[\"aircraft product\",14638595913.75],[\"aircraft product\",14419079297.5],[\"aircraft product\",13358712960.0],[\"aircraft product\",14045453373.75],[\"aircraft product\",16237305546.25],[\"aircraft product\",19450429762.5],[\"aircraft product\",24857556170.0],[\"aircraft product\",32126448768.75],[\"aircraft product\",37612869848.75],[\"aircraft product\",34277234728.75],[\"aircraft product\",30339747695.0]],\"hovertemplate\":\"gc=%{customdata[0]}\\u003cbr\\u003esumusd=%{y}\\u003cbr\\u003etax=%{customdata[1]}\\u003cextra\\u003e\\u003c\\u002fextra\\u003e\",\"legendgroup\":\"aircraft product\",\"marker\":{\"color\":\"#1f77b4\",\"symbol\":\"circle\",\"opacity\":0.8},\"mode\":\"markers\",\"name\":\"aircraft product\",\"orientation\":\"v\",\"showlegend\":true,\"x\":[2002,2003,2004,2005,2006,2007,2008,2009,2010,2011,2012,2013,2014,2015,2016],\"xaxis\":\"x\",\"y\":[3933563778,5272136200,5727649190,7552277334,11710876731,11535263438,10686970368,11236362699,12989844437,15560343810,19886044936,25701159015,30090295879,27421787783,24271798156],\"yaxis\":\"y\",\"type\":\"scatter\"},{\"customdata\":[[\"animal product\",1088974890.0],[\"animal product\",1226575853.75],[\"animal product\",1385114447.5],[\"animal product\",1293863838.75],[\"animal product\",1341194522.5],[\"animal product\",2090790470.0],[\"animal product\",4127400360.0],[\"animal product\",3284246495.0],[\"animal product\",3914785027.5],[\"animal product\",5929095193.75],[\"animal product\",6100386603.75],[\"animal product\",6455260397.5],[\"animal product\",6679323490.0],[\"animal product\",6436295407.5],[\"animal product\",10338151375.0]],\"hovertemplate\":\"gc=%{customdata[0]}\\u003cbr\\u003esumusd=%{y}\\u003cbr\\u003etax=%{customdata[1]}\\u003cextra\\u003e\\u003c\\u002fextra\\u003e\",\"legendgroup\":\"animal product\",\"marker\":{\"color\":\"#ff7f0e\",\"symbol\":\"circle\",\"opacity\":0.8},\"mode\":\"markers\",\"name\":\"animal product\",\"orientation\":\"v\",\"showlegend\":true,\"x\":[2002,2003,2004,2005,2006,2007,2008,2009,2010,2011,2012,2013,2014,2015,2016],\"xaxis\":\"x\",\"y\":[871179912,981260683,1108091558,1035091071,1072955618,1672632376,3301920288,2627397196,3131828022,4743276155,4880309283,5164208318,5343458792,5149036326,8270521100],\"yaxis\":\"y\",\"type\":\"scatter\"}],                        {\"template\":{\"data\":{\"histogram2dcontour\":[{\"type\":\"histogram2dcontour\",\"colorbar\":{\"outlinewidth\":0,\"ticks\":\"\"},\"colorscale\":[[0.0,\"#0d0887\"],[0.1111111111111111,\"#46039f\"],[0.2222222222222222,\"#7201a8\"],[0.3333333333333333,\"#9c179e\"],[0.4444444444444444,\"#bd3786\"],[0.5555555555555556,\"#d8576b\"],[0.6666666666666666,\"#ed7953\"],[0.7777777777777778,\"#fb9f3a\"],[0.8888888888888888,\"#fdca26\"],[1.0,\"#f0f921\"]]}],\"choropleth\":[{\"type\":\"choropleth\",\"colorbar\":{\"outlinewidth\":0,\"ticks\":\"\"}}],\"histogram2d\":[{\"type\":\"histogram2d\",\"colorbar\":{\"outlinewidth\":0,\"ticks\":\"\"},\"colorscale\":[[0.0,\"#0d0887\"],[0.1111111111111111,\"#46039f\"],[0.2222222222222222,\"#7201a8\"],[0.3333333333333333,\"#9c179e\"],[0.4444444444444444,\"#bd3786\"],[0.5555555555555556,\"#d8576b\"],[0.6666666666666666,\"#ed7953\"],[0.7777777777777778,\"#fb9f3a\"],[0.8888888888888888,\"#fdca26\"],[1.0,\"#f0f921\"]]}],\"heatmap\":[{\"type\":\"heatmap\",\"colorbar\":{\"outlinewidth\":0,\"ticks\":\"\"},\"colorscale\":[[0.0,\"#0d0887\"],[0.1111111111111111,\"#46039f\"],[0.2222222222222222,\"#7201a8\"],[0.3333333333333333,\"#9c179e\"],[0.4444444444444444,\"#bd3786\"],[0.5555555555555556,\"#d8576b\"],[0.6666666666666666,\"#ed7953\"],[0.7777777777777778,\"#fb9f3a\"],[0.8888888888888888,\"#fdca26\"],[1.0,\"#f0f921\"]]}],\"heatmapgl\":[{\"type\":\"heatmapgl\",\"colorbar\":{\"outlinewidth\":0,\"ticks\":\"\"},\"colorscale\":[[0.0,\"#0d0887\"],[0.1111111111111111,\"#46039f\"],[0.2222222222222222,\"#7201a8\"],[0.3333333333333333,\"#9c179e\"],[0.4444444444444444,\"#bd3786\"],[0.5555555555555556,\"#d8576b\"],[0.6666666666666666,\"#ed7953\"],[0.7777777777777778,\"#fb9f3a\"],[0.8888888888888888,\"#fdca26\"],[1.0,\"#f0f921\"]]}],\"contourcarpet\":[{\"type\":\"contourcarpet\",\"colorbar\":{\"outlinewidth\":0,\"ticks\":\"\"}}],\"contour\":[{\"type\":\"contour\",\"colorbar\":{\"outlinewidth\":0,\"ticks\":\"\"},\"colorscale\":[[0.0,\"#0d0887\"],[0.1111111111111111,\"#46039f\"],[0.2222222222222222,\"#7201a8\"],[0.3333333333333333,\"#9c179e\"],[0.4444444444444444,\"#bd3786\"],[0.5555555555555556,\"#d8576b\"],[0.6666666666666666,\"#ed7953\"],[0.7777777777777778,\"#fb9f3a\"],[0.8888888888888888,\"#fdca26\"],[1.0,\"#f0f921\"]]}],\"surface\":[{\"type\":\"surface\",\"colorbar\":{\"outlinewidth\":0,\"ticks\":\"\"},\"colorscale\":[[0.0,\"#0d0887\"],[0.1111111111111111,\"#46039f\"],[0.2222222222222222,\"#7201a8\"],[0.3333333333333333,\"#9c179e\"],[0.4444444444444444,\"#bd3786\"],[0.5555555555555556,\"#d8576b\"],[0.6666666666666666,\"#ed7953\"],[0.7777777777777778,\"#fb9f3a\"],[0.8888888888888888,\"#fdca26\"],[1.0,\"#f0f921\"]]}],\"mesh3d\":[{\"type\":\"mesh3d\",\"colorbar\":{\"outlinewidth\":0,\"ticks\":\"\"}}],\"scatter\":[{\"fillpattern\":{\"fillmode\":\"overlay\",\"size\":10,\"solidity\":0.2},\"type\":\"scatter\"}],\"parcoords\":[{\"type\":\"parcoords\",\"line\":{\"colorbar\":{\"outlinewidth\":0,\"ticks\":\"\"}}}],\"scatterpolargl\":[{\"type\":\"scatterpolargl\",\"marker\":{\"colorbar\":{\"outlinewidth\":0,\"ticks\":\"\"}}}],\"bar\":[{\"error_x\":{\"color\":\"#2a3f5f\"},\"error_y\":{\"color\":\"#2a3f5f\"},\"marker\":{\"line\":{\"color\":\"#E5ECF6\",\"width\":0.5},\"pattern\":{\"fillmode\":\"overlay\",\"size\":10,\"solidity\":0.2}},\"type\":\"bar\"}],\"scattergeo\":[{\"type\":\"scattergeo\",\"marker\":{\"colorbar\":{\"outlinewidth\":0,\"ticks\":\"\"}}}],\"scatterpolar\":[{\"type\":\"scatterpolar\",\"marker\":{\"colorbar\":{\"outlinewidth\":0,\"ticks\":\"\"}}}],\"histogram\":[{\"marker\":{\"pattern\":{\"fillmode\":\"overlay\",\"size\":10,\"solidity\":0.2}},\"type\":\"histogram\"}],\"scattergl\":[{\"type\":\"scattergl\",\"marker\":{\"colorbar\":{\"outlinewidth\":0,\"ticks\":\"\"}}}],\"scatter3d\":[{\"type\":\"scatter3d\",\"line\":{\"colorbar\":{\"outlinewidth\":0,\"ticks\":\"\"}},\"marker\":{\"colorbar\":{\"outlinewidth\":0,\"ticks\":\"\"}}}],\"scattermapbox\":[{\"type\":\"scattermapbox\",\"marker\":{\"colorbar\":{\"outlinewidth\":0,\"ticks\":\"\"}}}],\"scatterternary\":[{\"type\":\"scatterternary\",\"marker\":{\"colorbar\":{\"outlinewidth\":0,\"ticks\":\"\"}}}],\"scattercarpet\":[{\"type\":\"scattercarpet\",\"marker\":{\"colorbar\":{\"outlinewidth\":0,\"ticks\":\"\"}}}],\"carpet\":[{\"aaxis\":{\"endlinecolor\":\"#2a3f5f\",\"gridcolor\":\"white\",\"linecolor\":\"white\",\"minorgridcolor\":\"white\",\"startlinecolor\":\"#2a3f5f\"},\"baxis\":{\"endlinecolor\":\"#2a3f5f\",\"gridcolor\":\"white\",\"linecolor\":\"white\",\"minorgridcolor\":\"white\",\"startlinecolor\":\"#2a3f5f\"},\"type\":\"carpet\"}],\"table\":[{\"cells\":{\"fill\":{\"color\":\"#EBF0F8\"},\"line\":{\"color\":\"white\"}},\"header\":{\"fill\":{\"color\":\"#C8D4E3\"},\"line\":{\"color\":\"white\"}},\"type\":\"table\"}],\"barpolar\":[{\"marker\":{\"line\":{\"color\":\"#E5ECF6\",\"width\":0.5},\"pattern\":{\"fillmode\":\"overlay\",\"size\":10,\"solidity\":0.2}},\"type\":\"barpolar\"}],\"pie\":[{\"automargin\":true,\"type\":\"pie\"}]},\"layout\":{\"autotypenumbers\":\"strict\",\"colorway\":[\"#636efa\",\"#EF553B\",\"#00cc96\",\"#ab63fa\",\"#FFA15A\",\"#19d3f3\",\"#FF6692\",\"#B6E880\",\"#FF97FF\",\"#FECB52\"],\"font\":{\"color\":\"#2a3f5f\"},\"hovermode\":\"closest\",\"hoverlabel\":{\"align\":\"left\"},\"paper_bgcolor\":\"white\",\"plot_bgcolor\":\"#E5ECF6\",\"polar\":{\"bgcolor\":\"#E5ECF6\",\"angularaxis\":{\"gridcolor\":\"white\",\"linecolor\":\"white\",\"ticks\":\"\"},\"radialaxis\":{\"gridcolor\":\"white\",\"linecolor\":\"white\",\"ticks\":\"\"}},\"ternary\":{\"bgcolor\":\"#E5ECF6\",\"aaxis\":{\"gridcolor\":\"white\",\"linecolor\":\"white\",\"ticks\":\"\"},\"baxis\":{\"gridcolor\":\"white\",\"linecolor\":\"white\",\"ticks\":\"\"},\"caxis\":{\"gridcolor\":\"white\",\"linecolor\":\"white\",\"ticks\":\"\"}},\"coloraxis\":{\"colorbar\":{\"outlinewidth\":0,\"ticks\":\"\"}},\"colorscale\":{\"sequential\":[[0.0,\"#0d0887\"],[0.1111111111111111,\"#46039f\"],[0.2222222222222222,\"#7201a8\"],[0.3333333333333333,\"#9c179e\"],[0.4444444444444444,\"#bd3786\"],[0.5555555555555556,\"#d8576b\"],[0.6666666666666666,\"#ed7953\"],[0.7777777777777778,\"#fb9f3a\"],[0.8888888888888888,\"#fdca26\"],[1.0,\"#f0f921\"]],\"sequentialminus\":[[0.0,\"#0d0887\"],[0.1111111111111111,\"#46039f\"],[0.2222222222222222,\"#7201a8\"],[0.3333333333333333,\"#9c179e\"],[0.4444444444444444,\"#bd3786\"],[0.5555555555555556,\"#d8576b\"],[0.6666666666666666,\"#ed7953\"],[0.7777777777777778,\"#fb9f3a\"],[0.8888888888888888,\"#fdca26\"],[1.0,\"#f0f921\"]],\"diverging\":[[0,\"#8e0152\"],[0.1,\"#c51b7d\"],[0.2,\"#de77ae\"],[0.3,\"#f1b6da\"],[0.4,\"#fde0ef\"],[0.5,\"#f7f7f7\"],[0.6,\"#e6f5d0\"],[0.7,\"#b8e186\"],[0.8,\"#7fbc41\"],[0.9,\"#4d9221\"],[1,\"#276419\"]]},\"xaxis\":{\"gridcolor\":\"white\",\"linecolor\":\"white\",\"ticks\":\"\",\"title\":{\"standoff\":15},\"zerolinecolor\":\"white\",\"automargin\":true,\"zerolinewidth\":2},\"yaxis\":{\"gridcolor\":\"white\",\"linecolor\":\"white\",\"ticks\":\"\",\"title\":{\"standoff\":15},\"zerolinecolor\":\"white\",\"automargin\":true,\"zerolinewidth\":2},\"scene\":{\"xaxis\":{\"backgroundcolor\":\"#E5ECF6\",\"gridcolor\":\"white\",\"linecolor\":\"white\",\"showbackground\":true,\"ticks\":\"\",\"zerolinecolor\":\"white\",\"gridwidth\":2},\"yaxis\":{\"backgroundcolor\":\"#E5ECF6\",\"gridcolor\":\"white\",\"linecolor\":\"white\",\"showbackground\":true,\"ticks\":\"\",\"zerolinecolor\":\"white\",\"gridwidth\":2},\"zaxis\":{\"backgroundcolor\":\"#E5ECF6\",\"gridcolor\":\"white\",\"linecolor\":\"white\",\"showbackground\":true,\"ticks\":\"\",\"zerolinecolor\":\"white\",\"gridwidth\":2}},\"shapedefaults\":{\"line\":{\"color\":\"#2a3f5f\"}},\"annotationdefaults\":{\"arrowcolor\":\"#2a3f5f\",\"arrowhead\":0,\"arrowwidth\":1},\"geo\":{\"bgcolor\":\"white\",\"landcolor\":\"#E5ECF6\",\"subunitcolor\":\"white\",\"showland\":true,\"showlakes\":true,\"lakecolor\":\"white\"},\"title\":{\"x\":0.05},\"mapbox\":{\"style\":\"light\"}}},\"xaxis\":{\"anchor\":\"y\",\"domain\":[0.0,1.0],\"title\":{\"text\":\"year\"}},\"yaxis\":{\"anchor\":\"x\",\"domain\":[0.0,1.0],\"title\":{\"text\":\"sumusd\"}},\"legend\":{\"title\":{\"text\":\"gc\"},\"tracegroupgap\":0},\"title\":{\"text\":\"Nilai Impor China per Tahun\"}},                        {\"responsive\": true}                    ).then(function(){\n",
              "                            \n",
              "var gd = document.getElementById('18ab48c6-a0db-4711-a6be-ac67f0cd108b');\n",
              "var x = new MutationObserver(function (mutations, observer) {{\n",
              "        var display = window.getComputedStyle(gd).display;\n",
              "        if (!display || display === 'none') {{\n",
              "            console.log([gd, 'removed!']);\n",
              "            Plotly.purge(gd);\n",
              "            observer.disconnect();\n",
              "        }}\n",
              "}});\n",
              "\n",
              "// Listen for the removal of the full notebook cells\n",
              "var notebookContainer = gd.closest('#notebook-container');\n",
              "if (notebookContainer) {{\n",
              "    x.observe(notebookContainer, {childList: true});\n",
              "}}\n",
              "\n",
              "// Listen for the clearing of the current output cell\n",
              "var outputEl = gd.closest('.output');\n",
              "if (outputEl) {{\n",
              "    x.observe(outputEl, {childList: true});\n",
              "}}\n",
              "\n",
              "                        })                };                            </script>        </div>\n",
              "</body>\n",
              "</html>"
            ]
          },
          "metadata": {},
          "output_type": "display_data"
        }
      ],
      "source": [
        "# Filter data untuk impor dari USA\n",
        "warusaexc = war[(war['country'] == \"china\") & (war['flow'] == \"Import\")]\n",
        "warusaexc1 = warusaimc.groupby(['gc', 'year']).agg(sumusd=('trade_usd', 'sum'), tax=('trade_usd', lambda x: x.sum() * 1.25)).reset_index()\n",
        "\n",
        "\n",
        "color_sequence = ['#1f77b4', '#ff7f0e', '#2ca02c', '#d62728', '#9467bd', '#8c564b']\n",
        "\n",
        "# Plot menggunakan Plotly Express dengan urutan warna yang telah didefinisikan\n",
        "fig = px.scatter(warusaexc1, x='year', y='sumusd', color='gc',\n",
        "                 title='Nilai Impor China per Tahun',\n",
        "                 hover_data={'gc': True, 'year': False, 'sumusd': True, 'tax': True},\n",
        "                 color_discrete_sequence=color_sequence)\n",
        "\n",
        "fig.update_traces(marker=dict(opacity=0.8))\n",
        "\n",
        "fig.show()"
      ]
    },
    {
      "cell_type": "markdown",
      "metadata": {
        "id": "uXqMcxbXyvr4"
      },
      "source": [
        "## Dampak Kebijakan Tarif"
      ]
    },
    {
      "cell_type": "code",
      "execution_count": null,
      "metadata": {
        "colab": {
          "base_uri": "https://localhost:8080/",
          "height": 542
        },
        "id": "aAxASoYay3Yr",
        "outputId": "e75daf0c-c0d0-4b41-8d40-0ace3883a9de"
      },
      "outputs": [
        {
          "data": {
            "text/html": [
              "<html>\n",
              "<head><meta charset=\"utf-8\" /></head>\n",
              "<body>\n",
              "    <div>            <script src=\"https://cdnjs.cloudflare.com/ajax/libs/mathjax/2.7.5/MathJax.js?config=TeX-AMS-MML_SVG\"></script><script type=\"text/javascript\">if (window.MathJax && window.MathJax.Hub && window.MathJax.Hub.Config) {window.MathJax.Hub.Config({SVG: {font: \"STIX-Web\"}});}</script>                <script type=\"text/javascript\">window.PlotlyConfig = {MathJaxConfig: 'local'};</script>\n",
              "        <script charset=\"utf-8\" src=\"https://cdn.plot.ly/plotly-2.24.1.min.js\"></script>                <div id=\"73db94fd-b465-4926-9346-ae45dc28b1fe\" class=\"plotly-graph-div\" style=\"height:525px; width:100%;\"></div>            <script type=\"text/javascript\">                                    window.PLOTLYENV=window.PLOTLYENV || {};                                    if (document.getElementById(\"73db94fd-b465-4926-9346-ae45dc28b1fe\")) {                    Plotly.newPlot(                        \"73db94fd-b465-4926-9346-ae45dc28b1fe\",                        [{\"hovertemplate\":\"\\u003cb\\u003e%{hovertext}\\u003c\\u002fb\\u003e\\u003cbr\\u003e\\u003cbr\\u003evariable=allepct\\u003cbr\\u003eTahun=%{x}\\u003cbr\\u003eProporsi (%)=%{y}\\u003cextra\\u003e\\u003c\\u002fextra\\u003e\",\"hovertext\":[2002.0,2003.0,2004.0,2005.0,2006.0,2007.0,2008.0,2009.0,2010.0,2011.0,2012.0,2013.0,2014.0,2015.0,2016.0],\"legendgroup\":\"allepct\",\"line\":{\"color\":\"#636efa\",\"dash\":\"solid\"},\"marker\":{\"symbol\":\"circle\"},\"mode\":\"lines\",\"name\":\"allepct\",\"orientation\":\"v\",\"showlegend\":true,\"x\":[2002,2003,2004,2005,2006,2007,2008,2009,2010,2011,2012,2013,2014,2015,2016],\"xaxis\":\"x\",\"y\":[4.0408243499385055,3.9987200172191177,3.945151915731154,3.9092930995080586,3.832854865955643,3.870261359381483,3.699550458022914,3.9935581894283967,3.8831590807469576,3.748654991695992,3.8731532504307973,3.9378990001195238,4.05285820116014,4.407767023946216,4.345027016633871],\"yaxis\":\"y\",\"type\":\"scatter\"},{\"hovertemplate\":\"\\u003cb\\u003e%{hovertext}\\u003c\\u002fb\\u003e\\u003cbr\\u003e\\u003cbr\\u003evariable=allipct\\u003cbr\\u003eTahun=%{x}\\u003cbr\\u003eProporsi (%)=%{y}\\u003cextra\\u003e\\u003c\\u002fextra\\u003e\",\"hovertext\":[2002.0,2003.0,2004.0,2005.0,2006.0,2007.0,2008.0,2009.0,2010.0,2011.0,2012.0,2013.0,2014.0,2015.0,2016.0],\"legendgroup\":\"allipct\",\"line\":{\"color\":\"#EF553B\",\"dash\":\"solid\"},\"marker\":{\"symbol\":\"circle\"},\"mode\":\"lines\",\"name\":\"allipct\",\"orientation\":\"v\",\"showlegend\":true,\"x\":[2002,2003,2004,2005,2006,2007,2008,2009,2010,2011,2012,2013,2014,2015,2016],\"xaxis\":\"x\",\"y\":[4.835872873142203,4.555181041540191,4.497090491322286,4.46737876763416,4.432852994904166,4.3377491028868755,4.070782512866032,3.865717819404652,3.6822997659094536,3.621533312359323,3.6905431150008203,3.7771757237028996,3.8356642671073473,4.337429213372012,4.138511384602989],\"yaxis\":\"y\",\"type\":\"scatter\"}],                        {\"template\":{\"data\":{\"histogram2dcontour\":[{\"type\":\"histogram2dcontour\",\"colorbar\":{\"outlinewidth\":0,\"ticks\":\"\"},\"colorscale\":[[0.0,\"#0d0887\"],[0.1111111111111111,\"#46039f\"],[0.2222222222222222,\"#7201a8\"],[0.3333333333333333,\"#9c179e\"],[0.4444444444444444,\"#bd3786\"],[0.5555555555555556,\"#d8576b\"],[0.6666666666666666,\"#ed7953\"],[0.7777777777777778,\"#fb9f3a\"],[0.8888888888888888,\"#fdca26\"],[1.0,\"#f0f921\"]]}],\"choropleth\":[{\"type\":\"choropleth\",\"colorbar\":{\"outlinewidth\":0,\"ticks\":\"\"}}],\"histogram2d\":[{\"type\":\"histogram2d\",\"colorbar\":{\"outlinewidth\":0,\"ticks\":\"\"},\"colorscale\":[[0.0,\"#0d0887\"],[0.1111111111111111,\"#46039f\"],[0.2222222222222222,\"#7201a8\"],[0.3333333333333333,\"#9c179e\"],[0.4444444444444444,\"#bd3786\"],[0.5555555555555556,\"#d8576b\"],[0.6666666666666666,\"#ed7953\"],[0.7777777777777778,\"#fb9f3a\"],[0.8888888888888888,\"#fdca26\"],[1.0,\"#f0f921\"]]}],\"heatmap\":[{\"type\":\"heatmap\",\"colorbar\":{\"outlinewidth\":0,\"ticks\":\"\"},\"colorscale\":[[0.0,\"#0d0887\"],[0.1111111111111111,\"#46039f\"],[0.2222222222222222,\"#7201a8\"],[0.3333333333333333,\"#9c179e\"],[0.4444444444444444,\"#bd3786\"],[0.5555555555555556,\"#d8576b\"],[0.6666666666666666,\"#ed7953\"],[0.7777777777777778,\"#fb9f3a\"],[0.8888888888888888,\"#fdca26\"],[1.0,\"#f0f921\"]]}],\"heatmapgl\":[{\"type\":\"heatmapgl\",\"colorbar\":{\"outlinewidth\":0,\"ticks\":\"\"},\"colorscale\":[[0.0,\"#0d0887\"],[0.1111111111111111,\"#46039f\"],[0.2222222222222222,\"#7201a8\"],[0.3333333333333333,\"#9c179e\"],[0.4444444444444444,\"#bd3786\"],[0.5555555555555556,\"#d8576b\"],[0.6666666666666666,\"#ed7953\"],[0.7777777777777778,\"#fb9f3a\"],[0.8888888888888888,\"#fdca26\"],[1.0,\"#f0f921\"]]}],\"contourcarpet\":[{\"type\":\"contourcarpet\",\"colorbar\":{\"outlinewidth\":0,\"ticks\":\"\"}}],\"contour\":[{\"type\":\"contour\",\"colorbar\":{\"outlinewidth\":0,\"ticks\":\"\"},\"colorscale\":[[0.0,\"#0d0887\"],[0.1111111111111111,\"#46039f\"],[0.2222222222222222,\"#7201a8\"],[0.3333333333333333,\"#9c179e\"],[0.4444444444444444,\"#bd3786\"],[0.5555555555555556,\"#d8576b\"],[0.6666666666666666,\"#ed7953\"],[0.7777777777777778,\"#fb9f3a\"],[0.8888888888888888,\"#fdca26\"],[1.0,\"#f0f921\"]]}],\"surface\":[{\"type\":\"surface\",\"colorbar\":{\"outlinewidth\":0,\"ticks\":\"\"},\"colorscale\":[[0.0,\"#0d0887\"],[0.1111111111111111,\"#46039f\"],[0.2222222222222222,\"#7201a8\"],[0.3333333333333333,\"#9c179e\"],[0.4444444444444444,\"#bd3786\"],[0.5555555555555556,\"#d8576b\"],[0.6666666666666666,\"#ed7953\"],[0.7777777777777778,\"#fb9f3a\"],[0.8888888888888888,\"#fdca26\"],[1.0,\"#f0f921\"]]}],\"mesh3d\":[{\"type\":\"mesh3d\",\"colorbar\":{\"outlinewidth\":0,\"ticks\":\"\"}}],\"scatter\":[{\"fillpattern\":{\"fillmode\":\"overlay\",\"size\":10,\"solidity\":0.2},\"type\":\"scatter\"}],\"parcoords\":[{\"type\":\"parcoords\",\"line\":{\"colorbar\":{\"outlinewidth\":0,\"ticks\":\"\"}}}],\"scatterpolargl\":[{\"type\":\"scatterpolargl\",\"marker\":{\"colorbar\":{\"outlinewidth\":0,\"ticks\":\"\"}}}],\"bar\":[{\"error_x\":{\"color\":\"#2a3f5f\"},\"error_y\":{\"color\":\"#2a3f5f\"},\"marker\":{\"line\":{\"color\":\"#E5ECF6\",\"width\":0.5},\"pattern\":{\"fillmode\":\"overlay\",\"size\":10,\"solidity\":0.2}},\"type\":\"bar\"}],\"scattergeo\":[{\"type\":\"scattergeo\",\"marker\":{\"colorbar\":{\"outlinewidth\":0,\"ticks\":\"\"}}}],\"scatterpolar\":[{\"type\":\"scatterpolar\",\"marker\":{\"colorbar\":{\"outlinewidth\":0,\"ticks\":\"\"}}}],\"histogram\":[{\"marker\":{\"pattern\":{\"fillmode\":\"overlay\",\"size\":10,\"solidity\":0.2}},\"type\":\"histogram\"}],\"scattergl\":[{\"type\":\"scattergl\",\"marker\":{\"colorbar\":{\"outlinewidth\":0,\"ticks\":\"\"}}}],\"scatter3d\":[{\"type\":\"scatter3d\",\"line\":{\"colorbar\":{\"outlinewidth\":0,\"ticks\":\"\"}},\"marker\":{\"colorbar\":{\"outlinewidth\":0,\"ticks\":\"\"}}}],\"scattermapbox\":[{\"type\":\"scattermapbox\",\"marker\":{\"colorbar\":{\"outlinewidth\":0,\"ticks\":\"\"}}}],\"scatterternary\":[{\"type\":\"scatterternary\",\"marker\":{\"colorbar\":{\"outlinewidth\":0,\"ticks\":\"\"}}}],\"scattercarpet\":[{\"type\":\"scattercarpet\",\"marker\":{\"colorbar\":{\"outlinewidth\":0,\"ticks\":\"\"}}}],\"carpet\":[{\"aaxis\":{\"endlinecolor\":\"#2a3f5f\",\"gridcolor\":\"white\",\"linecolor\":\"white\",\"minorgridcolor\":\"white\",\"startlinecolor\":\"#2a3f5f\"},\"baxis\":{\"endlinecolor\":\"#2a3f5f\",\"gridcolor\":\"white\",\"linecolor\":\"white\",\"minorgridcolor\":\"white\",\"startlinecolor\":\"#2a3f5f\"},\"type\":\"carpet\"}],\"table\":[{\"cells\":{\"fill\":{\"color\":\"#EBF0F8\"},\"line\":{\"color\":\"white\"}},\"header\":{\"fill\":{\"color\":\"#C8D4E3\"},\"line\":{\"color\":\"white\"}},\"type\":\"table\"}],\"barpolar\":[{\"marker\":{\"line\":{\"color\":\"#E5ECF6\",\"width\":0.5},\"pattern\":{\"fillmode\":\"overlay\",\"size\":10,\"solidity\":0.2}},\"type\":\"barpolar\"}],\"pie\":[{\"automargin\":true,\"type\":\"pie\"}]},\"layout\":{\"autotypenumbers\":\"strict\",\"colorway\":[\"#636efa\",\"#EF553B\",\"#00cc96\",\"#ab63fa\",\"#FFA15A\",\"#19d3f3\",\"#FF6692\",\"#B6E880\",\"#FF97FF\",\"#FECB52\"],\"font\":{\"color\":\"#2a3f5f\"},\"hovermode\":\"closest\",\"hoverlabel\":{\"align\":\"left\"},\"paper_bgcolor\":\"white\",\"plot_bgcolor\":\"#E5ECF6\",\"polar\":{\"bgcolor\":\"#E5ECF6\",\"angularaxis\":{\"gridcolor\":\"white\",\"linecolor\":\"white\",\"ticks\":\"\"},\"radialaxis\":{\"gridcolor\":\"white\",\"linecolor\":\"white\",\"ticks\":\"\"}},\"ternary\":{\"bgcolor\":\"#E5ECF6\",\"aaxis\":{\"gridcolor\":\"white\",\"linecolor\":\"white\",\"ticks\":\"\"},\"baxis\":{\"gridcolor\":\"white\",\"linecolor\":\"white\",\"ticks\":\"\"},\"caxis\":{\"gridcolor\":\"white\",\"linecolor\":\"white\",\"ticks\":\"\"}},\"coloraxis\":{\"colorbar\":{\"outlinewidth\":0,\"ticks\":\"\"}},\"colorscale\":{\"sequential\":[[0.0,\"#0d0887\"],[0.1111111111111111,\"#46039f\"],[0.2222222222222222,\"#7201a8\"],[0.3333333333333333,\"#9c179e\"],[0.4444444444444444,\"#bd3786\"],[0.5555555555555556,\"#d8576b\"],[0.6666666666666666,\"#ed7953\"],[0.7777777777777778,\"#fb9f3a\"],[0.8888888888888888,\"#fdca26\"],[1.0,\"#f0f921\"]],\"sequentialminus\":[[0.0,\"#0d0887\"],[0.1111111111111111,\"#46039f\"],[0.2222222222222222,\"#7201a8\"],[0.3333333333333333,\"#9c179e\"],[0.4444444444444444,\"#bd3786\"],[0.5555555555555556,\"#d8576b\"],[0.6666666666666666,\"#ed7953\"],[0.7777777777777778,\"#fb9f3a\"],[0.8888888888888888,\"#fdca26\"],[1.0,\"#f0f921\"]],\"diverging\":[[0,\"#8e0152\"],[0.1,\"#c51b7d\"],[0.2,\"#de77ae\"],[0.3,\"#f1b6da\"],[0.4,\"#fde0ef\"],[0.5,\"#f7f7f7\"],[0.6,\"#e6f5d0\"],[0.7,\"#b8e186\"],[0.8,\"#7fbc41\"],[0.9,\"#4d9221\"],[1,\"#276419\"]]},\"xaxis\":{\"gridcolor\":\"white\",\"linecolor\":\"white\",\"ticks\":\"\",\"title\":{\"standoff\":15},\"zerolinecolor\":\"white\",\"automargin\":true,\"zerolinewidth\":2},\"yaxis\":{\"gridcolor\":\"white\",\"linecolor\":\"white\",\"ticks\":\"\",\"title\":{\"standoff\":15},\"zerolinecolor\":\"white\",\"automargin\":true,\"zerolinewidth\":2},\"scene\":{\"xaxis\":{\"backgroundcolor\":\"#E5ECF6\",\"gridcolor\":\"white\",\"linecolor\":\"white\",\"showbackground\":true,\"ticks\":\"\",\"zerolinecolor\":\"white\",\"gridwidth\":2},\"yaxis\":{\"backgroundcolor\":\"#E5ECF6\",\"gridcolor\":\"white\",\"linecolor\":\"white\",\"showbackground\":true,\"ticks\":\"\",\"zerolinecolor\":\"white\",\"gridwidth\":2},\"zaxis\":{\"backgroundcolor\":\"#E5ECF6\",\"gridcolor\":\"white\",\"linecolor\":\"white\",\"showbackground\":true,\"ticks\":\"\",\"zerolinecolor\":\"white\",\"gridwidth\":2}},\"shapedefaults\":{\"line\":{\"color\":\"#2a3f5f\"}},\"annotationdefaults\":{\"arrowcolor\":\"#2a3f5f\",\"arrowhead\":0,\"arrowwidth\":1},\"geo\":{\"bgcolor\":\"white\",\"landcolor\":\"#E5ECF6\",\"subunitcolor\":\"white\",\"showland\":true,\"showlakes\":true,\"lakecolor\":\"white\"},\"title\":{\"x\":0.05},\"mapbox\":{\"style\":\"light\"}}},\"xaxis\":{\"anchor\":\"y\",\"domain\":[0.0,1.0],\"title\":{\"text\":\"Tahun\"}},\"yaxis\":{\"anchor\":\"x\",\"domain\":[0.0,1.0],\"title\":{\"text\":\"Proporsi (%)\"}},\"legend\":{\"title\":{\"text\":\"variable\"},\"tracegroupgap\":0},\"title\":{\"text\":\"Proporsi Barang Tarif dalam Ekspor dan Impor\"}},                        {\"responsive\": true}                    ).then(function(){\n",
              "                            \n",
              "var gd = document.getElementById('73db94fd-b465-4926-9346-ae45dc28b1fe');\n",
              "var x = new MutationObserver(function (mutations, observer) {{\n",
              "        var display = window.getComputedStyle(gd).display;\n",
              "        if (!display || display === 'none') {{\n",
              "            console.log([gd, 'removed!']);\n",
              "            Plotly.purge(gd);\n",
              "            observer.disconnect();\n",
              "        }}\n",
              "}});\n",
              "\n",
              "// Listen for the removal of the full notebook cells\n",
              "var notebookContainer = gd.closest('#notebook-container');\n",
              "if (notebookContainer) {{\n",
              "    x.observe(notebookContainer, {childList: true});\n",
              "}}\n",
              "\n",
              "// Listen for the clearing of the current output cell\n",
              "var outputEl = gd.closest('.output');\n",
              "if (outputEl) {{\n",
              "    x.observe(outputEl, {childList: true});\n",
              "}}\n",
              "\n",
              "                        })                };                            </script>        </div>\n",
              "</body>\n",
              "</html>"
            ]
          },
          "metadata": {},
          "output_type": "display_data"
        }
      ],
      "source": [
        "import plotly.express as px\n",
        "\n",
        "# Filter data untuk semua komoditas dengan impor atau ekspor setelah tahun 2001\n",
        "itrade = trade[(trade['category'] == \"all_commodities\") & (trade['year'] > 2001) & ((trade['flow'] == \"Import\") | (trade['flow'] == \"Export\"))]\n",
        "\n",
        "itrade1 = itrade.groupby(['flow', 'year']).agg(allusd=('trade_usd', 'sum'), tax=('trade_usd', lambda x: x.sum() * 1.25)).reset_index()\n",
        "\n",
        "aall['alle'] = pd.to_numeric(itrade1.iloc[0:15, 2].values)\n",
        "aall['alli'] = pd.to_numeric(itrade1.iloc[15:30, 2].values)\n",
        "\n",
        "aall['allepct'] = aall['sumusd'] * 100 / aall['alli']\n",
        "aall['allipct'] = aall['usd'] * 100 / aall['alle']\n",
        "\n",
        "fig = px.line(aall, x='year', y=['allepct', 'allipct'],\n",
        "              title='Proporsi Barang Tarif dalam Ekspor dan Impor',\n",
        "              labels={'value': 'Proporsi (%)', 'year': 'Tahun'},\n",
        "              hover_name='year')\n",
        "\n",
        "fig.show()\n"
      ]
    },
    {
      "cell_type": "markdown",
      "metadata": {
        "id": "p4ZtNOkptuSL"
      },
      "source": [
        "#**3. Pemodelan Data**"
      ]
    },
    {
      "cell_type": "markdown",
      "metadata": {
        "id": "4zXUCcqbN1ch"
      },
      "source": [
        "## 3.1 Feature Engineering"
      ]
    },
    {
      "cell_type": "code",
      "execution_count": null,
      "metadata": {
        "id": "7KnIB9ncOIMl"
      },
      "outputs": [],
      "source": [
        "df_clean = trade[~(trade['quantity']>=trade['quantity'].max())]"
      ]
    },
    {
      "cell_type": "code",
      "execution_count": null,
      "metadata": {
        "id": "oJO4u0mBOeoE"
      },
      "outputs": [],
      "source": [
        "from sklearn.preprocessing import LabelEncoder\n",
        "from sklearn.preprocessing import MinMaxScaler\n",
        "from sklearn.impute import SimpleImputer"
      ]
    },
    {
      "cell_type": "code",
      "execution_count": null,
      "metadata": {
        "colab": {
          "base_uri": "https://localhost:8080/",
          "height": 206
        },
        "id": "ACilzsnM4pJt",
        "outputId": "e0a227ed-cd53-403f-cf81-ec57a91089e8"
      },
      "outputs": [
        {
          "output_type": "execute_result",
          "data": {
            "text/plain": [
              "   index country_or_area  year comm_code  \\\n",
              "0   9771           China  2016     10111   \n",
              "1   9772           China  2016     10119   \n",
              "2   9773           China  2016     10119   \n",
              "3   9774           China  2016     10120   \n",
              "4   9775           China  2016     10210   \n",
              "\n",
              "                                 commodity    flow  trade_usd   weight_kg  \\\n",
              "0          Horses, live pure-bred breeding  Import    1264783     86450.0   \n",
              "1   Horses, live except pure-bred breeding  Export      40108      5250.0   \n",
              "2   Horses, live except pure-bred breeding  Import   26467597   2863836.0   \n",
              "3           Asses, mules and hinnies, live  Import     254970    320417.0   \n",
              "4  Bovine animals, live pure-bred breeding  Import  218557662  36935542.0   \n",
              "\n",
              "     quantity_name  quantity         category  \n",
              "0      No Quantity       NaN  01_live_animals  \n",
              "1      No Quantity       NaN  01_live_animals  \n",
              "2  Number of items    1732.0  01_live_animals  \n",
              "3      No Quantity       NaN  01_live_animals  \n",
              "4  Number of items  105860.0  01_live_animals  "
            ],
            "text/html": [
              "\n",
              "  <div id=\"df-ff9ff89f-52fe-4fe0-b588-be36b3c5e1ea\" class=\"colab-df-container\">\n",
              "    <div>\n",
              "<style scoped>\n",
              "    .dataframe tbody tr th:only-of-type {\n",
              "        vertical-align: middle;\n",
              "    }\n",
              "\n",
              "    .dataframe tbody tr th {\n",
              "        vertical-align: top;\n",
              "    }\n",
              "\n",
              "    .dataframe thead th {\n",
              "        text-align: right;\n",
              "    }\n",
              "</style>\n",
              "<table border=\"1\" class=\"dataframe\">\n",
              "  <thead>\n",
              "    <tr style=\"text-align: right;\">\n",
              "      <th></th>\n",
              "      <th>index</th>\n",
              "      <th>country_or_area</th>\n",
              "      <th>year</th>\n",
              "      <th>comm_code</th>\n",
              "      <th>commodity</th>\n",
              "      <th>flow</th>\n",
              "      <th>trade_usd</th>\n",
              "      <th>weight_kg</th>\n",
              "      <th>quantity_name</th>\n",
              "      <th>quantity</th>\n",
              "      <th>category</th>\n",
              "    </tr>\n",
              "  </thead>\n",
              "  <tbody>\n",
              "    <tr>\n",
              "      <th>0</th>\n",
              "      <td>9771</td>\n",
              "      <td>China</td>\n",
              "      <td>2016</td>\n",
              "      <td>10111</td>\n",
              "      <td>Horses, live pure-bred breeding</td>\n",
              "      <td>Import</td>\n",
              "      <td>1264783</td>\n",
              "      <td>86450.0</td>\n",
              "      <td>No Quantity</td>\n",
              "      <td>NaN</td>\n",
              "      <td>01_live_animals</td>\n",
              "    </tr>\n",
              "    <tr>\n",
              "      <th>1</th>\n",
              "      <td>9772</td>\n",
              "      <td>China</td>\n",
              "      <td>2016</td>\n",
              "      <td>10119</td>\n",
              "      <td>Horses, live except pure-bred breeding</td>\n",
              "      <td>Export</td>\n",
              "      <td>40108</td>\n",
              "      <td>5250.0</td>\n",
              "      <td>No Quantity</td>\n",
              "      <td>NaN</td>\n",
              "      <td>01_live_animals</td>\n",
              "    </tr>\n",
              "    <tr>\n",
              "      <th>2</th>\n",
              "      <td>9773</td>\n",
              "      <td>China</td>\n",
              "      <td>2016</td>\n",
              "      <td>10119</td>\n",
              "      <td>Horses, live except pure-bred breeding</td>\n",
              "      <td>Import</td>\n",
              "      <td>26467597</td>\n",
              "      <td>2863836.0</td>\n",
              "      <td>Number of items</td>\n",
              "      <td>1732.0</td>\n",
              "      <td>01_live_animals</td>\n",
              "    </tr>\n",
              "    <tr>\n",
              "      <th>3</th>\n",
              "      <td>9774</td>\n",
              "      <td>China</td>\n",
              "      <td>2016</td>\n",
              "      <td>10120</td>\n",
              "      <td>Asses, mules and hinnies, live</td>\n",
              "      <td>Import</td>\n",
              "      <td>254970</td>\n",
              "      <td>320417.0</td>\n",
              "      <td>No Quantity</td>\n",
              "      <td>NaN</td>\n",
              "      <td>01_live_animals</td>\n",
              "    </tr>\n",
              "    <tr>\n",
              "      <th>4</th>\n",
              "      <td>9775</td>\n",
              "      <td>China</td>\n",
              "      <td>2016</td>\n",
              "      <td>10210</td>\n",
              "      <td>Bovine animals, live pure-bred breeding</td>\n",
              "      <td>Import</td>\n",
              "      <td>218557662</td>\n",
              "      <td>36935542.0</td>\n",
              "      <td>Number of items</td>\n",
              "      <td>105860.0</td>\n",
              "      <td>01_live_animals</td>\n",
              "    </tr>\n",
              "  </tbody>\n",
              "</table>\n",
              "</div>\n",
              "    <div class=\"colab-df-buttons\">\n",
              "\n",
              "  <div class=\"colab-df-container\">\n",
              "    <button class=\"colab-df-convert\" onclick=\"convertToInteractive('df-ff9ff89f-52fe-4fe0-b588-be36b3c5e1ea')\"\n",
              "            title=\"Convert this dataframe to an interactive table.\"\n",
              "            style=\"display:none;\">\n",
              "\n",
              "  <svg xmlns=\"http://www.w3.org/2000/svg\" height=\"24px\" viewBox=\"0 -960 960 960\">\n",
              "    <path d=\"M120-120v-720h720v720H120Zm60-500h600v-160H180v160Zm220 220h160v-160H400v160Zm0 220h160v-160H400v160ZM180-400h160v-160H180v160Zm440 0h160v-160H620v160ZM180-180h160v-160H180v160Zm440 0h160v-160H620v160Z\"/>\n",
              "  </svg>\n",
              "    </button>\n",
              "\n",
              "  <style>\n",
              "    .colab-df-container {\n",
              "      display:flex;\n",
              "      gap: 12px;\n",
              "    }\n",
              "\n",
              "    .colab-df-convert {\n",
              "      background-color: #E8F0FE;\n",
              "      border: none;\n",
              "      border-radius: 50%;\n",
              "      cursor: pointer;\n",
              "      display: none;\n",
              "      fill: #1967D2;\n",
              "      height: 32px;\n",
              "      padding: 0 0 0 0;\n",
              "      width: 32px;\n",
              "    }\n",
              "\n",
              "    .colab-df-convert:hover {\n",
              "      background-color: #E2EBFA;\n",
              "      box-shadow: 0px 1px 2px rgba(60, 64, 67, 0.3), 0px 1px 3px 1px rgba(60, 64, 67, 0.15);\n",
              "      fill: #174EA6;\n",
              "    }\n",
              "\n",
              "    .colab-df-buttons div {\n",
              "      margin-bottom: 4px;\n",
              "    }\n",
              "\n",
              "    [theme=dark] .colab-df-convert {\n",
              "      background-color: #3B4455;\n",
              "      fill: #D2E3FC;\n",
              "    }\n",
              "\n",
              "    [theme=dark] .colab-df-convert:hover {\n",
              "      background-color: #434B5C;\n",
              "      box-shadow: 0px 1px 3px 1px rgba(0, 0, 0, 0.15);\n",
              "      filter: drop-shadow(0px 1px 2px rgba(0, 0, 0, 0.3));\n",
              "      fill: #FFFFFF;\n",
              "    }\n",
              "  </style>\n",
              "\n",
              "    <script>\n",
              "      const buttonEl =\n",
              "        document.querySelector('#df-ff9ff89f-52fe-4fe0-b588-be36b3c5e1ea button.colab-df-convert');\n",
              "      buttonEl.style.display =\n",
              "        google.colab.kernel.accessAllowed ? 'block' : 'none';\n",
              "\n",
              "      async function convertToInteractive(key) {\n",
              "        const element = document.querySelector('#df-ff9ff89f-52fe-4fe0-b588-be36b3c5e1ea');\n",
              "        const dataTable =\n",
              "          await google.colab.kernel.invokeFunction('convertToInteractive',\n",
              "                                                    [key], {});\n",
              "        if (!dataTable) return;\n",
              "\n",
              "        const docLinkHtml = 'Like what you see? Visit the ' +\n",
              "          '<a target=\"_blank\" href=https://colab.research.google.com/notebooks/data_table.ipynb>data table notebook</a>'\n",
              "          + ' to learn more about interactive tables.';\n",
              "        element.innerHTML = '';\n",
              "        dataTable['output_type'] = 'display_data';\n",
              "        await google.colab.output.renderOutput(dataTable, element);\n",
              "        const docLink = document.createElement('div');\n",
              "        docLink.innerHTML = docLinkHtml;\n",
              "        element.appendChild(docLink);\n",
              "      }\n",
              "    </script>\n",
              "  </div>\n",
              "\n",
              "\n",
              "<div id=\"df-8c179755-bff8-4034-9576-d172a5a84767\">\n",
              "  <button class=\"colab-df-quickchart\" onclick=\"quickchart('df-8c179755-bff8-4034-9576-d172a5a84767')\"\n",
              "            title=\"Suggest charts\"\n",
              "            style=\"display:none;\">\n",
              "\n",
              "<svg xmlns=\"http://www.w3.org/2000/svg\" height=\"24px\"viewBox=\"0 0 24 24\"\n",
              "     width=\"24px\">\n",
              "    <g>\n",
              "        <path d=\"M19 3H5c-1.1 0-2 .9-2 2v14c0 1.1.9 2 2 2h14c1.1 0 2-.9 2-2V5c0-1.1-.9-2-2-2zM9 17H7v-7h2v7zm4 0h-2V7h2v10zm4 0h-2v-4h2v4z\"/>\n",
              "    </g>\n",
              "</svg>\n",
              "  </button>\n",
              "\n",
              "<style>\n",
              "  .colab-df-quickchart {\n",
              "      --bg-color: #E8F0FE;\n",
              "      --fill-color: #1967D2;\n",
              "      --hover-bg-color: #E2EBFA;\n",
              "      --hover-fill-color: #174EA6;\n",
              "      --disabled-fill-color: #AAA;\n",
              "      --disabled-bg-color: #DDD;\n",
              "  }\n",
              "\n",
              "  [theme=dark] .colab-df-quickchart {\n",
              "      --bg-color: #3B4455;\n",
              "      --fill-color: #D2E3FC;\n",
              "      --hover-bg-color: #434B5C;\n",
              "      --hover-fill-color: #FFFFFF;\n",
              "      --disabled-bg-color: #3B4455;\n",
              "      --disabled-fill-color: #666;\n",
              "  }\n",
              "\n",
              "  .colab-df-quickchart {\n",
              "    background-color: var(--bg-color);\n",
              "    border: none;\n",
              "    border-radius: 50%;\n",
              "    cursor: pointer;\n",
              "    display: none;\n",
              "    fill: var(--fill-color);\n",
              "    height: 32px;\n",
              "    padding: 0;\n",
              "    width: 32px;\n",
              "  }\n",
              "\n",
              "  .colab-df-quickchart:hover {\n",
              "    background-color: var(--hover-bg-color);\n",
              "    box-shadow: 0 1px 2px rgba(60, 64, 67, 0.3), 0 1px 3px 1px rgba(60, 64, 67, 0.15);\n",
              "    fill: var(--button-hover-fill-color);\n",
              "  }\n",
              "\n",
              "  .colab-df-quickchart-complete:disabled,\n",
              "  .colab-df-quickchart-complete:disabled:hover {\n",
              "    background-color: var(--disabled-bg-color);\n",
              "    fill: var(--disabled-fill-color);\n",
              "    box-shadow: none;\n",
              "  }\n",
              "\n",
              "  .colab-df-spinner {\n",
              "    border: 2px solid var(--fill-color);\n",
              "    border-color: transparent;\n",
              "    border-bottom-color: var(--fill-color);\n",
              "    animation:\n",
              "      spin 1s steps(1) infinite;\n",
              "  }\n",
              "\n",
              "  @keyframes spin {\n",
              "    0% {\n",
              "      border-color: transparent;\n",
              "      border-bottom-color: var(--fill-color);\n",
              "      border-left-color: var(--fill-color);\n",
              "    }\n",
              "    20% {\n",
              "      border-color: transparent;\n",
              "      border-left-color: var(--fill-color);\n",
              "      border-top-color: var(--fill-color);\n",
              "    }\n",
              "    30% {\n",
              "      border-color: transparent;\n",
              "      border-left-color: var(--fill-color);\n",
              "      border-top-color: var(--fill-color);\n",
              "      border-right-color: var(--fill-color);\n",
              "    }\n",
              "    40% {\n",
              "      border-color: transparent;\n",
              "      border-right-color: var(--fill-color);\n",
              "      border-top-color: var(--fill-color);\n",
              "    }\n",
              "    60% {\n",
              "      border-color: transparent;\n",
              "      border-right-color: var(--fill-color);\n",
              "    }\n",
              "    80% {\n",
              "      border-color: transparent;\n",
              "      border-right-color: var(--fill-color);\n",
              "      border-bottom-color: var(--fill-color);\n",
              "    }\n",
              "    90% {\n",
              "      border-color: transparent;\n",
              "      border-bottom-color: var(--fill-color);\n",
              "    }\n",
              "  }\n",
              "</style>\n",
              "\n",
              "  <script>\n",
              "    async function quickchart(key) {\n",
              "      const quickchartButtonEl =\n",
              "        document.querySelector('#' + key + ' button');\n",
              "      quickchartButtonEl.disabled = true;  // To prevent multiple clicks.\n",
              "      quickchartButtonEl.classList.add('colab-df-spinner');\n",
              "      try {\n",
              "        const charts = await google.colab.kernel.invokeFunction(\n",
              "            'suggestCharts', [key], {});\n",
              "      } catch (error) {\n",
              "        console.error('Error during call to suggestCharts:', error);\n",
              "      }\n",
              "      quickchartButtonEl.classList.remove('colab-df-spinner');\n",
              "      quickchartButtonEl.classList.add('colab-df-quickchart-complete');\n",
              "    }\n",
              "    (() => {\n",
              "      let quickchartButtonEl =\n",
              "        document.querySelector('#df-8c179755-bff8-4034-9576-d172a5a84767 button');\n",
              "      quickchartButtonEl.style.display =\n",
              "        google.colab.kernel.accessAllowed ? 'block' : 'none';\n",
              "    })();\n",
              "  </script>\n",
              "</div>\n",
              "    </div>\n",
              "  </div>\n"
            ]
          },
          "metadata": {},
          "execution_count": 17
        }
      ],
      "source": [
        "# Daftar negara untuk dipotong\n",
        "countries_to_slice = ['China', 'USA', 'China, Hong Kong SAR']\n",
        "\n",
        "# Indeks boolean untuk menyaring baris berdasarkan kolom 'country_or_area'\n",
        "df_clean = df_clean[df_clean['country_or_area'].isin(countries_to_slice)].reset_index()\n",
        "\n",
        "# Menampilkan DataFrame yang telah dipotong\n",
        "df_clean.head()"
      ]
    },
    {
      "cell_type": "code",
      "execution_count": null,
      "metadata": {
        "colab": {
          "base_uri": "https://localhost:8080/"
        },
        "id": "9VpER9ldW6ax",
        "outputId": "390acaf4-0287-4e36-d49e-b34e56b23b53"
      },
      "outputs": [
        {
          "output_type": "execute_result",
          "data": {
            "text/plain": [
              "index              363729\n",
              "country_or_area         3\n",
              "year                   26\n",
              "comm_code            2864\n",
              "commodity            2850\n",
              "flow                    4\n",
              "trade_usd          315570\n",
              "weight_kg          242674\n",
              "quantity_name          12\n",
              "quantity           260355\n",
              "category               87\n",
              "dtype: int64"
            ]
          },
          "metadata": {},
          "execution_count": 18
        }
      ],
      "source": [
        "df_clean.nunique()"
      ]
    },
    {
      "cell_type": "code",
      "execution_count": null,
      "metadata": {
        "colab": {
          "base_uri": "https://localhost:8080/"
        },
        "id": "UIu82xpOXMVs",
        "outputId": "fb942442-6349-4ded-cd6f-58336e58ebb5"
      },
      "outputs": [
        {
          "output_type": "execute_result",
          "data": {
            "text/plain": [
              "(363729, 11)"
            ]
          },
          "metadata": {},
          "execution_count": 19
        }
      ],
      "source": [
        "df_clean.shape"
      ]
    },
    {
      "cell_type": "code",
      "execution_count": null,
      "metadata": {
        "colab": {
          "base_uri": "https://localhost:8080/",
          "height": 206
        },
        "id": "_nbGgHplN-SU",
        "outputId": "6837d27a-3265-4f00-a367-df42b3623a47"
      },
      "outputs": [
        {
          "output_type": "execute_result",
          "data": {
            "text/plain": [
              "   index country_or_area  year comm_code  \\\n",
              "0   9771           China  2016     10111   \n",
              "1   9772           China  2016     10119   \n",
              "2   9773           China  2016     10119   \n",
              "3   9774           China  2016     10120   \n",
              "4   9775           China  2016     10210   \n",
              "\n",
              "                                 commodity    flow  trade_usd   weight_kg  \\\n",
              "0          Horses, live pure-bred breeding  Import    1264783     86450.0   \n",
              "1   Horses, live except pure-bred breeding  Export      40108      5250.0   \n",
              "2   Horses, live except pure-bred breeding  Import   26467597   2863836.0   \n",
              "3           Asses, mules and hinnies, live  Import     254970    320417.0   \n",
              "4  Bovine animals, live pure-bred breeding  Import  218557662  36935542.0   \n",
              "\n",
              "     quantity_name  quantity         category  \n",
              "0      No Quantity       NaN  01_live_animals  \n",
              "1      No Quantity       NaN  01_live_animals  \n",
              "2  Number of items    1732.0  01_live_animals  \n",
              "3      No Quantity       NaN  01_live_animals  \n",
              "4  Number of items  105860.0  01_live_animals  "
            ],
            "text/html": [
              "\n",
              "  <div id=\"df-84d78e0d-4aee-495d-92dc-60e889b50b4a\" class=\"colab-df-container\">\n",
              "    <div>\n",
              "<style scoped>\n",
              "    .dataframe tbody tr th:only-of-type {\n",
              "        vertical-align: middle;\n",
              "    }\n",
              "\n",
              "    .dataframe tbody tr th {\n",
              "        vertical-align: top;\n",
              "    }\n",
              "\n",
              "    .dataframe thead th {\n",
              "        text-align: right;\n",
              "    }\n",
              "</style>\n",
              "<table border=\"1\" class=\"dataframe\">\n",
              "  <thead>\n",
              "    <tr style=\"text-align: right;\">\n",
              "      <th></th>\n",
              "      <th>index</th>\n",
              "      <th>country_or_area</th>\n",
              "      <th>year</th>\n",
              "      <th>comm_code</th>\n",
              "      <th>commodity</th>\n",
              "      <th>flow</th>\n",
              "      <th>trade_usd</th>\n",
              "      <th>weight_kg</th>\n",
              "      <th>quantity_name</th>\n",
              "      <th>quantity</th>\n",
              "      <th>category</th>\n",
              "    </tr>\n",
              "  </thead>\n",
              "  <tbody>\n",
              "    <tr>\n",
              "      <th>0</th>\n",
              "      <td>9771</td>\n",
              "      <td>China</td>\n",
              "      <td>2016</td>\n",
              "      <td>10111</td>\n",
              "      <td>Horses, live pure-bred breeding</td>\n",
              "      <td>Import</td>\n",
              "      <td>1264783</td>\n",
              "      <td>86450.0</td>\n",
              "      <td>No Quantity</td>\n",
              "      <td>NaN</td>\n",
              "      <td>01_live_animals</td>\n",
              "    </tr>\n",
              "    <tr>\n",
              "      <th>1</th>\n",
              "      <td>9772</td>\n",
              "      <td>China</td>\n",
              "      <td>2016</td>\n",
              "      <td>10119</td>\n",
              "      <td>Horses, live except pure-bred breeding</td>\n",
              "      <td>Export</td>\n",
              "      <td>40108</td>\n",
              "      <td>5250.0</td>\n",
              "      <td>No Quantity</td>\n",
              "      <td>NaN</td>\n",
              "      <td>01_live_animals</td>\n",
              "    </tr>\n",
              "    <tr>\n",
              "      <th>2</th>\n",
              "      <td>9773</td>\n",
              "      <td>China</td>\n",
              "      <td>2016</td>\n",
              "      <td>10119</td>\n",
              "      <td>Horses, live except pure-bred breeding</td>\n",
              "      <td>Import</td>\n",
              "      <td>26467597</td>\n",
              "      <td>2863836.0</td>\n",
              "      <td>Number of items</td>\n",
              "      <td>1732.0</td>\n",
              "      <td>01_live_animals</td>\n",
              "    </tr>\n",
              "    <tr>\n",
              "      <th>3</th>\n",
              "      <td>9774</td>\n",
              "      <td>China</td>\n",
              "      <td>2016</td>\n",
              "      <td>10120</td>\n",
              "      <td>Asses, mules and hinnies, live</td>\n",
              "      <td>Import</td>\n",
              "      <td>254970</td>\n",
              "      <td>320417.0</td>\n",
              "      <td>No Quantity</td>\n",
              "      <td>NaN</td>\n",
              "      <td>01_live_animals</td>\n",
              "    </tr>\n",
              "    <tr>\n",
              "      <th>4</th>\n",
              "      <td>9775</td>\n",
              "      <td>China</td>\n",
              "      <td>2016</td>\n",
              "      <td>10210</td>\n",
              "      <td>Bovine animals, live pure-bred breeding</td>\n",
              "      <td>Import</td>\n",
              "      <td>218557662</td>\n",
              "      <td>36935542.0</td>\n",
              "      <td>Number of items</td>\n",
              "      <td>105860.0</td>\n",
              "      <td>01_live_animals</td>\n",
              "    </tr>\n",
              "  </tbody>\n",
              "</table>\n",
              "</div>\n",
              "    <div class=\"colab-df-buttons\">\n",
              "\n",
              "  <div class=\"colab-df-container\">\n",
              "    <button class=\"colab-df-convert\" onclick=\"convertToInteractive('df-84d78e0d-4aee-495d-92dc-60e889b50b4a')\"\n",
              "            title=\"Convert this dataframe to an interactive table.\"\n",
              "            style=\"display:none;\">\n",
              "\n",
              "  <svg xmlns=\"http://www.w3.org/2000/svg\" height=\"24px\" viewBox=\"0 -960 960 960\">\n",
              "    <path d=\"M120-120v-720h720v720H120Zm60-500h600v-160H180v160Zm220 220h160v-160H400v160Zm0 220h160v-160H400v160ZM180-400h160v-160H180v160Zm440 0h160v-160H620v160ZM180-180h160v-160H180v160Zm440 0h160v-160H620v160Z\"/>\n",
              "  </svg>\n",
              "    </button>\n",
              "\n",
              "  <style>\n",
              "    .colab-df-container {\n",
              "      display:flex;\n",
              "      gap: 12px;\n",
              "    }\n",
              "\n",
              "    .colab-df-convert {\n",
              "      background-color: #E8F0FE;\n",
              "      border: none;\n",
              "      border-radius: 50%;\n",
              "      cursor: pointer;\n",
              "      display: none;\n",
              "      fill: #1967D2;\n",
              "      height: 32px;\n",
              "      padding: 0 0 0 0;\n",
              "      width: 32px;\n",
              "    }\n",
              "\n",
              "    .colab-df-convert:hover {\n",
              "      background-color: #E2EBFA;\n",
              "      box-shadow: 0px 1px 2px rgba(60, 64, 67, 0.3), 0px 1px 3px 1px rgba(60, 64, 67, 0.15);\n",
              "      fill: #174EA6;\n",
              "    }\n",
              "\n",
              "    .colab-df-buttons div {\n",
              "      margin-bottom: 4px;\n",
              "    }\n",
              "\n",
              "    [theme=dark] .colab-df-convert {\n",
              "      background-color: #3B4455;\n",
              "      fill: #D2E3FC;\n",
              "    }\n",
              "\n",
              "    [theme=dark] .colab-df-convert:hover {\n",
              "      background-color: #434B5C;\n",
              "      box-shadow: 0px 1px 3px 1px rgba(0, 0, 0, 0.15);\n",
              "      filter: drop-shadow(0px 1px 2px rgba(0, 0, 0, 0.3));\n",
              "      fill: #FFFFFF;\n",
              "    }\n",
              "  </style>\n",
              "\n",
              "    <script>\n",
              "      const buttonEl =\n",
              "        document.querySelector('#df-84d78e0d-4aee-495d-92dc-60e889b50b4a button.colab-df-convert');\n",
              "      buttonEl.style.display =\n",
              "        google.colab.kernel.accessAllowed ? 'block' : 'none';\n",
              "\n",
              "      async function convertToInteractive(key) {\n",
              "        const element = document.querySelector('#df-84d78e0d-4aee-495d-92dc-60e889b50b4a');\n",
              "        const dataTable =\n",
              "          await google.colab.kernel.invokeFunction('convertToInteractive',\n",
              "                                                    [key], {});\n",
              "        if (!dataTable) return;\n",
              "\n",
              "        const docLinkHtml = 'Like what you see? Visit the ' +\n",
              "          '<a target=\"_blank\" href=https://colab.research.google.com/notebooks/data_table.ipynb>data table notebook</a>'\n",
              "          + ' to learn more about interactive tables.';\n",
              "        element.innerHTML = '';\n",
              "        dataTable['output_type'] = 'display_data';\n",
              "        await google.colab.output.renderOutput(dataTable, element);\n",
              "        const docLink = document.createElement('div');\n",
              "        docLink.innerHTML = docLinkHtml;\n",
              "        element.appendChild(docLink);\n",
              "      }\n",
              "    </script>\n",
              "  </div>\n",
              "\n",
              "\n",
              "<div id=\"df-54f0badf-a82e-4c21-9c0d-03aea815a7ff\">\n",
              "  <button class=\"colab-df-quickchart\" onclick=\"quickchart('df-54f0badf-a82e-4c21-9c0d-03aea815a7ff')\"\n",
              "            title=\"Suggest charts\"\n",
              "            style=\"display:none;\">\n",
              "\n",
              "<svg xmlns=\"http://www.w3.org/2000/svg\" height=\"24px\"viewBox=\"0 0 24 24\"\n",
              "     width=\"24px\">\n",
              "    <g>\n",
              "        <path d=\"M19 3H5c-1.1 0-2 .9-2 2v14c0 1.1.9 2 2 2h14c1.1 0 2-.9 2-2V5c0-1.1-.9-2-2-2zM9 17H7v-7h2v7zm4 0h-2V7h2v10zm4 0h-2v-4h2v4z\"/>\n",
              "    </g>\n",
              "</svg>\n",
              "  </button>\n",
              "\n",
              "<style>\n",
              "  .colab-df-quickchart {\n",
              "      --bg-color: #E8F0FE;\n",
              "      --fill-color: #1967D2;\n",
              "      --hover-bg-color: #E2EBFA;\n",
              "      --hover-fill-color: #174EA6;\n",
              "      --disabled-fill-color: #AAA;\n",
              "      --disabled-bg-color: #DDD;\n",
              "  }\n",
              "\n",
              "  [theme=dark] .colab-df-quickchart {\n",
              "      --bg-color: #3B4455;\n",
              "      --fill-color: #D2E3FC;\n",
              "      --hover-bg-color: #434B5C;\n",
              "      --hover-fill-color: #FFFFFF;\n",
              "      --disabled-bg-color: #3B4455;\n",
              "      --disabled-fill-color: #666;\n",
              "  }\n",
              "\n",
              "  .colab-df-quickchart {\n",
              "    background-color: var(--bg-color);\n",
              "    border: none;\n",
              "    border-radius: 50%;\n",
              "    cursor: pointer;\n",
              "    display: none;\n",
              "    fill: var(--fill-color);\n",
              "    height: 32px;\n",
              "    padding: 0;\n",
              "    width: 32px;\n",
              "  }\n",
              "\n",
              "  .colab-df-quickchart:hover {\n",
              "    background-color: var(--hover-bg-color);\n",
              "    box-shadow: 0 1px 2px rgba(60, 64, 67, 0.3), 0 1px 3px 1px rgba(60, 64, 67, 0.15);\n",
              "    fill: var(--button-hover-fill-color);\n",
              "  }\n",
              "\n",
              "  .colab-df-quickchart-complete:disabled,\n",
              "  .colab-df-quickchart-complete:disabled:hover {\n",
              "    background-color: var(--disabled-bg-color);\n",
              "    fill: var(--disabled-fill-color);\n",
              "    box-shadow: none;\n",
              "  }\n",
              "\n",
              "  .colab-df-spinner {\n",
              "    border: 2px solid var(--fill-color);\n",
              "    border-color: transparent;\n",
              "    border-bottom-color: var(--fill-color);\n",
              "    animation:\n",
              "      spin 1s steps(1) infinite;\n",
              "  }\n",
              "\n",
              "  @keyframes spin {\n",
              "    0% {\n",
              "      border-color: transparent;\n",
              "      border-bottom-color: var(--fill-color);\n",
              "      border-left-color: var(--fill-color);\n",
              "    }\n",
              "    20% {\n",
              "      border-color: transparent;\n",
              "      border-left-color: var(--fill-color);\n",
              "      border-top-color: var(--fill-color);\n",
              "    }\n",
              "    30% {\n",
              "      border-color: transparent;\n",
              "      border-left-color: var(--fill-color);\n",
              "      border-top-color: var(--fill-color);\n",
              "      border-right-color: var(--fill-color);\n",
              "    }\n",
              "    40% {\n",
              "      border-color: transparent;\n",
              "      border-right-color: var(--fill-color);\n",
              "      border-top-color: var(--fill-color);\n",
              "    }\n",
              "    60% {\n",
              "      border-color: transparent;\n",
              "      border-right-color: var(--fill-color);\n",
              "    }\n",
              "    80% {\n",
              "      border-color: transparent;\n",
              "      border-right-color: var(--fill-color);\n",
              "      border-bottom-color: var(--fill-color);\n",
              "    }\n",
              "    90% {\n",
              "      border-color: transparent;\n",
              "      border-bottom-color: var(--fill-color);\n",
              "    }\n",
              "  }\n",
              "</style>\n",
              "\n",
              "  <script>\n",
              "    async function quickchart(key) {\n",
              "      const quickchartButtonEl =\n",
              "        document.querySelector('#' + key + ' button');\n",
              "      quickchartButtonEl.disabled = true;  // To prevent multiple clicks.\n",
              "      quickchartButtonEl.classList.add('colab-df-spinner');\n",
              "      try {\n",
              "        const charts = await google.colab.kernel.invokeFunction(\n",
              "            'suggestCharts', [key], {});\n",
              "      } catch (error) {\n",
              "        console.error('Error during call to suggestCharts:', error);\n",
              "      }\n",
              "      quickchartButtonEl.classList.remove('colab-df-spinner');\n",
              "      quickchartButtonEl.classList.add('colab-df-quickchart-complete');\n",
              "    }\n",
              "    (() => {\n",
              "      let quickchartButtonEl =\n",
              "        document.querySelector('#df-54f0badf-a82e-4c21-9c0d-03aea815a7ff button');\n",
              "      quickchartButtonEl.style.display =\n",
              "        google.colab.kernel.accessAllowed ? 'block' : 'none';\n",
              "    })();\n",
              "  </script>\n",
              "</div>\n",
              "    </div>\n",
              "  </div>\n"
            ]
          },
          "metadata": {},
          "execution_count": 20
        }
      ],
      "source": [
        "df = df_clean.copy()\n",
        "df.head()"
      ]
    },
    {
      "cell_type": "code",
      "execution_count": null,
      "metadata": {
        "colab": {
          "base_uri": "https://localhost:8080/"
        },
        "id": "6HLx1XsuhTsg",
        "outputId": "774de75c-12fc-4802-83af-ffc39e20747d"
      },
      "outputs": [
        {
          "output_type": "execute_result",
          "data": {
            "text/plain": [
              "index                  0\n",
              "country_or_area        0\n",
              "year                   0\n",
              "comm_code              0\n",
              "commodity              0\n",
              "flow                   0\n",
              "trade_usd              0\n",
              "weight_kg          14951\n",
              "quantity_name          0\n",
              "quantity            8019\n",
              "category               0\n",
              "dtype: int64"
            ]
          },
          "metadata": {},
          "execution_count": 21
        }
      ],
      "source": [
        "df.isnull().sum()"
      ]
    },
    {
      "cell_type": "markdown",
      "metadata": {
        "id": "fe-USnxmdm4P"
      },
      "source": [
        "### 3.1.1 Menangani atribut teks dan kategorikal"
      ]
    },
    {
      "cell_type": "code",
      "execution_count": null,
      "metadata": {
        "colab": {
          "base_uri": "https://localhost:8080/",
          "height": 310
        },
        "id": "-hQtR_9pNzTC",
        "outputId": "78d9e7d2-e349-4b41-e52b-615f34813c43"
      },
      "outputs": [
        {
          "output_type": "stream",
          "name": "stderr",
          "text": [
            "/usr/local/lib/python3.10/dist-packages/sklearn/preprocessing/_label.py:116: DataConversionWarning: A column-vector y was passed when a 1d array was expected. Please change the shape of y to (n_samples, ), for example using ravel().\n",
            "  y = column_or_1d(y, warn=True)\n",
            "/usr/local/lib/python3.10/dist-packages/sklearn/preprocessing/_label.py:116: DataConversionWarning: A column-vector y was passed when a 1d array was expected. Please change the shape of y to (n_samples, ), for example using ravel().\n",
            "  y = column_or_1d(y, warn=True)\n",
            "/usr/local/lib/python3.10/dist-packages/sklearn/preprocessing/_label.py:116: DataConversionWarning: A column-vector y was passed when a 1d array was expected. Please change the shape of y to (n_samples, ), for example using ravel().\n",
            "  y = column_or_1d(y, warn=True)\n"
          ]
        },
        {
          "output_type": "execute_result",
          "data": {
            "text/plain": [
              "   index  country_or_area  year comm_code  \\\n",
              "0   9771                0  2016     10111   \n",
              "1   9772                0  2016     10119   \n",
              "2   9773                0  2016     10119   \n",
              "3   9774                0  2016     10120   \n",
              "4   9775                0  2016     10210   \n",
              "\n",
              "                                 commodity  flow  trade_usd   weight_kg  \\\n",
              "0          Horses, live pure-bred breeding     1    1264783     86450.0   \n",
              "1   Horses, live except pure-bred breeding     0      40108      5250.0   \n",
              "2   Horses, live except pure-bred breeding     1   26467597   2863836.0   \n",
              "3           Asses, mules and hinnies, live     1     254970    320417.0   \n",
              "4  Bovine animals, live pure-bred breeding     1  218557662  36935542.0   \n",
              "\n",
              "     quantity_name  quantity  category  \n",
              "0      No Quantity       NaN         0  \n",
              "1      No Quantity       NaN         0  \n",
              "2  Number of items    1732.0         0  \n",
              "3      No Quantity       NaN         0  \n",
              "4  Number of items  105860.0         0  "
            ],
            "text/html": [
              "\n",
              "  <div id=\"df-e7832166-11d9-4e16-90a8-1c6f0df92cd9\" class=\"colab-df-container\">\n",
              "    <div>\n",
              "<style scoped>\n",
              "    .dataframe tbody tr th:only-of-type {\n",
              "        vertical-align: middle;\n",
              "    }\n",
              "\n",
              "    .dataframe tbody tr th {\n",
              "        vertical-align: top;\n",
              "    }\n",
              "\n",
              "    .dataframe thead th {\n",
              "        text-align: right;\n",
              "    }\n",
              "</style>\n",
              "<table border=\"1\" class=\"dataframe\">\n",
              "  <thead>\n",
              "    <tr style=\"text-align: right;\">\n",
              "      <th></th>\n",
              "      <th>index</th>\n",
              "      <th>country_or_area</th>\n",
              "      <th>year</th>\n",
              "      <th>comm_code</th>\n",
              "      <th>commodity</th>\n",
              "      <th>flow</th>\n",
              "      <th>trade_usd</th>\n",
              "      <th>weight_kg</th>\n",
              "      <th>quantity_name</th>\n",
              "      <th>quantity</th>\n",
              "      <th>category</th>\n",
              "    </tr>\n",
              "  </thead>\n",
              "  <tbody>\n",
              "    <tr>\n",
              "      <th>0</th>\n",
              "      <td>9771</td>\n",
              "      <td>0</td>\n",
              "      <td>2016</td>\n",
              "      <td>10111</td>\n",
              "      <td>Horses, live pure-bred breeding</td>\n",
              "      <td>1</td>\n",
              "      <td>1264783</td>\n",
              "      <td>86450.0</td>\n",
              "      <td>No Quantity</td>\n",
              "      <td>NaN</td>\n",
              "      <td>0</td>\n",
              "    </tr>\n",
              "    <tr>\n",
              "      <th>1</th>\n",
              "      <td>9772</td>\n",
              "      <td>0</td>\n",
              "      <td>2016</td>\n",
              "      <td>10119</td>\n",
              "      <td>Horses, live except pure-bred breeding</td>\n",
              "      <td>0</td>\n",
              "      <td>40108</td>\n",
              "      <td>5250.0</td>\n",
              "      <td>No Quantity</td>\n",
              "      <td>NaN</td>\n",
              "      <td>0</td>\n",
              "    </tr>\n",
              "    <tr>\n",
              "      <th>2</th>\n",
              "      <td>9773</td>\n",
              "      <td>0</td>\n",
              "      <td>2016</td>\n",
              "      <td>10119</td>\n",
              "      <td>Horses, live except pure-bred breeding</td>\n",
              "      <td>1</td>\n",
              "      <td>26467597</td>\n",
              "      <td>2863836.0</td>\n",
              "      <td>Number of items</td>\n",
              "      <td>1732.0</td>\n",
              "      <td>0</td>\n",
              "    </tr>\n",
              "    <tr>\n",
              "      <th>3</th>\n",
              "      <td>9774</td>\n",
              "      <td>0</td>\n",
              "      <td>2016</td>\n",
              "      <td>10120</td>\n",
              "      <td>Asses, mules and hinnies, live</td>\n",
              "      <td>1</td>\n",
              "      <td>254970</td>\n",
              "      <td>320417.0</td>\n",
              "      <td>No Quantity</td>\n",
              "      <td>NaN</td>\n",
              "      <td>0</td>\n",
              "    </tr>\n",
              "    <tr>\n",
              "      <th>4</th>\n",
              "      <td>9775</td>\n",
              "      <td>0</td>\n",
              "      <td>2016</td>\n",
              "      <td>10210</td>\n",
              "      <td>Bovine animals, live pure-bred breeding</td>\n",
              "      <td>1</td>\n",
              "      <td>218557662</td>\n",
              "      <td>36935542.0</td>\n",
              "      <td>Number of items</td>\n",
              "      <td>105860.0</td>\n",
              "      <td>0</td>\n",
              "    </tr>\n",
              "  </tbody>\n",
              "</table>\n",
              "</div>\n",
              "    <div class=\"colab-df-buttons\">\n",
              "\n",
              "  <div class=\"colab-df-container\">\n",
              "    <button class=\"colab-df-convert\" onclick=\"convertToInteractive('df-e7832166-11d9-4e16-90a8-1c6f0df92cd9')\"\n",
              "            title=\"Convert this dataframe to an interactive table.\"\n",
              "            style=\"display:none;\">\n",
              "\n",
              "  <svg xmlns=\"http://www.w3.org/2000/svg\" height=\"24px\" viewBox=\"0 -960 960 960\">\n",
              "    <path d=\"M120-120v-720h720v720H120Zm60-500h600v-160H180v160Zm220 220h160v-160H400v160Zm0 220h160v-160H400v160ZM180-400h160v-160H180v160Zm440 0h160v-160H620v160ZM180-180h160v-160H180v160Zm440 0h160v-160H620v160Z\"/>\n",
              "  </svg>\n",
              "    </button>\n",
              "\n",
              "  <style>\n",
              "    .colab-df-container {\n",
              "      display:flex;\n",
              "      gap: 12px;\n",
              "    }\n",
              "\n",
              "    .colab-df-convert {\n",
              "      background-color: #E8F0FE;\n",
              "      border: none;\n",
              "      border-radius: 50%;\n",
              "      cursor: pointer;\n",
              "      display: none;\n",
              "      fill: #1967D2;\n",
              "      height: 32px;\n",
              "      padding: 0 0 0 0;\n",
              "      width: 32px;\n",
              "    }\n",
              "\n",
              "    .colab-df-convert:hover {\n",
              "      background-color: #E2EBFA;\n",
              "      box-shadow: 0px 1px 2px rgba(60, 64, 67, 0.3), 0px 1px 3px 1px rgba(60, 64, 67, 0.15);\n",
              "      fill: #174EA6;\n",
              "    }\n",
              "\n",
              "    .colab-df-buttons div {\n",
              "      margin-bottom: 4px;\n",
              "    }\n",
              "\n",
              "    [theme=dark] .colab-df-convert {\n",
              "      background-color: #3B4455;\n",
              "      fill: #D2E3FC;\n",
              "    }\n",
              "\n",
              "    [theme=dark] .colab-df-convert:hover {\n",
              "      background-color: #434B5C;\n",
              "      box-shadow: 0px 1px 3px 1px rgba(0, 0, 0, 0.15);\n",
              "      filter: drop-shadow(0px 1px 2px rgba(0, 0, 0, 0.3));\n",
              "      fill: #FFFFFF;\n",
              "    }\n",
              "  </style>\n",
              "\n",
              "    <script>\n",
              "      const buttonEl =\n",
              "        document.querySelector('#df-e7832166-11d9-4e16-90a8-1c6f0df92cd9 button.colab-df-convert');\n",
              "      buttonEl.style.display =\n",
              "        google.colab.kernel.accessAllowed ? 'block' : 'none';\n",
              "\n",
              "      async function convertToInteractive(key) {\n",
              "        const element = document.querySelector('#df-e7832166-11d9-4e16-90a8-1c6f0df92cd9');\n",
              "        const dataTable =\n",
              "          await google.colab.kernel.invokeFunction('convertToInteractive',\n",
              "                                                    [key], {});\n",
              "        if (!dataTable) return;\n",
              "\n",
              "        const docLinkHtml = 'Like what you see? Visit the ' +\n",
              "          '<a target=\"_blank\" href=https://colab.research.google.com/notebooks/data_table.ipynb>data table notebook</a>'\n",
              "          + ' to learn more about interactive tables.';\n",
              "        element.innerHTML = '';\n",
              "        dataTable['output_type'] = 'display_data';\n",
              "        await google.colab.output.renderOutput(dataTable, element);\n",
              "        const docLink = document.createElement('div');\n",
              "        docLink.innerHTML = docLinkHtml;\n",
              "        element.appendChild(docLink);\n",
              "      }\n",
              "    </script>\n",
              "  </div>\n",
              "\n",
              "\n",
              "<div id=\"df-60589c2a-9e9a-40c1-a410-93c5bdbe7b08\">\n",
              "  <button class=\"colab-df-quickchart\" onclick=\"quickchart('df-60589c2a-9e9a-40c1-a410-93c5bdbe7b08')\"\n",
              "            title=\"Suggest charts\"\n",
              "            style=\"display:none;\">\n",
              "\n",
              "<svg xmlns=\"http://www.w3.org/2000/svg\" height=\"24px\"viewBox=\"0 0 24 24\"\n",
              "     width=\"24px\">\n",
              "    <g>\n",
              "        <path d=\"M19 3H5c-1.1 0-2 .9-2 2v14c0 1.1.9 2 2 2h14c1.1 0 2-.9 2-2V5c0-1.1-.9-2-2-2zM9 17H7v-7h2v7zm4 0h-2V7h2v10zm4 0h-2v-4h2v4z\"/>\n",
              "    </g>\n",
              "</svg>\n",
              "  </button>\n",
              "\n",
              "<style>\n",
              "  .colab-df-quickchart {\n",
              "      --bg-color: #E8F0FE;\n",
              "      --fill-color: #1967D2;\n",
              "      --hover-bg-color: #E2EBFA;\n",
              "      --hover-fill-color: #174EA6;\n",
              "      --disabled-fill-color: #AAA;\n",
              "      --disabled-bg-color: #DDD;\n",
              "  }\n",
              "\n",
              "  [theme=dark] .colab-df-quickchart {\n",
              "      --bg-color: #3B4455;\n",
              "      --fill-color: #D2E3FC;\n",
              "      --hover-bg-color: #434B5C;\n",
              "      --hover-fill-color: #FFFFFF;\n",
              "      --disabled-bg-color: #3B4455;\n",
              "      --disabled-fill-color: #666;\n",
              "  }\n",
              "\n",
              "  .colab-df-quickchart {\n",
              "    background-color: var(--bg-color);\n",
              "    border: none;\n",
              "    border-radius: 50%;\n",
              "    cursor: pointer;\n",
              "    display: none;\n",
              "    fill: var(--fill-color);\n",
              "    height: 32px;\n",
              "    padding: 0;\n",
              "    width: 32px;\n",
              "  }\n",
              "\n",
              "  .colab-df-quickchart:hover {\n",
              "    background-color: var(--hover-bg-color);\n",
              "    box-shadow: 0 1px 2px rgba(60, 64, 67, 0.3), 0 1px 3px 1px rgba(60, 64, 67, 0.15);\n",
              "    fill: var(--button-hover-fill-color);\n",
              "  }\n",
              "\n",
              "  .colab-df-quickchart-complete:disabled,\n",
              "  .colab-df-quickchart-complete:disabled:hover {\n",
              "    background-color: var(--disabled-bg-color);\n",
              "    fill: var(--disabled-fill-color);\n",
              "    box-shadow: none;\n",
              "  }\n",
              "\n",
              "  .colab-df-spinner {\n",
              "    border: 2px solid var(--fill-color);\n",
              "    border-color: transparent;\n",
              "    border-bottom-color: var(--fill-color);\n",
              "    animation:\n",
              "      spin 1s steps(1) infinite;\n",
              "  }\n",
              "\n",
              "  @keyframes spin {\n",
              "    0% {\n",
              "      border-color: transparent;\n",
              "      border-bottom-color: var(--fill-color);\n",
              "      border-left-color: var(--fill-color);\n",
              "    }\n",
              "    20% {\n",
              "      border-color: transparent;\n",
              "      border-left-color: var(--fill-color);\n",
              "      border-top-color: var(--fill-color);\n",
              "    }\n",
              "    30% {\n",
              "      border-color: transparent;\n",
              "      border-left-color: var(--fill-color);\n",
              "      border-top-color: var(--fill-color);\n",
              "      border-right-color: var(--fill-color);\n",
              "    }\n",
              "    40% {\n",
              "      border-color: transparent;\n",
              "      border-right-color: var(--fill-color);\n",
              "      border-top-color: var(--fill-color);\n",
              "    }\n",
              "    60% {\n",
              "      border-color: transparent;\n",
              "      border-right-color: var(--fill-color);\n",
              "    }\n",
              "    80% {\n",
              "      border-color: transparent;\n",
              "      border-right-color: var(--fill-color);\n",
              "      border-bottom-color: var(--fill-color);\n",
              "    }\n",
              "    90% {\n",
              "      border-color: transparent;\n",
              "      border-bottom-color: var(--fill-color);\n",
              "    }\n",
              "  }\n",
              "</style>\n",
              "\n",
              "  <script>\n",
              "    async function quickchart(key) {\n",
              "      const quickchartButtonEl =\n",
              "        document.querySelector('#' + key + ' button');\n",
              "      quickchartButtonEl.disabled = true;  // To prevent multiple clicks.\n",
              "      quickchartButtonEl.classList.add('colab-df-spinner');\n",
              "      try {\n",
              "        const charts = await google.colab.kernel.invokeFunction(\n",
              "            'suggestCharts', [key], {});\n",
              "      } catch (error) {\n",
              "        console.error('Error during call to suggestCharts:', error);\n",
              "      }\n",
              "      quickchartButtonEl.classList.remove('colab-df-spinner');\n",
              "      quickchartButtonEl.classList.add('colab-df-quickchart-complete');\n",
              "    }\n",
              "    (() => {\n",
              "      let quickchartButtonEl =\n",
              "        document.querySelector('#df-60589c2a-9e9a-40c1-a410-93c5bdbe7b08 button');\n",
              "      quickchartButtonEl.style.display =\n",
              "        google.colab.kernel.accessAllowed ? 'block' : 'none';\n",
              "    })();\n",
              "  </script>\n",
              "</div>\n",
              "    </div>\n",
              "  </div>\n"
            ]
          },
          "metadata": {},
          "execution_count": 22
        }
      ],
      "source": [
        "# Membuat objek LabelEncoder\n",
        "cat_encoder = LabelEncoder()\n",
        "\n",
        "# Melakukan one-hot encoding pada atribut teks/kategorikal\n",
        "df['country_or_area'] = cat_encoder.fit_transform(df[['country_or_area']])\n",
        "df['flow'] = cat_encoder.fit_transform(df[['flow']])\n",
        "df['category'] = cat_encoder.fit_transform(df[['category']])\n",
        "df.head()"
      ]
    },
    {
      "cell_type": "markdown",
      "metadata": {
        "id": "pgiQypDQjaG4"
      },
      "source": [
        "### 3.1.2 Menangani atribut numerik"
      ]
    },
    {
      "cell_type": "code",
      "execution_count": null,
      "metadata": {
        "id": "fY9FUxMcivrx"
      },
      "outputs": [],
      "source": [
        "df['quantity' ] = df['quantity'].fillna(df['quantity'].mean())  # Mengganti NaN dengan nilai rata-rata\n",
        "df['weight_kg'] = df['weight_kg'].fillna(df['weight_kg'].mean())  # Mengganti NaN dengan nilai rata-rata"
      ]
    },
    {
      "cell_type": "code",
      "execution_count": null,
      "metadata": {
        "colab": {
          "base_uri": "https://localhost:8080/"
        },
        "id": "paR_r9lIiWnj",
        "outputId": "b153710a-5a89-4936-af40-d2526e53c687"
      },
      "outputs": [
        {
          "output_type": "execute_result",
          "data": {
            "text/plain": [
              "index              0\n",
              "country_or_area    0\n",
              "year               0\n",
              "comm_code          0\n",
              "commodity          0\n",
              "flow               0\n",
              "trade_usd          0\n",
              "weight_kg          0\n",
              "quantity_name      0\n",
              "quantity           0\n",
              "category           0\n",
              "dtype: int64"
            ]
          },
          "metadata": {},
          "execution_count": 24
        }
      ],
      "source": [
        "df.isnull().sum()"
      ]
    },
    {
      "cell_type": "markdown",
      "metadata": {
        "id": "OP72nuRve2Sy"
      },
      "source": [
        "### 3.1.3 Feature scaling"
      ]
    },
    {
      "cell_type": "code",
      "execution_count": null,
      "metadata": {
        "colab": {
          "base_uri": "https://localhost:8080/"
        },
        "id": "W6N29tjAaOlN",
        "outputId": "a72b0881-539d-4b62-b63c-b85e90f56a2c"
      },
      "outputs": [
        {
          "output_type": "stream",
          "name": "stdout",
          "text": [
            "[[5.24619585e-07 8.52896545e-08 1.80142360e-04]\n",
            " [1.66360034e-08 5.17953367e-09 1.80142360e-04]\n",
            " [1.09785079e-05 2.82539714e-06 1.70875282e-09]\n",
            " ...\n",
            " [2.11105161e-01 1.64473767e-04 1.80142360e-04]\n",
            " [1.74857191e-01 1.64473767e-04 1.80142360e-04]\n",
            " [8.53291880e-03 1.64473767e-04 1.80142360e-04]]\n"
          ]
        }
      ],
      "source": [
        "from sklearn.preprocessing import MinMaxScaler\n",
        "from sklearn.impute import SimpleImputer\n",
        "\n",
        "# Membuat objek MinMaxScaler\n",
        "scaler = MinMaxScaler()\n",
        "\n",
        "# Memilih kolom yang akan di-scale\n",
        "data = df[['trade_usd', 'weight_kg', 'quantity']]\n",
        "\n",
        "# Menggantikan nilai nan dengan median dari setiap kolom\n",
        "imputer = SimpleImputer(strategy='median')\n",
        "data_imputed = imputer.fit_transform(data)\n",
        "\n",
        "# Melakukan scaling\n",
        "scaled = scaler.fit_transform(data_imputed)\n",
        "print(scaled)"
      ]
    },
    {
      "cell_type": "markdown",
      "metadata": {
        "id": "aWtbOeZ2SVBd"
      },
      "source": [
        "### 3.1.4 Transformation data\n",
        "\n"
      ]
    },
    {
      "cell_type": "code",
      "execution_count": null,
      "metadata": {
        "id": "BxYbv23W4paL"
      },
      "outputs": [],
      "source": [
        "columns_to_drop = ['year', 'comm_code', 'commodity', 'quantity_name', 'index', 'quantity']\n",
        "df = df.drop(columns=columns_to_drop)"
      ]
    },
    {
      "cell_type": "code",
      "execution_count": null,
      "metadata": {
        "colab": {
          "base_uri": "https://localhost:8080/",
          "height": 206
        },
        "id": "00Nz-nM0Lryx",
        "outputId": "9e0e63a4-21c1-47bc-d3d1-bd074539b2f3"
      },
      "outputs": [
        {
          "output_type": "execute_result",
          "data": {
            "text/plain": [
              "   country_or_area  flow  trade_usd   weight_kg  category\n",
              "0                0     1    1264783     86450.0         0\n",
              "1                0     0      40108      5250.0         0\n",
              "2                0     1   26467597   2863836.0         0\n",
              "3                0     1     254970    320417.0         0\n",
              "4                0     1  218557662  36935542.0         0"
            ],
            "text/html": [
              "\n",
              "  <div id=\"df-a214c176-98f8-4569-9178-da12fc2812b3\" class=\"colab-df-container\">\n",
              "    <div>\n",
              "<style scoped>\n",
              "    .dataframe tbody tr th:only-of-type {\n",
              "        vertical-align: middle;\n",
              "    }\n",
              "\n",
              "    .dataframe tbody tr th {\n",
              "        vertical-align: top;\n",
              "    }\n",
              "\n",
              "    .dataframe thead th {\n",
              "        text-align: right;\n",
              "    }\n",
              "</style>\n",
              "<table border=\"1\" class=\"dataframe\">\n",
              "  <thead>\n",
              "    <tr style=\"text-align: right;\">\n",
              "      <th></th>\n",
              "      <th>country_or_area</th>\n",
              "      <th>flow</th>\n",
              "      <th>trade_usd</th>\n",
              "      <th>weight_kg</th>\n",
              "      <th>category</th>\n",
              "    </tr>\n",
              "  </thead>\n",
              "  <tbody>\n",
              "    <tr>\n",
              "      <th>0</th>\n",
              "      <td>0</td>\n",
              "      <td>1</td>\n",
              "      <td>1264783</td>\n",
              "      <td>86450.0</td>\n",
              "      <td>0</td>\n",
              "    </tr>\n",
              "    <tr>\n",
              "      <th>1</th>\n",
              "      <td>0</td>\n",
              "      <td>0</td>\n",
              "      <td>40108</td>\n",
              "      <td>5250.0</td>\n",
              "      <td>0</td>\n",
              "    </tr>\n",
              "    <tr>\n",
              "      <th>2</th>\n",
              "      <td>0</td>\n",
              "      <td>1</td>\n",
              "      <td>26467597</td>\n",
              "      <td>2863836.0</td>\n",
              "      <td>0</td>\n",
              "    </tr>\n",
              "    <tr>\n",
              "      <th>3</th>\n",
              "      <td>0</td>\n",
              "      <td>1</td>\n",
              "      <td>254970</td>\n",
              "      <td>320417.0</td>\n",
              "      <td>0</td>\n",
              "    </tr>\n",
              "    <tr>\n",
              "      <th>4</th>\n",
              "      <td>0</td>\n",
              "      <td>1</td>\n",
              "      <td>218557662</td>\n",
              "      <td>36935542.0</td>\n",
              "      <td>0</td>\n",
              "    </tr>\n",
              "  </tbody>\n",
              "</table>\n",
              "</div>\n",
              "    <div class=\"colab-df-buttons\">\n",
              "\n",
              "  <div class=\"colab-df-container\">\n",
              "    <button class=\"colab-df-convert\" onclick=\"convertToInteractive('df-a214c176-98f8-4569-9178-da12fc2812b3')\"\n",
              "            title=\"Convert this dataframe to an interactive table.\"\n",
              "            style=\"display:none;\">\n",
              "\n",
              "  <svg xmlns=\"http://www.w3.org/2000/svg\" height=\"24px\" viewBox=\"0 -960 960 960\">\n",
              "    <path d=\"M120-120v-720h720v720H120Zm60-500h600v-160H180v160Zm220 220h160v-160H400v160Zm0 220h160v-160H400v160ZM180-400h160v-160H180v160Zm440 0h160v-160H620v160ZM180-180h160v-160H180v160Zm440 0h160v-160H620v160Z\"/>\n",
              "  </svg>\n",
              "    </button>\n",
              "\n",
              "  <style>\n",
              "    .colab-df-container {\n",
              "      display:flex;\n",
              "      gap: 12px;\n",
              "    }\n",
              "\n",
              "    .colab-df-convert {\n",
              "      background-color: #E8F0FE;\n",
              "      border: none;\n",
              "      border-radius: 50%;\n",
              "      cursor: pointer;\n",
              "      display: none;\n",
              "      fill: #1967D2;\n",
              "      height: 32px;\n",
              "      padding: 0 0 0 0;\n",
              "      width: 32px;\n",
              "    }\n",
              "\n",
              "    .colab-df-convert:hover {\n",
              "      background-color: #E2EBFA;\n",
              "      box-shadow: 0px 1px 2px rgba(60, 64, 67, 0.3), 0px 1px 3px 1px rgba(60, 64, 67, 0.15);\n",
              "      fill: #174EA6;\n",
              "    }\n",
              "\n",
              "    .colab-df-buttons div {\n",
              "      margin-bottom: 4px;\n",
              "    }\n",
              "\n",
              "    [theme=dark] .colab-df-convert {\n",
              "      background-color: #3B4455;\n",
              "      fill: #D2E3FC;\n",
              "    }\n",
              "\n",
              "    [theme=dark] .colab-df-convert:hover {\n",
              "      background-color: #434B5C;\n",
              "      box-shadow: 0px 1px 3px 1px rgba(0, 0, 0, 0.15);\n",
              "      filter: drop-shadow(0px 1px 2px rgba(0, 0, 0, 0.3));\n",
              "      fill: #FFFFFF;\n",
              "    }\n",
              "  </style>\n",
              "\n",
              "    <script>\n",
              "      const buttonEl =\n",
              "        document.querySelector('#df-a214c176-98f8-4569-9178-da12fc2812b3 button.colab-df-convert');\n",
              "      buttonEl.style.display =\n",
              "        google.colab.kernel.accessAllowed ? 'block' : 'none';\n",
              "\n",
              "      async function convertToInteractive(key) {\n",
              "        const element = document.querySelector('#df-a214c176-98f8-4569-9178-da12fc2812b3');\n",
              "        const dataTable =\n",
              "          await google.colab.kernel.invokeFunction('convertToInteractive',\n",
              "                                                    [key], {});\n",
              "        if (!dataTable) return;\n",
              "\n",
              "        const docLinkHtml = 'Like what you see? Visit the ' +\n",
              "          '<a target=\"_blank\" href=https://colab.research.google.com/notebooks/data_table.ipynb>data table notebook</a>'\n",
              "          + ' to learn more about interactive tables.';\n",
              "        element.innerHTML = '';\n",
              "        dataTable['output_type'] = 'display_data';\n",
              "        await google.colab.output.renderOutput(dataTable, element);\n",
              "        const docLink = document.createElement('div');\n",
              "        docLink.innerHTML = docLinkHtml;\n",
              "        element.appendChild(docLink);\n",
              "      }\n",
              "    </script>\n",
              "  </div>\n",
              "\n",
              "\n",
              "<div id=\"df-f7b86c4a-0a61-4b4d-946f-dd140be1618c\">\n",
              "  <button class=\"colab-df-quickchart\" onclick=\"quickchart('df-f7b86c4a-0a61-4b4d-946f-dd140be1618c')\"\n",
              "            title=\"Suggest charts\"\n",
              "            style=\"display:none;\">\n",
              "\n",
              "<svg xmlns=\"http://www.w3.org/2000/svg\" height=\"24px\"viewBox=\"0 0 24 24\"\n",
              "     width=\"24px\">\n",
              "    <g>\n",
              "        <path d=\"M19 3H5c-1.1 0-2 .9-2 2v14c0 1.1.9 2 2 2h14c1.1 0 2-.9 2-2V5c0-1.1-.9-2-2-2zM9 17H7v-7h2v7zm4 0h-2V7h2v10zm4 0h-2v-4h2v4z\"/>\n",
              "    </g>\n",
              "</svg>\n",
              "  </button>\n",
              "\n",
              "<style>\n",
              "  .colab-df-quickchart {\n",
              "      --bg-color: #E8F0FE;\n",
              "      --fill-color: #1967D2;\n",
              "      --hover-bg-color: #E2EBFA;\n",
              "      --hover-fill-color: #174EA6;\n",
              "      --disabled-fill-color: #AAA;\n",
              "      --disabled-bg-color: #DDD;\n",
              "  }\n",
              "\n",
              "  [theme=dark] .colab-df-quickchart {\n",
              "      --bg-color: #3B4455;\n",
              "      --fill-color: #D2E3FC;\n",
              "      --hover-bg-color: #434B5C;\n",
              "      --hover-fill-color: #FFFFFF;\n",
              "      --disabled-bg-color: #3B4455;\n",
              "      --disabled-fill-color: #666;\n",
              "  }\n",
              "\n",
              "  .colab-df-quickchart {\n",
              "    background-color: var(--bg-color);\n",
              "    border: none;\n",
              "    border-radius: 50%;\n",
              "    cursor: pointer;\n",
              "    display: none;\n",
              "    fill: var(--fill-color);\n",
              "    height: 32px;\n",
              "    padding: 0;\n",
              "    width: 32px;\n",
              "  }\n",
              "\n",
              "  .colab-df-quickchart:hover {\n",
              "    background-color: var(--hover-bg-color);\n",
              "    box-shadow: 0 1px 2px rgba(60, 64, 67, 0.3), 0 1px 3px 1px rgba(60, 64, 67, 0.15);\n",
              "    fill: var(--button-hover-fill-color);\n",
              "  }\n",
              "\n",
              "  .colab-df-quickchart-complete:disabled,\n",
              "  .colab-df-quickchart-complete:disabled:hover {\n",
              "    background-color: var(--disabled-bg-color);\n",
              "    fill: var(--disabled-fill-color);\n",
              "    box-shadow: none;\n",
              "  }\n",
              "\n",
              "  .colab-df-spinner {\n",
              "    border: 2px solid var(--fill-color);\n",
              "    border-color: transparent;\n",
              "    border-bottom-color: var(--fill-color);\n",
              "    animation:\n",
              "      spin 1s steps(1) infinite;\n",
              "  }\n",
              "\n",
              "  @keyframes spin {\n",
              "    0% {\n",
              "      border-color: transparent;\n",
              "      border-bottom-color: var(--fill-color);\n",
              "      border-left-color: var(--fill-color);\n",
              "    }\n",
              "    20% {\n",
              "      border-color: transparent;\n",
              "      border-left-color: var(--fill-color);\n",
              "      border-top-color: var(--fill-color);\n",
              "    }\n",
              "    30% {\n",
              "      border-color: transparent;\n",
              "      border-left-color: var(--fill-color);\n",
              "      border-top-color: var(--fill-color);\n",
              "      border-right-color: var(--fill-color);\n",
              "    }\n",
              "    40% {\n",
              "      border-color: transparent;\n",
              "      border-right-color: var(--fill-color);\n",
              "      border-top-color: var(--fill-color);\n",
              "    }\n",
              "    60% {\n",
              "      border-color: transparent;\n",
              "      border-right-color: var(--fill-color);\n",
              "    }\n",
              "    80% {\n",
              "      border-color: transparent;\n",
              "      border-right-color: var(--fill-color);\n",
              "      border-bottom-color: var(--fill-color);\n",
              "    }\n",
              "    90% {\n",
              "      border-color: transparent;\n",
              "      border-bottom-color: var(--fill-color);\n",
              "    }\n",
              "  }\n",
              "</style>\n",
              "\n",
              "  <script>\n",
              "    async function quickchart(key) {\n",
              "      const quickchartButtonEl =\n",
              "        document.querySelector('#' + key + ' button');\n",
              "      quickchartButtonEl.disabled = true;  // To prevent multiple clicks.\n",
              "      quickchartButtonEl.classList.add('colab-df-spinner');\n",
              "      try {\n",
              "        const charts = await google.colab.kernel.invokeFunction(\n",
              "            'suggestCharts', [key], {});\n",
              "      } catch (error) {\n",
              "        console.error('Error during call to suggestCharts:', error);\n",
              "      }\n",
              "      quickchartButtonEl.classList.remove('colab-df-spinner');\n",
              "      quickchartButtonEl.classList.add('colab-df-quickchart-complete');\n",
              "    }\n",
              "    (() => {\n",
              "      let quickchartButtonEl =\n",
              "        document.querySelector('#df-f7b86c4a-0a61-4b4d-946f-dd140be1618c button');\n",
              "      quickchartButtonEl.style.display =\n",
              "        google.colab.kernel.accessAllowed ? 'block' : 'none';\n",
              "    })();\n",
              "  </script>\n",
              "</div>\n",
              "    </div>\n",
              "  </div>\n"
            ]
          },
          "metadata": {},
          "execution_count": 27
        }
      ],
      "source": [
        "df.head()"
      ]
    },
    {
      "cell_type": "code",
      "execution_count": null,
      "metadata": {
        "id": "c8Le5grc4J5L"
      },
      "outputs": [],
      "source": [
        "from sklearn.preprocessing import MinMaxScaler\n",
        "\n",
        "scaler = MinMaxScaler(feature_range=(0,1))\n",
        "df_scaled = scaler.fit_transform(df.values.copy())\n",
        "df_norm = df_scaled.copy()"
      ]
    },
    {
      "cell_type": "code",
      "execution_count": null,
      "metadata": {
        "colab": {
          "base_uri": "https://localhost:8080/"
        },
        "id": "VfLwrRBvHDEB",
        "outputId": "1c18c260-c41a-47b9-9946-49e24fbc57cc"
      },
      "outputs": [
        {
          "output_type": "execute_result",
          "data": {
            "text/plain": [
              "array([[0.00000000e+00, 3.33333333e-01, 5.24619585e-07, 8.52896545e-08,\n",
              "        0.00000000e+00],\n",
              "       [0.00000000e+00, 0.00000000e+00, 1.66360034e-08, 5.17953367e-09,\n",
              "        0.00000000e+00],\n",
              "       [0.00000000e+00, 3.33333333e-01, 1.09785079e-05, 2.82539714e-06,\n",
              "        0.00000000e+00],\n",
              "       ...,\n",
              "       [1.00000000e+00, 3.33333333e-01, 2.11105161e-01, 1.64473767e-04,\n",
              "        1.00000000e+00],\n",
              "       [1.00000000e+00, 0.00000000e+00, 1.74857191e-01, 1.64473767e-04,\n",
              "        1.00000000e+00],\n",
              "       [1.00000000e+00, 6.66666667e-01, 8.53291880e-03, 1.64473767e-04,\n",
              "        1.00000000e+00]])"
            ]
          },
          "metadata": {},
          "execution_count": 29
        }
      ],
      "source": [
        "df_norm"
      ]
    },
    {
      "cell_type": "markdown",
      "metadata": {
        "id": "XY3d54nMf7q_"
      },
      "source": [
        "### 3.1.5 Train and Test set"
      ]
    },
    {
      "cell_type": "code",
      "execution_count": null,
      "metadata": {
        "id": "aRlfA9zdRxTx"
      },
      "outputs": [],
      "source": [
        "from sklearn.model_selection import train_test_split"
      ]
    },
    {
      "cell_type": "code",
      "execution_count": null,
      "metadata": {
        "id": "dKv-YwgrRvIJ"
      },
      "outputs": [],
      "source": [
        "X_train, X_test = train_test_split(df_norm, test_size=0.3, random_state=42)"
      ]
    },
    {
      "cell_type": "code",
      "execution_count": null,
      "metadata": {
        "colab": {
          "base_uri": "https://localhost:8080/"
        },
        "id": "aD1ImnIy9m-T",
        "outputId": "9c31a152-7c98-4bcc-9a19-4f44ead4144f"
      },
      "outputs": [
        {
          "output_type": "execute_result",
          "data": {
            "text/plain": [
              "(254610, 5)"
            ]
          },
          "metadata": {},
          "execution_count": 32
        }
      ],
      "source": [
        "X_train.shape"
      ]
    },
    {
      "cell_type": "code",
      "execution_count": null,
      "metadata": {
        "colab": {
          "base_uri": "https://localhost:8080/"
        },
        "id": "bygF3vpe-QHH",
        "outputId": "800dbe88-1f92-424d-c3da-684c38a55bb8"
      },
      "outputs": [
        {
          "output_type": "execute_result",
          "data": {
            "text/plain": [
              "(109119, 5)"
            ]
          },
          "metadata": {},
          "execution_count": 33
        }
      ],
      "source": [
        "X_test.shape"
      ]
    },
    {
      "cell_type": "code",
      "execution_count": null,
      "metadata": {
        "colab": {
          "base_uri": "https://localhost:8080/"
        },
        "id": "YUUmB1vwJ1_N",
        "outputId": "799bd4cd-bd24-4620-c604-9322ea675646"
      },
      "outputs": [
        {
          "output_type": "stream",
          "name": "stdout",
          "text": [
            "[[5.00000000e-01 6.66666667e-01 3.25465383e-08 0.00000000e+00\n",
            "  6.51162791e-01]\n",
            " [0.00000000e+00 3.33333333e-01 5.85634441e-08 3.23994137e-07\n",
            "  2.90697674e-01]\n",
            " [5.00000000e-01 3.33333333e-01 1.02231553e-06 7.66816641e-07\n",
            "  2.32558140e-02]\n",
            " ...\n",
            " [5.00000000e-01 0.00000000e+00 1.32253469e-07 1.09454892e-07\n",
            "  4.06976744e-01]\n",
            " [0.00000000e+00 3.33333333e-01 5.17760941e-06 1.91010349e-07\n",
            "  4.41860465e-01]\n",
            " [1.00000000e+00 3.33333333e-01 8.63913130e-06 4.83269039e-06\n",
            "  3.72093023e-01]]\n"
          ]
        }
      ],
      "source": [
        "print(X_train)"
      ]
    },
    {
      "cell_type": "code",
      "execution_count": null,
      "metadata": {
        "colab": {
          "base_uri": "https://localhost:8080/"
        },
        "id": "hFgzvIMCJ4rn",
        "outputId": "f38d6eec-e2fe-4d4b-9d4b-ee195c82a432"
      },
      "outputs": [
        {
          "output_type": "execute_result",
          "data": {
            "text/plain": [
              "array([[5.00000000e-01, 6.66666667e-01, 3.25465383e-08, 0.00000000e+00],\n",
              "       [0.00000000e+00, 3.33333333e-01, 5.85634441e-08, 3.23994137e-07],\n",
              "       [5.00000000e-01, 3.33333333e-01, 1.02231553e-06, 7.66816641e-07],\n",
              "       ...,\n",
              "       [5.00000000e-01, 0.00000000e+00, 1.32253469e-07, 1.09454892e-07],\n",
              "       [0.00000000e+00, 3.33333333e-01, 5.17760941e-06, 1.91010349e-07],\n",
              "       [1.00000000e+00, 3.33333333e-01, 8.63913130e-06, 4.83269039e-06]])"
            ]
          },
          "metadata": {},
          "execution_count": 35
        }
      ],
      "source": [
        "X_train[:, 0:4]"
      ]
    },
    {
      "cell_type": "code",
      "execution_count": null,
      "metadata": {
        "colab": {
          "base_uri": "https://localhost:8080/"
        },
        "id": "NUZ8te7lMWSn",
        "outputId": "c694e738-4c59-4adb-e191-d9542a48500e"
      },
      "outputs": [
        {
          "output_type": "execute_result",
          "data": {
            "text/plain": [
              "array([0.65116279, 0.29069767, 0.02325581, ..., 0.40697674, 0.44186047,\n",
              "       0.37209302])"
            ]
          },
          "metadata": {},
          "execution_count": 36
        }
      ],
      "source": [
        "X_train[:, 4]"
      ]
    },
    {
      "cell_type": "markdown",
      "metadata": {
        "id": "dB4NM1udHYPF"
      },
      "source": [
        "## 3.2 Clustering"
      ]
    },
    {
      "cell_type": "code",
      "source": [
        "from sklearn import metrics\n",
        "import seaborn as sns\n",
        "import matplotlib.pyplot as plt"
      ],
      "metadata": {
        "id": "gyxwOUki_fFx"
      },
      "execution_count": null,
      "outputs": []
    },
    {
      "cell_type": "markdown",
      "metadata": {
        "id": "vu82vWrnPCMp"
      },
      "source": [
        "### 3.2.1 K-Means"
      ]
    },
    {
      "cell_type": "code",
      "execution_count": null,
      "metadata": {
        "id": "jLMv7n2Zz-5o"
      },
      "outputs": [],
      "source": [
        "from yellowbrick.cluster import KElbowVisualizer"
      ]
    },
    {
      "cell_type": "code",
      "execution_count": null,
      "metadata": {
        "colab": {
          "base_uri": "https://localhost:8080/",
          "height": 802
        },
        "id": "HM8ASfz40CT3",
        "outputId": "2b7d00b9-486e-4310-e35a-47eb0916e6c0"
      },
      "outputs": [
        {
          "output_type": "stream",
          "name": "stderr",
          "text": [
            "/usr/local/lib/python3.10/dist-packages/sklearn/cluster/_kmeans.py:870: FutureWarning: The default value of `n_init` will change from 10 to 'auto' in 1.4. Set the value of `n_init` explicitly to suppress the warning\n",
            "  warnings.warn(\n",
            "/usr/local/lib/python3.10/dist-packages/sklearn/cluster/_kmeans.py:870: FutureWarning: The default value of `n_init` will change from 10 to 'auto' in 1.4. Set the value of `n_init` explicitly to suppress the warning\n",
            "  warnings.warn(\n",
            "/usr/local/lib/python3.10/dist-packages/sklearn/cluster/_kmeans.py:870: FutureWarning: The default value of `n_init` will change from 10 to 'auto' in 1.4. Set the value of `n_init` explicitly to suppress the warning\n",
            "  warnings.warn(\n",
            "/usr/local/lib/python3.10/dist-packages/sklearn/cluster/_kmeans.py:870: FutureWarning: The default value of `n_init` will change from 10 to 'auto' in 1.4. Set the value of `n_init` explicitly to suppress the warning\n",
            "  warnings.warn(\n",
            "/usr/local/lib/python3.10/dist-packages/sklearn/cluster/_kmeans.py:870: FutureWarning: The default value of `n_init` will change from 10 to 'auto' in 1.4. Set the value of `n_init` explicitly to suppress the warning\n",
            "  warnings.warn(\n",
            "/usr/local/lib/python3.10/dist-packages/sklearn/cluster/_kmeans.py:870: FutureWarning: The default value of `n_init` will change from 10 to 'auto' in 1.4. Set the value of `n_init` explicitly to suppress the warning\n",
            "  warnings.warn(\n",
            "/usr/local/lib/python3.10/dist-packages/sklearn/cluster/_kmeans.py:870: FutureWarning: The default value of `n_init` will change from 10 to 'auto' in 1.4. Set the value of `n_init` explicitly to suppress the warning\n",
            "  warnings.warn(\n",
            "/usr/local/lib/python3.10/dist-packages/sklearn/cluster/_kmeans.py:870: FutureWarning: The default value of `n_init` will change from 10 to 'auto' in 1.4. Set the value of `n_init` explicitly to suppress the warning\n",
            "  warnings.warn(\n"
          ]
        },
        {
          "output_type": "display_data",
          "data": {
            "text/plain": [
              "<Figure size 800x550 with 2 Axes>"
            ],
            "image/png": "[encoded data removed]"
          },
          "metadata": {}
        }
      ],
      "source": [
        "from sklearn.cluster import KMeans\n",
        "# Instantiate the clustering model and visualizer\n",
        "model = KMeans()\n",
        "visualizer = KElbowVisualizer(model, k=(2, 10))\n",
        "\n",
        "visualizer.fit(X_train) # Fit the data to the visualizer\n",
        "visualizer.show() # Finalize and render the figure\n",
        "plt.show()"
      ]
    },
    {
      "cell_type": "code",
      "execution_count": null,
      "metadata": {
        "colab": {
          "base_uri": "https://localhost:8080/",
          "height": 536
        },
        "id": "8jRiqKVPBVW7",
        "outputId": "080427e8-e1ec-4445-8f72-fd08bc6501c1"
      },
      "outputs": [
        {
          "output_type": "stream",
          "name": "stderr",
          "text": [
            "/usr/local/lib/python3.10/dist-packages/sklearn/cluster/_kmeans.py:870: FutureWarning: The default value of `n_init` will change from 10 to 'auto' in 1.4. Set the value of `n_init` explicitly to suppress the warning\n",
            "  warnings.warn(\n"
          ]
        },
        {
          "output_type": "stream",
          "name": "stdout",
          "text": [
            "0.36153676018990427\n"
          ]
        },
        {
          "output_type": "display_data",
          "data": {
            "text/plain": [
              "<Figure size 800x550 with 1 Axes>"
            ],
            "image/png": "[encoded data removed]"
          },
          "metadata": {}
        }
      ],
      "source": [
        "# Menginstansiasi kelas KMeans dan menetapkan jumlah cluster\n",
        "km_model1 = KMeans(n_clusters=5).fit(X_train)\n",
        "labels = km_model1.labels_\n",
        "hue = [str(i) for i in labels]\n",
        "\n",
        "# Mencetak Nilai Silhouette Score\n",
        "silhouette_score = metrics.silhouette_score(X_train, labels)\n",
        "print(silhouette_score)\n",
        "\n",
        "# Menetapkan palet warna khusus dengan warna yang berbeda untuk setiap cluster\n",
        "palette = sns.color_palette('husl', n_colors=len(set(labels)))\n",
        "\n",
        "# Visualisasi scatter plot dengan warna cluster yang berbeda\n",
        "sns.scatterplot(x=X_train[:, 2], y=X_train[:, 3], hue=hue, palette=palette)\n",
        "\n",
        "plt.show()"
      ]
    },
    {
      "cell_type": "code",
      "execution_count": null,
      "metadata": {
        "colab": {
          "base_uri": "https://localhost:8080/",
          "height": 445
        },
        "id": "BYC6BmdaAY29",
        "outputId": "6c330e00-dc0a-44a6-a477-02c63024ae05"
      },
      "outputs": [
        {
          "output_type": "display_data",
          "data": {
            "text/plain": [
              "<Figure size 700x500 with 1 Axes>"
            ],
            "image/png": "[encoded data removed]"
          },
          "metadata": {}
        }
      ],
      "source": [
        "from sklearn.cluster import KMeans\n",
        "avgs = []\n",
        "for k in range(2, 6):\n",
        "  kmean = KMeans(n_clusters=k).fit(X_train)\n",
        "  avgs.append(metrics.silhouette_score(X_train, kmean.labels_))\n",
        "\n",
        "# Membuat gambar dan sumbu\n",
        "f, ax = plt.subplots(figsize=(7, 5))\n",
        "\n",
        "# Plot skor siluet\n",
        "ax.plot(range(2, 6), avgs)  # Mengasumsikan Anda ingin mempertahankan rentang k di sumbu x\n",
        "\n",
        "# Menyesuaikan tanda sumbu x dan labelnya\n",
        "new_xticks = range(2, 6)  # Sesuaikan sesuai kebutuhan\n",
        "plt.xticks(new_xticks, labels=[f'K={k}' for k in new_xticks])  # Memberi label setiap tanda dengan awalan 'K='\n",
        "\n",
        "# Menampilkan plot\n",
        "plt.show()"
      ]
    },
    {
      "cell_type": "code",
      "source": [
        "# Menginstansiasi kelas KMeans dan menetapkan jumlah cluster\n",
        "km_model2 = KMeans(n_clusters=4).fit(X_train)\n",
        "labels = km_model2.labels_\n",
        "hue = [str(i) for i in labels]\n",
        "\n",
        "# Mencetak Nilai Silhouette Score\n",
        "silhouette_score = metrics.silhouette_score(X_train, labels)\n",
        "print(silhouette_score)\n",
        "\n",
        "# Menetapkan palet warna khusus dengan warna yang berbeda untuk setiap cluster\n",
        "palette = sns.color_palette('husl', n_colors=len(set(labels)))\n",
        "\n",
        "# Visualisasi scatter plot dengan warna cluster yang berbeda\n",
        "sns.scatterplot(x=X_train[:, 2], y=X_train[:, 3], hue=hue, palette=palette)\n",
        "\n",
        "plt.show()"
      ],
      "metadata": {
        "colab": {
          "base_uri": "https://localhost:8080/",
          "height": 536
        },
        "id": "ASczqBlh1hGq",
        "outputId": "f0e18d01-6e16-40df-d052-4bf8b8bf5575"
      },
      "execution_count": null,
      "outputs": [
        {
          "output_type": "stream",
          "name": "stderr",
          "text": [
            "/usr/local/lib/python3.10/dist-packages/sklearn/cluster/_kmeans.py:870: FutureWarning: The default value of `n_init` will change from 10 to 'auto' in 1.4. Set the value of `n_init` explicitly to suppress the warning\n",
            "  warnings.warn(\n"
          ]
        },
        {
          "output_type": "stream",
          "name": "stdout",
          "text": [
            "0.36224263566607634\n"
          ]
        },
        {
          "output_type": "display_data",
          "data": {
            "text/plain": [
              "<Figure size 800x550 with 1 Axes>"
            ],
            "image/png": "[encoded data removed]"
          },
          "metadata": {}
        }
      ]
    },
    {
      "cell_type": "markdown",
      "metadata": {
        "id": "oteBA8P_R83h"
      },
      "source": [
        "### 3.2.2 Mini Batch K-Means"
      ]
    },
    {
      "cell_type": "code",
      "execution_count": null,
      "metadata": {
        "id": "B_JzlV9l-J5t"
      },
      "outputs": [],
      "source": [
        "from yellowbrick.cluster import KElbowVisualizer"
      ]
    },
    {
      "cell_type": "code",
      "execution_count": null,
      "metadata": {
        "colab": {
          "base_uri": "https://localhost:8080/",
          "height": 802
        },
        "id": "fWjVkumzZ6uy",
        "outputId": "5539030f-6acc-428d-8b5d-ff43081d4a04"
      },
      "outputs": [
        {
          "output_type": "stream",
          "name": "stderr",
          "text": [
            "/usr/local/lib/python3.10/dist-packages/sklearn/cluster/_kmeans.py:870: FutureWarning: The default value of `n_init` will change from 3 to 'auto' in 1.4. Set the value of `n_init` explicitly to suppress the warning\n",
            "  warnings.warn(\n",
            "/usr/local/lib/python3.10/dist-packages/sklearn/cluster/_kmeans.py:870: FutureWarning: The default value of `n_init` will change from 3 to 'auto' in 1.4. Set the value of `n_init` explicitly to suppress the warning\n",
            "  warnings.warn(\n",
            "/usr/local/lib/python3.10/dist-packages/sklearn/cluster/_kmeans.py:870: FutureWarning: The default value of `n_init` will change from 3 to 'auto' in 1.4. Set the value of `n_init` explicitly to suppress the warning\n",
            "  warnings.warn(\n",
            "/usr/local/lib/python3.10/dist-packages/sklearn/cluster/_kmeans.py:870: FutureWarning: The default value of `n_init` will change from 3 to 'auto' in 1.4. Set the value of `n_init` explicitly to suppress the warning\n",
            "  warnings.warn(\n",
            "/usr/local/lib/python3.10/dist-packages/sklearn/cluster/_kmeans.py:870: FutureWarning: The default value of `n_init` will change from 3 to 'auto' in 1.4. Set the value of `n_init` explicitly to suppress the warning\n",
            "  warnings.warn(\n",
            "/usr/local/lib/python3.10/dist-packages/sklearn/cluster/_kmeans.py:870: FutureWarning: The default value of `n_init` will change from 3 to 'auto' in 1.4. Set the value of `n_init` explicitly to suppress the warning\n",
            "  warnings.warn(\n",
            "/usr/local/lib/python3.10/dist-packages/sklearn/cluster/_kmeans.py:870: FutureWarning: The default value of `n_init` will change from 3 to 'auto' in 1.4. Set the value of `n_init` explicitly to suppress the warning\n",
            "  warnings.warn(\n",
            "/usr/local/lib/python3.10/dist-packages/sklearn/cluster/_kmeans.py:870: FutureWarning: The default value of `n_init` will change from 3 to 'auto' in 1.4. Set the value of `n_init` explicitly to suppress the warning\n",
            "  warnings.warn(\n"
          ]
        },
        {
          "output_type": "display_data",
          "data": {
            "text/plain": [
              "<Figure size 800x550 with 2 Axes>"
            ],
            "image/png": "[encoded data removed]"
          },
          "metadata": {}
        }
      ],
      "source": [
        "from sklearn.cluster import MiniBatchKMeans\n",
        "# Instantiate the clustering model and visualizer\n",
        "model = MiniBatchKMeans()\n",
        "visualizer = KElbowVisualizer(model, k=(2, 10))\n",
        "\n",
        "visualizer.fit(X_train) # Fit the data to the visualizer\n",
        "visualizer.show() # Finalize and render the figure\n",
        "plt.show()"
      ]
    },
    {
      "cell_type": "code",
      "execution_count": null,
      "metadata": {
        "id": "w8_NHE_hZ6uy",
        "colab": {
          "base_uri": "https://localhost:8080/",
          "height": 536
        },
        "outputId": "2dd2f447-a93e-44a3-a077-fa340ba89b14"
      },
      "outputs": [
        {
          "output_type": "stream",
          "name": "stderr",
          "text": [
            "/usr/local/lib/python3.10/dist-packages/sklearn/cluster/_kmeans.py:870: FutureWarning: The default value of `n_init` will change from 3 to 'auto' in 1.4. Set the value of `n_init` explicitly to suppress the warning\n",
            "  warnings.warn(\n"
          ]
        },
        {
          "output_type": "stream",
          "name": "stdout",
          "text": [
            "0.3269114035785749\n"
          ]
        },
        {
          "output_type": "display_data",
          "data": {
            "text/plain": [
              "<Figure size 800x550 with 1 Axes>"
            ],
            "image/png": "[encoded data removed]"
          },
          "metadata": {}
        }
      ],
      "source": [
        "from sklearn.cluster import MiniBatchKMeans\n",
        "\n",
        "# Menginstansiasi kelas MiniBatchKMeans dan menetapkan jumlah cluster\n",
        "km_model3 = MiniBatchKMeans(n_clusters=4).fit(X_train)\n",
        "labels = km_model3.labels_\n",
        "hue = [str(i) for i in labels]\n",
        "\n",
        "# Mencetak Nilai Silhouette Score\n",
        "silhouette_score = metrics.silhouette_score(X_train, labels)\n",
        "print(silhouette_score)\n",
        "\n",
        "# Menetapkan palet warna khusus dengan warna yang berbeda untuk setiap cluster\n",
        "palette = sns.color_palette('husl', n_colors=len(set(labels)))\n",
        "\n",
        "# Visualisasi scatter plot dengan warna cluster yang berbeda\n",
        "sns.scatterplot(x=X_train[:, 2], y=X_train[:, 3], hue=hue, palette=palette)\n",
        "\n",
        "plt.show()"
      ]
    },
    {
      "cell_type": "code",
      "source": [
        "from sklearn.cluster import MiniBatchKMeans\n",
        "avgs = []\n",
        "for k in range(2, 6):\n",
        "  kmean = MiniBatchKMeans(n_clusters=k).fit(X_train)\n",
        "  avgs.append(metrics.silhouette_score(X_train, kmean.labels_))\n",
        "\n",
        "# Membuat gambar dan sumbu\n",
        "f, ax = plt.subplots(figsize=(7, 5))\n",
        "\n",
        "# Plot skor siluet\n",
        "ax.plot(range(2, 6), avgs)  # Mengasumsikan Anda ingin mempertahankan rentang k di sumbu x\n",
        "\n",
        "# Menyesuaikan tanda sumbu x dan labelnya\n",
        "new_xticks = range(2, 6)  # Sesuaikan sesuai kebutuhan\n",
        "plt.xticks(new_xticks, labels=[f'K={k}' for k in new_xticks])  # Memberi label setiap tanda dengan awalan 'K='\n",
        "\n",
        "# Menampilkan plot\n",
        "plt.show()"
      ],
      "metadata": {
        "colab": {
          "base_uri": "https://localhost:8080/",
          "height": 584
        },
        "id": "b1yANdKJ_Z4W",
        "outputId": "cae701a4-87ec-4fdc-ccf3-ae252c4064b1"
      },
      "execution_count": null,
      "outputs": [
        {
          "output_type": "stream",
          "name": "stderr",
          "text": [
            "/usr/local/lib/python3.10/dist-packages/sklearn/cluster/_kmeans.py:870: FutureWarning: The default value of `n_init` will change from 3 to 'auto' in 1.4. Set the value of `n_init` explicitly to suppress the warning\n",
            "  warnings.warn(\n",
            "/usr/local/lib/python3.10/dist-packages/sklearn/cluster/_kmeans.py:870: FutureWarning: The default value of `n_init` will change from 3 to 'auto' in 1.4. Set the value of `n_init` explicitly to suppress the warning\n",
            "  warnings.warn(\n",
            "/usr/local/lib/python3.10/dist-packages/sklearn/cluster/_kmeans.py:870: FutureWarning: The default value of `n_init` will change from 3 to 'auto' in 1.4. Set the value of `n_init` explicitly to suppress the warning\n",
            "  warnings.warn(\n",
            "/usr/local/lib/python3.10/dist-packages/sklearn/cluster/_kmeans.py:870: FutureWarning: The default value of `n_init` will change from 3 to 'auto' in 1.4. Set the value of `n_init` explicitly to suppress the warning\n",
            "  warnings.warn(\n"
          ]
        },
        {
          "output_type": "display_data",
          "data": {
            "text/plain": [
              "<Figure size 700x500 with 1 Axes>"
            ],
            "image/png": "[encoded data removed]"
          },
          "metadata": {}
        }
      ]
    },
    {
      "cell_type": "code",
      "execution_count": null,
      "metadata": {
        "id": "Ty2Dyfa-ZwGf",
        "colab": {
          "base_uri": "https://localhost:8080/",
          "height": 536
        },
        "outputId": "6db6e144-4536-49c0-9c44-a10bcb31219a"
      },
      "outputs": [
        {
          "output_type": "stream",
          "name": "stderr",
          "text": [
            "/usr/local/lib/python3.10/dist-packages/sklearn/cluster/_kmeans.py:870: FutureWarning: The default value of `n_init` will change from 3 to 'auto' in 1.4. Set the value of `n_init` explicitly to suppress the warning\n",
            "  warnings.warn(\n"
          ]
        },
        {
          "output_type": "stream",
          "name": "stdout",
          "text": [
            "0.30231057291734986\n"
          ]
        },
        {
          "output_type": "display_data",
          "data": {
            "text/plain": [
              "<Figure size 800x550 with 1 Axes>"
            ],
            "image/png": "[encoded data removed]"
          },
          "metadata": {}
        }
      ],
      "source": [
        "# Menginstansiasi kelas KMeans dan menetapkan jumlah cluster\n",
        "km_model4 = MiniBatchKMeans(n_clusters=3).fit(X_train)\n",
        "labels = km_model4.labels_\n",
        "hue = [str(i) for i in labels]\n",
        "\n",
        "# Mencetak Nilai Silhouette Score\n",
        "silhouette_score = metrics.silhouette_score(X_train, labels)\n",
        "print(silhouette_score)\n",
        "\n",
        "# Menetapkan palet warna khusus dengan warna yang berbeda untuk setiap cluster\n",
        "palette = sns.color_palette('husl', n_colors=len(set(labels)))\n",
        "\n",
        "# Visualisasi scatter plot dengan warna cluster yang berbeda\n",
        "sns.scatterplot(x=X_train[:, 2], y=X_train[:, 3], hue=hue, palette=palette)\n",
        "\n",
        "plt.show()"
      ]
    },
    {
      "cell_type": "code",
      "source": [
        "# Menginstansiasi kelas KMeans dan menetapkan jumlah cluster\n",
        "km_model4 = MiniBatchKMeans(n_clusters=5).fit(X_train)\n",
        "labels = km_model4.labels_\n",
        "hue = [str(i) for i in labels]\n",
        "\n",
        "# Mencetak Nilai Silhouette Score\n",
        "silhouette_score = metrics.silhouette_score(X_train, labels)\n",
        "print(silhouette_score)\n",
        "\n",
        "# Menetapkan palet warna khusus dengan warna yang berbeda untuk setiap cluster\n",
        "palette = sns.color_palette('husl', n_colors=len(set(labels)))\n",
        "\n",
        "# Visualisasi scatter plot dengan warna cluster yang berbeda\n",
        "sns.scatterplot(x=X_train[:, 2], y=X_train[:, 3], hue=hue, palette=palette)\n",
        "\n",
        "plt.show()"
      ],
      "metadata": {
        "colab": {
          "base_uri": "https://localhost:8080/",
          "height": 536
        },
        "id": "EbpV8FwrydBE",
        "outputId": "200ee731-2394-47d4-9f80-5593f590707c"
      },
      "execution_count": null,
      "outputs": [
        {
          "output_type": "stream",
          "name": "stderr",
          "text": [
            "/usr/local/lib/python3.10/dist-packages/sklearn/cluster/_kmeans.py:870: FutureWarning: The default value of `n_init` will change from 3 to 'auto' in 1.4. Set the value of `n_init` explicitly to suppress the warning\n",
            "  warnings.warn(\n"
          ]
        },
        {
          "output_type": "stream",
          "name": "stdout",
          "text": [
            "0.36566865450032265\n"
          ]
        },
        {
          "output_type": "display_data",
          "data": {
            "text/plain": [
              "<Figure size 800x550 with 1 Axes>"
            ],
            "image/png": "[encoded data removed]"
          },
          "metadata": {}
        }
      ]
    },
    {
      "cell_type": "markdown",
      "metadata": {
        "id": "w047OzX7t6f_"
      },
      "source": [
        "#**4. Evaluasi Model**"
      ]
    },
    {
      "cell_type": "markdown",
      "metadata": {
        "id": "u9j0eefER3d_"
      },
      "source": [
        "## 4.1 K-Means"
      ]
    },
    {
      "cell_type": "code",
      "execution_count": null,
      "metadata": {
        "id": "5Pb21Mk-3kbZ",
        "colab": {
          "base_uri": "https://localhost:8080/"
        },
        "outputId": "1c1c4f60-27c5-4237-aae5-c4bd732a9d44"
      },
      "outputs": [
        {
          "output_type": "stream",
          "name": "stderr",
          "text": [
            "/usr/local/lib/python3.10/dist-packages/sklearn/cluster/_kmeans.py:870: FutureWarning: The default value of `n_init` will change from 10 to 'auto' in 1.4. Set the value of `n_init` explicitly to suppress the warning\n",
            "  warnings.warn(\n"
          ]
        },
        {
          "output_type": "stream",
          "name": "stdout",
          "text": [
            "for n_clusters = 2, silhouette score is 0.3246977828214683\n"
          ]
        },
        {
          "output_type": "stream",
          "name": "stderr",
          "text": [
            "/usr/local/lib/python3.10/dist-packages/sklearn/cluster/_kmeans.py:870: FutureWarning: The default value of `n_init` will change from 10 to 'auto' in 1.4. Set the value of `n_init` explicitly to suppress the warning\n",
            "  warnings.warn(\n"
          ]
        },
        {
          "output_type": "stream",
          "name": "stdout",
          "text": [
            "for n_clusters = 3, silhouette score is 0.35341956352499626\n"
          ]
        },
        {
          "output_type": "stream",
          "name": "stderr",
          "text": [
            "/usr/local/lib/python3.10/dist-packages/sklearn/cluster/_kmeans.py:870: FutureWarning: The default value of `n_init` will change from 10 to 'auto' in 1.4. Set the value of `n_init` explicitly to suppress the warning\n",
            "  warnings.warn(\n"
          ]
        },
        {
          "output_type": "stream",
          "name": "stdout",
          "text": [
            "for n_clusters = 4, silhouette score is 0.3620577709532429\n"
          ]
        },
        {
          "output_type": "stream",
          "name": "stderr",
          "text": [
            "/usr/local/lib/python3.10/dist-packages/sklearn/cluster/_kmeans.py:870: FutureWarning: The default value of `n_init` will change from 10 to 'auto' in 1.4. Set the value of `n_init` explicitly to suppress the warning\n",
            "  warnings.warn(\n"
          ]
        },
        {
          "output_type": "stream",
          "name": "stdout",
          "text": [
            "for n_clusters = 5, silhouette score is 0.36153676018990427\n"
          ]
        }
      ],
      "source": [
        "for n_clusters in range(2, 6):\n",
        "  km= KMeans(n_clusters=n_clusters)\n",
        "  preds= km.fit_predict(X_train)\n",
        "  centers = km.cluster_centers_\n",
        "\n",
        "  score = metrics.silhouette_score(X_train, preds, metric= 'euclidean')\n",
        "  print('for n_clusters = {}, silhouette score is {}'. format(n_clusters, score))"
      ]
    },
    {
      "cell_type": "markdown",
      "metadata": {
        "id": "YbRozTFxSFLa"
      },
      "source": [
        "## 4.2  Mini Batch K-Means"
      ]
    },
    {
      "cell_type": "code",
      "execution_count": null,
      "metadata": {
        "id": "lpUQNJDc3lLY",
        "colab": {
          "base_uri": "https://localhost:8080/"
        },
        "outputId": "46e6cc02-9a45-4605-eaa1-b071fad2c817"
      },
      "outputs": [
        {
          "metadata": {
            "tags": null
          },
          "name": "stderr",
          "output_type": "stream",
          "text": [
            "/usr/local/lib/python3.10/dist-packages/sklearn/cluster/_kmeans.py:870: FutureWarning: The default value of `n_init` will change from 3 to 'auto' in 1.4. Set the value of `n_init` explicitly to suppress the warning\n",
            "  warnings.warn(\n"
          ]
        },
        {
          "metadata": {
            "tags": null
          },
          "name": "stdout",
          "output_type": "stream",
          "text": [
            "for n_clusters = 2, silhouette score is 0.3246977828214683\n"
          ]
        },
        {
          "metadata": {
            "tags": null
          },
          "name": "stderr",
          "output_type": "stream",
          "text": [
            "/usr/local/lib/python3.10/dist-packages/sklearn/cluster/_kmeans.py:870: FutureWarning: The default value of `n_init` will change from 3 to 'auto' in 1.4. Set the value of `n_init` explicitly to suppress the warning\n",
            "  warnings.warn(\n"
          ]
        },
        {
          "metadata": {
            "tags": null
          },
          "name": "stdout",
          "output_type": "stream",
          "text": [
            "for n_clusters = 3, silhouette score is 0.31703521291467157\n"
          ]
        },
        {
          "metadata": {
            "tags": null
          },
          "name": "stderr",
          "output_type": "stream",
          "text": [
            "/usr/local/lib/python3.10/dist-packages/sklearn/cluster/_kmeans.py:870: FutureWarning: The default value of `n_init` will change from 3 to 'auto' in 1.4. Set the value of `n_init` explicitly to suppress the warning\n",
            "  warnings.warn(\n"
          ]
        },
        {
          "output_type": "stream",
          "name": "stdout",
          "text": [
            "for n_clusters = 4, silhouette score is 0.3249484377418949\n"
          ]
        }
      ],
      "source": [
        "for n_clusters in range(2, 5):\n",
        "  km= MiniBatchKMeans(n_clusters=n_clusters)\n",
        "  preds= km.fit_predict(X_train)\n",
        "  centers = km.cluster_centers_\n",
        "\n",
        "  score = metrics.silhouette_score(X_train, preds, metric= 'euclidean')\n",
        "  print('for n_clusters = {}, silhouette score is {}'. format(n_clusters, score))"
      ]
    },
    {
      "cell_type": "code",
      "source": [
        "km= MiniBatchKMeans(n_clusters=5)\n",
        "preds= km.fit_predict(X_train)\n",
        "centers = km.cluster_centers_\n",
        "\n",
        "score = metrics.silhouette_score(X_train, preds, metric= 'euclidean')\n",
        "print('for n_clusters = {}, silhouette score is {}'. format(n_clusters, score))"
      ],
      "metadata": {
        "colab": {
          "base_uri": "https://localhost:8080/"
        },
        "id": "xioPh20lLxpw",
        "outputId": "709cbbeb-73b3-49bd-e983-6615ffae45bf"
      },
      "execution_count": null,
      "outputs": [
        {
          "output_type": "stream",
          "name": "stderr",
          "text": [
            "/usr/local/lib/python3.10/dist-packages/sklearn/cluster/_kmeans.py:870: FutureWarning: The default value of `n_init` will change from 3 to 'auto' in 1.4. Set the value of `n_init` explicitly to suppress the warning\n",
            "  warnings.warn(\n"
          ]
        },
        {
          "output_type": "stream",
          "name": "stdout",
          "text": [
            "for n_clusters = 4, silhouette score is 0.3595711226805552\n"
          ]
        }
      ]
    }
  ],
  "metadata": {
    "accelerator": "TPU",
    "colab": {
      "provenance": [],
      "include_colab_link": true
    },
    "kernelspec": {
      "display_name": "Python 3",
      "name": "python3"
    },
    "language_info": {
      "name": "python"
    }
  },
  "nbformat": 4,
  "nbformat_minor": 0
}